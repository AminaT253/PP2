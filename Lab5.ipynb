{
 "cells": [
  {
   "cell_type": "markdown",
   "id": "c1893d8c-3b65-49ea-8370-0f6c29b6e9b1",
   "metadata": {},
   "source": [
    "1. Write a Python program that matches a string that has an `'a'` followed by zero or more `'b'`'s.\n",
    " \n",
    "2. Write a Python program that matches a string that has an `'a'` followed by two to three `'b'`.\n",
    " \n",
    "3. Write a Python program to find sequences of lowercase letters joined with a underscore.\n",
    " \n",
    "4. Write a Python program to find the sequences of one upper case letter followed by lower case letters.\n",
    " \n",
    "5. Write a Python program that matches a string that has an `'a'` followed by anything, ending in `'b'`.\n",
    " \n",
    "6. Write a Python program to replace all occurrences of space, comma, or dot with a colon.\n",
    " \n",
    "7. Write a python program to convert snake case string to camel case string.\n",
    " \n",
    "8. Write a Python program to split a string at uppercase letters.\n",
    " \n",
    "9. Write a Python program to insert spaces between words starting with capital letters.\n",
    " \n",
    "10. Write a Python program to convert a given camel case string to snake case."
   ]
  },
  {
   "cell_type": "code",
   "execution_count": 212,
   "id": "954dccb3-8f78-4512-954f-fba1e045ff10",
   "metadata": {},
   "outputs": [
    {
     "name": "stdin",
     "output_type": "stream",
     "text": [
      " abab\n"
     ]
    },
    {
     "name": "stdout",
     "output_type": "stream",
     "text": [
      "['ab', 'ab']\n"
     ]
    }
   ],
   "source": [
    "#1 Write a Python program that matches a string that has an 'a' followed by zero or more 'b''s.\n",
    "import re\n",
    "\n",
    "x = input()\n",
    "\n",
    "a = re.findall(\"ab*\", x)\n",
    "\n",
    "print(a)"
   ]
  },
  {
   "cell_type": "code",
   "execution_count": 214,
   "id": "86ba896d-6257-4e9c-88b5-d9135f5b9653",
   "metadata": {},
   "outputs": [
    {
     "name": "stdin",
     "output_type": "stream",
     "text": [
      " abb\n"
     ]
    },
    {
     "name": "stdout",
     "output_type": "stream",
     "text": [
      "Matches: ['abb'].\n"
     ]
    }
   ],
   "source": [
    "#2 Write a Python program that matches a string that has an 'a' followed by two to three 'b'.\n",
    "import re\n",
    "\n",
    "x = input()\n",
    "\n",
    "a = re.findall(\"ab{2,3}\", x)\n",
    "\n",
    "if a:\n",
    "    print(f\"Matches: {a}.\")\n",
    "else:\n",
    "    print(\"No matches\")"
   ]
  },
  {
   "cell_type": "code",
   "execution_count": 3,
   "id": "2c389fb5-9949-4422-8bf3-69d3ebccb990",
   "metadata": {},
   "outputs": [
    {
     "name": "stdout",
     "output_type": "stream",
     "text": [
      "Sequences of lowercase letters joined with a underscore: ['my_name', 'is', 'mina_'].\n"
     ]
    }
   ],
   "source": [
    "#3 Write a Python program to find sequences of lowercase letters joined with a underscore.\n",
    "import re \n",
    "\n",
    "x = \"my_name is Amina_T\"\n",
    "\n",
    "a = re.findall(r\"[a-z_]+\", x)\n",
    "\n",
    "if a:\n",
    "    print(f\"Sequences of lowercase letters joined with a underscore: {a}.\")\n",
    "else:\n",
    "    print(\"There is no such sequences\")"
   ]
  },
  {
   "cell_type": "code",
   "execution_count": 7,
   "id": "f76b886e-d5bb-4ba4-af32-28eeb1e3bf07",
   "metadata": {},
   "outputs": [
    {
     "name": "stdout",
     "output_type": "stream",
     "text": [
      "Sequences of one upper case letter followed by lower case letters: ['Amina', 'The'].\n"
     ]
    }
   ],
   "source": [
    "#4 Write a Python program to find the sequences of one upper case letter followed by lower case letters.\n",
    "\n",
    "import re\n",
    "\n",
    "x = \"Amina, KBTU is The best\"\n",
    "\n",
    "a = re.findall(r\"[A-Z]{1}[a-z]+\", x)\n",
    "\n",
    "if a:\n",
    "    print(f\"Sequences of one upper case letter followed by lower case letters: {a}.\")\n",
    "else:\n",
    "    print(\"There is no such sequences\")"
   ]
  },
  {
   "cell_type": "code",
   "execution_count": 21,
   "id": "d5aefc52-64f9-4c51-b225-1e0ffff77e19",
   "metadata": {},
   "outputs": [
    {
     "name": "stdout",
     "output_type": "stream",
     "text": [
      "A string that has an 'a' followed by anything, ending in 'b': ['amlb', 'arendb'].\n"
     ]
    }
   ],
   "source": [
    "#5 Write a Python program that matches a string that has an 'a' followed by anything, ending in 'b'.\n",
    "\n",
    "import re\n",
    "\n",
    "x = \"amlb and arendb\"\n",
    "\n",
    "a = re.findall(r\"a[^ ]*b\", x)\n",
    "\n",
    "if a:\n",
    "    print(f\"A string that has an 'a' followed by anything, ending in 'b': {a}.\")\n",
    "else:\n",
    "    print(\"There is no such strings\")"
   ]
  },
  {
   "cell_type": "code",
   "execution_count": 29,
   "id": "63eb7858-796f-47b0-a5e7-6ae8e28b9c67",
   "metadata": {},
   "outputs": [
    {
     "name": "stdout",
     "output_type": "stream",
     "text": [
      "Hello::dear:student:\n"
     ]
    }
   ],
   "source": [
    "#6 Write a Python program to replace all occurrences of space, comma, or dot with a colon.\n",
    "\n",
    "import re\n",
    "\n",
    "x = \"Hello, dear student.\"\n",
    "\n",
    "a = re.sub(\"[ ,.]\", \":\", x)\n",
    "\n",
    "print(a)"
   ]
  },
  {
   "cell_type": "code",
   "execution_count": 33,
   "id": "b015c2a9-c6cf-4f1d-828f-80274de3d3e9",
   "metadata": {},
   "outputs": [
    {
     "name": "stdout",
     "output_type": "stream",
     "text": [
      "myNameIsAmina\n"
     ]
    }
   ],
   "source": [
    "#7 Write a python program to convert snake case string to camel case string.\n",
    "\n",
    "import re \n",
    "\n",
    "x = \"my_name_is_Amina\"\n",
    "\n",
    "a = re.sub(\"_(.)\", lambda b: b.group(1).upper(), x)\n",
    "\n",
    "print(a)"
   ]
  },
  {
   "cell_type": "code",
   "execution_count": 37,
   "id": "bd4e08f4-4ac3-4dae-aed6-0e3856d74eb8",
   "metadata": {},
   "outputs": [
    {
     "name": "stdout",
     "output_type": "stream",
     "text": [
      "['Such', 'A', 'Good', 'Weather']\n"
     ]
    }
   ],
   "source": [
    "#8 Write a Python program to split a string at uppercase letters.\n",
    "\n",
    "import re\n",
    "\n",
    "x = \"SuchAGoodWeather\"\n",
    "\n",
    "a = re.findall(r\"[A-Z][a-z]*\", x)\n",
    "\n",
    "print(a)"
   ]
  },
  {
   "cell_type": "code",
   "execution_count": 59,
   "id": "d133d604-5378-4800-bf8a-3da437a270dc",
   "metadata": {},
   "outputs": [
    {
     "name": "stdout",
     "output_type": "stream",
     "text": [
      " Such A Good Weather\n"
     ]
    }
   ],
   "source": [
    "#9 Write a Python program to insert spaces between words starting with capital letters.\n",
    "\n",
    "import re\n",
    "\n",
    "x = \"SuchAGoodWeather\"\n",
    "\n",
    "a = re.sub(\"([A-Z])\", lambda b: \" \" + b.group(1)[0], x)\n",
    "\n",
    "print(a)"
   ]
  },
  {
   "cell_type": "code",
   "execution_count": 57,
   "id": "2af699d5-f833-4e8f-97b8-847ac70300ea",
   "metadata": {},
   "outputs": [
    {
     "name": "stdout",
     "output_type": "stream",
     "text": [
      "my_name_is\n"
     ]
    }
   ],
   "source": [
    "#10 Write a Python program to convert a given camel case string to snake case.\n",
    "\n",
    "import re\n",
    "\n",
    "x = \"myNameIs\"\n",
    "\n",
    "a = re.sub(r\"([A-Z])\", lambda b: \"_\" + b.group(1)[0].lower(), x)\n",
    "\n",
    "print(a)"
   ]
  }
 ],
 "metadata": {
  "kernelspec": {
   "display_name": "Python [conda env:base] *",
   "language": "python",
   "name": "conda-base-py"
  },
  "language_info": {
   "codemirror_mode": {
    "name": "ipython",
    "version": 3
   },
   "file_extension": ".py",
   "mimetype": "text/x-python",
   "name": "python",
   "nbconvert_exporter": "python",
   "pygments_lexer": "ipython3",
   "version": "3.12.7"
  }
 },
 "nbformat": 4,
 "nbformat_minor": 5
}
