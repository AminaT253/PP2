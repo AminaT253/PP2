{
 "cells": [
  {
   "cell_type": "markdown",
   "id": "a4c0e467-a252-4549-92ec-932925689c82",
   "metadata": {},
   "source": [
    "LAB 4"
   ]
  },
  {
   "cell_type": "markdown",
   "id": "6808208b-d4ad-4fb7-833d-f84861263108",
   "metadata": {},
   "source": [
    "Python Math Library"
   ]
  },
  {
   "cell_type": "code",
   "execution_count": 33,
   "id": "34ec2555-4c73-48da-9f34-9964f3b92c69",
   "metadata": {},
   "outputs": [
    {
     "name": "stdin",
     "output_type": "stream",
     "text": [
      "Input Degree:  15\n"
     ]
    },
    {
     "name": "stdout",
     "output_type": "stream",
     "text": [
      "Output Radian: 0.261799\n"
     ]
    }
   ],
   "source": [
    "#1.1 A Python program to convert degree to radian\n",
    "import math\n",
    "\n",
    "in_degrees = int(input(\"Input Degree: \"))\n",
    "in_radians = math.radians(in_degrees)\n",
    "\n",
    "print(f\"Output Radian: {in_radians:.6}\")"
   ]
  },
  {
   "cell_type": "code",
   "execution_count": 31,
   "id": "384ac166-e87b-440f-a080-e1ec4ef25c76",
   "metadata": {},
   "outputs": [
    {
     "name": "stdin",
     "output_type": "stream",
     "text": [
      "Input Degree:  15\n"
     ]
    },
    {
     "name": "stdout",
     "output_type": "stream",
     "text": [
      "Output Radian: 0.261799\n"
     ]
    }
   ],
   "source": [
    "#1.2 \n",
    "import math\n",
    "\n",
    "def degree_to_radians(in_degrees):\n",
    "    in_radians = in_degrees * math.pi / 180\n",
    "    return in_radians\n",
    "\n",
    "in_degrees = int(input(\"Input Degree: \"))\n",
    "\n",
    "print(f\"Output Radian: {in_radians:.6}\")"
   ]
  },
  {
   "cell_type": "code",
   "execution_count": 23,
   "id": "9b703476-a783-4d39-a7fb-8cf1b28b6aef",
   "metadata": {},
   "outputs": [
    {
     "name": "stdin",
     "output_type": "stream",
     "text": [
      "Height:  5\n",
      "Base, first value:  5\n",
      "Base, second value:  6\n"
     ]
    },
    {
     "name": "stdout",
     "output_type": "stream",
     "text": [
      "The area of the trapezoid is 27.5.\n"
     ]
    }
   ],
   "source": [
    "#2 A Python program to calculate the area of a trapezoid\n",
    "\n",
    "import math\n",
    "\n",
    "def area_of_the_trapezoid(height, first_base, second_base):\n",
    "    trapezoid_area = (first_base + second_base) * height / 2\n",
    "    return trapezoid_area\n",
    "                      \n",
    "height = int(input(\"Height: \"))\n",
    "first_base = int(input(\"Base, first value: \"))\n",
    "second_base = int(input(\"Base, second value: \"))\n",
    "\n",
    "area = area_of_the_trapezoid(height, first_base, second_base)\n",
    "\n",
    "print(f\"The area of the trapezoid is {area}.\")"
   ]
  },
  {
   "cell_type": "code",
   "execution_count": 43,
   "id": "1af279a8-ef69-4c85-8816-bb73d9c27291",
   "metadata": {},
   "outputs": [
    {
     "name": "stdin",
     "output_type": "stream",
     "text": [
      "The number of sides:  4\n",
      "The length of a side:  25\n"
     ]
    },
    {
     "name": "stdout",
     "output_type": "stream",
     "text": [
      "The area of the polygon is 625\n"
     ]
    }
   ],
   "source": [
    "#3 A Python program to calculate the area of regular polygon\n",
    "\n",
    "import math\n",
    "\n",
    "def area_of_the_regular_polygon(n, l):\n",
    "    in_radians = math.radians(180)\n",
    "    tg = math.tan(in_radians / n)\n",
    "    Area = n * math.pow(l, 2)/4*tg\n",
    "    return Area\n",
    "\n",
    "n = int(input(\"The number of sides: \"))\n",
    "l = int(input(\"The length of a side: \"))\n",
    "\n",
    "area = area_of_the_regular_polygon(n, l)\n",
    "\n",
    "print(f\"The area of the polygon is {round(area)}\")"
   ]
  },
  {
   "cell_type": "code",
   "execution_count": 55,
   "id": "af9ad7e0-47bb-49a3-918b-a94917346866",
   "metadata": {},
   "outputs": [
    {
     "name": "stdin",
     "output_type": "stream",
     "text": [
      "Length of the base:  5\n",
      "Height of the parallelogram:  6\n"
     ]
    },
    {
     "name": "stdout",
     "output_type": "stream",
     "text": [
      "The area of the parallelogram is 30.0\n"
     ]
    }
   ],
   "source": [
    "#4 A Python program to calculate the area of a parallelogram\n",
    "\n",
    "import math\n",
    "\n",
    "def parallelogram_area(base, height):\n",
    "    area = float(base * height)\n",
    "    return area\n",
    "\n",
    "base = int(input(\"Length of the base: \"))\n",
    "height = int(input(\"Height of the parallelogram: \"))\n",
    "\n",
    "Area = parallelogram_area(base, height)\n",
    "\n",
    "print(f\"The area of the parallelogram is {Area}\")"
   ]
  },
  {
   "cell_type": "markdown",
   "id": "3090a661-9c7c-4038-a0b4-0c99eced9a26",
   "metadata": {},
   "source": [
    "Python Date"
   ]
  },
  {
   "cell_type": "code",
   "execution_count": 64,
   "id": "d51f419b-2325-4540-8f4e-69f32faa1efb",
   "metadata": {},
   "outputs": [
    {
     "name": "stdout",
     "output_type": "stream",
     "text": [
      "2025-02-12 23:31:48.640755\n",
      "2025-02-07 23:31:48.640755\n"
     ]
    }
   ],
   "source": [
    "#1 A Python program to subtract five days from current date\n",
    "import datetime\n",
    "\n",
    "today_date = datetime.datetime.now()\n",
    "required_date =  today_date - datetime.timedelta(days = 5)\n",
    "\n",
    "print(today_date)\n",
    "print(required_date)"
   ]
  },
  {
   "cell_type": "code",
   "execution_count": 82,
   "id": "7b55cbca-0357-48f8-9224-866163b89d62",
   "metadata": {},
   "outputs": [
    {
     "name": "stdout",
     "output_type": "stream",
     "text": [
      "Yesterday: 11.02.2025\n",
      "Today: 12.02.2025\n",
      "Tomorrow: 13.02.2025\n"
     ]
    }
   ],
   "source": [
    "#2 A Python program to print yesterday, today, tomorrow\n",
    "import datetime\n",
    "\n",
    "today = datetime.datetime.now()\n",
    "yesterday = today - datetime.timedelta(days = 1)\n",
    "tomorrow = today + datetime.timedelta(days = 1)\n",
    "\n",
    "print(f\"Yesterday: {yesterday.strftime('%d.%m.%Y')}\")\n",
    "print(f\"Today: {today.strftime('%d.%m.%Y')}\")\n",
    "print(f\"Tomorrow: {tomorrow.strftime('%d.%m.%Y')}\")"
   ]
  },
  {
   "cell_type": "code",
   "execution_count": 98,
   "id": "26fa3817-884f-4d82-b344-f1d8a5482bf4",
   "metadata": {},
   "outputs": [
    {
     "name": "stdout",
     "output_type": "stream",
     "text": [
      "2025-12-02 23:53:08\n"
     ]
    }
   ],
   "source": [
    "#3.1 A Python program to drop microseconds from datetime\n",
    "import datetime\n",
    "\n",
    "current_date = datetime.datetime.now()\n",
    "\n",
    "print(current_date.strftime('%Y-%d-%m %H:%M:%S'))"
   ]
  },
  {
   "cell_type": "code",
   "execution_count": 100,
   "id": "3f8831c9-4c34-4da6-83b3-8843797335a7",
   "metadata": {},
   "outputs": [
    {
     "name": "stdout",
     "output_type": "stream",
     "text": [
      "2025-02-12 23:53:13\n"
     ]
    }
   ],
   "source": [
    "#3.2\n",
    "import datetime\n",
    "\n",
    "current_date = datetime.datetime.now()\n",
    "\n",
    "date_without_microseconds = current_date.replace(microsecond = 0)\n",
    "\n",
    "print(date_without_microseconds)"
   ]
  },
  {
   "cell_type": "code",
   "execution_count": 114,
   "id": "38c73ad6-a934-4e31-963f-dd3315815b4b",
   "metadata": {},
   "outputs": [
    {
     "name": "stdout",
     "output_type": "stream",
     "text": [
      "3714975.042277\n"
     ]
    }
   ],
   "source": [
    "#4 A Python program to calculate two date difference in seconds\n",
    "import datetime\n",
    "\n",
    "date_1 = datetime.datetime(2025, 3, 28)\n",
    "date_2 = datetime.datetime.now()\n",
    "\n",
    "difference = date_1 - date_2\n",
    "\n",
    "difference_in_seconds = difference.total_seconds()\n",
    "\n",
    "print(difference_in_seconds)"
   ]
  },
  {
   "cell_type": "markdown",
   "id": "3d92a70b-d12d-4f72-8565-701803117360",
   "metadata": {},
   "source": [
    "Python Iterators and Generators"
   ]
  },
  {
   "cell_type": "code",
   "execution_count": 149,
   "id": "74acf37a-02d3-4458-82e5-b640eccc5575",
   "metadata": {},
   "outputs": [
    {
     "name": "stdin",
     "output_type": "stream",
     "text": [
      "Print the number:  5\n"
     ]
    },
    {
     "name": "stdout",
     "output_type": "stream",
     "text": [
      "1\n",
      "4\n",
      "9\n",
      "16\n",
      "25\n"
     ]
    }
   ],
   "source": [
    "#1 Create a generator that generates the squares of numbers up to some number N\n",
    "\n",
    "def generator_to_squares(N):\n",
    "    for i in range(1, N+1):\n",
    "        yield i ** 2\n",
    "\n",
    "N = int(input(\"Print the number: \"))\n",
    "\n",
    "square_nums_generator = generator_to_squares(N)\n",
    "\n",
    "for square in square_nums_generator:\n",
    "    print(square)"
   ]
  },
  {
   "cell_type": "code",
   "execution_count": 145,
   "id": "3e1aabc7-067a-4bfe-88d7-dcc5a2511378",
   "metadata": {},
   "outputs": [
    {
     "name": "stdin",
     "output_type": "stream",
     "text": [
      "Print the number:  15\n"
     ]
    },
    {
     "name": "stdout",
     "output_type": "stream",
     "text": [
      "0, 2, 4, 6, 8, 10, 12, 14\n"
     ]
    }
   ],
   "source": [
    "#2 Write a program using generator to print the even numbers between 0 and n in comma separated form where n is input from console\n",
    "\n",
    "def even_nums(n):\n",
    "    for i in range(0, n+1, 2):\n",
    "        yield i\n",
    "\n",
    "n = int(input(\"Print the number: \"))\n",
    "\n",
    "even_numbers_generator = even_nums(n)\n",
    "\n",
    "even_numbers = \", \".join(str(num) for num in even_numbers_generator)\n",
    "\n",
    "print(even_numbers)"
   ]
  },
  {
   "cell_type": "code",
   "execution_count": 157,
   "id": "abbb1d87-8ea8-4720-a47d-6e9f791579af",
   "metadata": {},
   "outputs": [
    {
     "name": "stdin",
     "output_type": "stream",
     "text": [
      "Print the number:  30\n"
     ]
    },
    {
     "name": "stdout",
     "output_type": "stream",
     "text": [
      "0\n",
      "12\n",
      "24\n"
     ]
    }
   ],
   "source": [
    "#3 Define a function with a generator which can iterate the numbers, which are divisible by 3 and 4, between a given range 0 and n\n",
    "\n",
    "def divisible_nums(n):\n",
    "    for i in range(0, n):\n",
    "        if i % 3 == 0 and i % 4 == 0:\n",
    "            yield i\n",
    "\n",
    "n = int(input(\"Print the number: \"))\n",
    "\n",
    "specific_nums_generator = divisible_nums(n)\n",
    "\n",
    "for number in specific_nums_generator:\n",
    "    print(number)"
   ]
  },
  {
   "cell_type": "code",
   "execution_count": 175,
   "id": "899a8b0e-5e48-4659-8da8-bee1de451a30",
   "metadata": {},
   "outputs": [
    {
     "name": "stdin",
     "output_type": "stream",
     "text": [
      "Print the first number:  5\n",
      "Print the second number:  10\n"
     ]
    },
    {
     "name": "stdout",
     "output_type": "stream",
     "text": [
      "25\n",
      "36\n",
      "49\n",
      "64\n",
      "81\n",
      "100\n"
     ]
    }
   ],
   "source": [
    "#4 Implement a generator called squares to yield the square of all numbers from a to b. Test it with a \"for\" loop and print each of the yielded values\n",
    "\n",
    "def square_nums(a, b):\n",
    "    for i in range(a, b + 1):\n",
    "        yield i ** 2\n",
    "\n",
    "a = int(input(\"Print the first number: \"))\n",
    "b = int(input(\"Print the second number: \"))\n",
    "\n",
    "squares = square_nums(a, b)\n",
    "\n",
    "for number in squares:\n",
    "    print(number)"
   ]
  },
  {
   "cell_type": "code",
   "execution_count": 185,
   "id": "8d557ced-a9d5-4ae2-be7b-7845b9693f0b",
   "metadata": {},
   "outputs": [
    {
     "name": "stdin",
     "output_type": "stream",
     "text": [
      "Print the number:  10\n"
     ]
    },
    {
     "name": "stdout",
     "output_type": "stream",
     "text": [
      "10\n",
      "9\n",
      "8\n",
      "7\n",
      "6\n",
      "5\n",
      "4\n",
      "3\n",
      "2\n",
      "1\n",
      "0\n"
     ]
    }
   ],
   "source": [
    "#5 Implement a generator that returns all numbers from (n) down to 0.\n",
    "\n",
    "def from_n_to_0(n):\n",
    "    for i in range(n, -1, -1):\n",
    "        yield i\n",
    "\n",
    "n = int(input(\"Print the number: \"))\n",
    "\n",
    "decreasing_order = from_n_to_0(n)\n",
    "\n",
    "for num in decreasing_order:\n",
    "    print(num)"
   ]
  },
  {
   "cell_type": "markdown",
   "id": "86fdabfe-e58c-4034-b62f-8e98b110e762",
   "metadata": {},
   "source": [
    "Python JSON"
   ]
  },
  {
   "cell_type": "code",
   "execution_count": 49,
   "id": "af02be0f-8390-49dd-ba73-b56f258f24b1",
   "metadata": {},
   "outputs": [
    {
     "name": "stdout",
     "output_type": "stream",
     "text": [
      "Interface Status\n",
      "================================================================================\n",
      "DN                                                  Description         Speed   MTU\n",
      "-------------------------------------------------- -------------------- ------ ------\n",
      "topology/pod-1/node-201/sys/phys-[eth1/33]                             inherit  9150\n",
      "topology/pod-1/node-201/sys/phys-[eth1/34]                             inherit  9150\n",
      "topology/pod-1/node-201/sys/phys-[eth1/35]                             inherit  9150\n"
     ]
    }
   ],
   "source": [
    "import json\n",
    "\n",
    "my_file_json = 'sample-data1.json'\n",
    "\n",
    "with open(my_file_json, 'r') as file:\n",
    "    data = json.load(file)\n",
    "\n",
    "print(\"Interface Status\\n\" + \"=\" * 80)\n",
    "\n",
    "print(\"DN\" + \" \"*50 + \"Description\" + \" \"*9 + \"Speed\" + \" \"*3 + \"MTU\")\n",
    "\n",
    "print(\"-\" * 50 + \" \" + \"-\" * 20 + \" \" + \"-\" * 6 + \" \" + \"-\" * 6)\n",
    "\n",
    "for item in data[\"imdata\"][:3]:  \n",
    "    attr = item[\"l1PhysIf\"][\"attributes\"]\n",
    "    print(attr['dn'] + \" \" * 9 + attr['descr'] + \" \" * 20 + attr['speed'] + \" \"*2 + attr['mtu'])"
   ]
  }
 ],
 "metadata": {
  "kernelspec": {
   "display_name": "Python [conda env:base] *",
   "language": "python",
   "name": "conda-base-py"
  },
  "language_info": {
   "codemirror_mode": {
    "name": "ipython",
    "version": 3
   },
   "file_extension": ".py",
   "mimetype": "text/x-python",
   "name": "python",
   "nbconvert_exporter": "python",
   "pygments_lexer": "ipython3",
   "version": "3.12.7"
  }
 },
 "nbformat": 4,
 "nbformat_minor": 5
}
