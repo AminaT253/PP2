{
 "cells": [
  {
   "cell_type": "markdown",
   "id": "864d12bb-9bd7-4eb6-ad33-9a022bd87d79",
   "metadata": {},
   "source": [
    "INTRO"
   ]
  },
  {
   "cell_type": "code",
   "execution_count": 6,
   "id": "9dacbc6a-6ebc-46f6-ae5c-f8bcf08dca2a",
   "metadata": {},
   "outputs": [
    {
     "name": "stdout",
     "output_type": "stream",
     "text": [
      "Hello, KBTU!\n"
     ]
    }
   ],
   "source": [
    "print(\"Hello, KBTU!\")"
   ]
  },
  {
   "cell_type": "markdown",
   "id": "0ad563c8-ea22-41c1-acc9-f3d3b3fd29eb",
   "metadata": {},
   "source": [
    "GETTING STARTED"
   ]
  },
  {
   "cell_type": "code",
   "execution_count": 9,
   "id": "79b0611b-7a2b-423f-88bc-0037049b0332",
   "metadata": {},
   "outputs": [
    {
     "name": "stdout",
     "output_type": "stream",
     "text": [
      "3.12.7 | packaged by Anaconda, Inc. | (main, Oct  4 2024, 13:17:27) [MSC v.1929 64 bit (AMD64)]\n"
     ]
    }
   ],
   "source": [
    "import sys\n",
    "print(sys.version)"
   ]
  },
  {
   "cell_type": "markdown",
   "id": "bcfb69b8-4a6f-4041-8749-a22052e429d3",
   "metadata": {},
   "source": [
    "SYNTAX"
   ]
  },
  {
   "cell_type": "code",
   "execution_count": 20,
   "id": "7482794e-7011-4034-bd5b-8746ba602057",
   "metadata": {},
   "outputs": [
    {
     "name": "stdout",
     "output_type": "stream",
     "text": [
      "Seven is greater than four\n"
     ]
    }
   ],
   "source": [
    "#Example 1\n",
    "if 7>4:\n",
    "    print(\"Seven is greater than four\")"
   ]
  },
  {
   "cell_type": "code",
   "execution_count": 18,
   "id": "7af3552c-c0ca-42ea-bebd-56698e514fc0",
   "metadata": {},
   "outputs": [
    {
     "ename": "IndentationError",
     "evalue": "expected an indented block after 'if' statement on line 2 (218153704.py, line 3)",
     "output_type": "error",
     "traceback": [
      "\u001b[1;36m  Cell \u001b[1;32mIn[18], line 3\u001b[1;36m\u001b[0m\n\u001b[1;33m    print(\"Seven is greater than four\")\u001b[0m\n\u001b[1;37m    ^\u001b[0m\n\u001b[1;31mIndentationError\u001b[0m\u001b[1;31m:\u001b[0m expected an indented block after 'if' statement on line 2\n"
     ]
    }
   ],
   "source": [
    "#Example 1 with the syntax error\n",
    "if 7 > 4:\n",
    "print(\"Seven is greater than four\")"
   ]
  },
  {
   "cell_type": "code",
   "execution_count": 22,
   "id": "be56dc38-8897-410b-ab62-b2a1b9c6206e",
   "metadata": {},
   "outputs": [
    {
     "name": "stdout",
     "output_type": "stream",
     "text": [
      "Six is greater than two\n",
      "Six is greater than two\n"
     ]
    }
   ],
   "source": [
    "#Example 2\n",
    "if 6 > 2:\n",
    "    print(\"Six is greater than two\")\n",
    "if 6 > 2:\n",
    "        print(\"Six is greater than two\")"
   ]
  },
  {
   "cell_type": "code",
   "execution_count": 24,
   "id": "d2df6a1c-07ff-40db-b7f8-8df26c8dbd02",
   "metadata": {},
   "outputs": [
    {
     "ename": "IndentationError",
     "evalue": "unexpected indent (3302329531.py, line 4)",
     "output_type": "error",
     "traceback": [
      "\u001b[1;36m  Cell \u001b[1;32mIn[24], line 4\u001b[1;36m\u001b[0m\n\u001b[1;33m    print(\"Six is greater than two\")\u001b[0m\n\u001b[1;37m    ^\u001b[0m\n\u001b[1;31mIndentationError\u001b[0m\u001b[1;31m:\u001b[0m unexpected indent\n"
     ]
    }
   ],
   "source": [
    "#Example 2 with the syntax error\n",
    "if 6 > 2:\n",
    "    print(\"Six is greater than two\")\n",
    "        print(\"Six is greater than two\")"
   ]
  },
  {
   "cell_type": "code",
   "execution_count": 28,
   "id": "a5a1d85c-090e-4b49-9acc-d78dc6666f56",
   "metadata": {},
   "outputs": [],
   "source": [
    "#Example 3\n",
    "x = 5 #Integer variable\n",
    "y = \"Hello, KBTU!\" #String variable"
   ]
  },
  {
   "cell_type": "markdown",
   "id": "7bfb22f9-b826-4991-bd18-9738d8dece09",
   "metadata": {},
   "source": [
    "COMMENTS"
   ]
  },
  {
   "cell_type": "code",
   "execution_count": 37,
   "id": "cd1cb4c1-1791-4da1-9c5a-ee3779d1317f",
   "metadata": {},
   "outputs": [
    {
     "name": "stdout",
     "output_type": "stream",
     "text": [
      "Hello, KBTU!\n"
     ]
    }
   ],
   "source": [
    "#Example 1\n",
    "#This is a comment\n",
    "print(\"Hello, KBTU!\")"
   ]
  },
  {
   "cell_type": "code",
   "execution_count": 33,
   "id": "2ae13784-5b86-4ca9-9a8c-08c5cac64253",
   "metadata": {},
   "outputs": [
    {
     "name": "stdout",
     "output_type": "stream",
     "text": [
      "My name is Amina!\n"
     ]
    }
   ],
   "source": [
    "#Example 2\n",
    "print(\"My name is Amina!\") #This is also a comment"
   ]
  },
  {
   "cell_type": "code",
   "execution_count": 35,
   "id": "2227e69f-e44d-4191-b40a-32c085d070a7",
   "metadata": {},
   "outputs": [
    {
     "name": "stdout",
     "output_type": "stream",
     "text": [
      "Cheers, Mate!\n"
     ]
    }
   ],
   "source": [
    "#Example 3\n",
    "#print(\"Hello, World!\")\n",
    "print(\"Cheers, Mate!\")"
   ]
  },
  {
   "cell_type": "code",
   "execution_count": 64,
   "id": "99b504f8-5c62-47c6-a502-7b1fe24625fe",
   "metadata": {},
   "outputs": [
    {
     "name": "stdout",
     "output_type": "stream",
     "text": [
      "Hello, KBTU!\n"
     ]
    }
   ],
   "source": [
    "#Example 4 Multiline comment 1\n",
    "#This is a comment\n",
    "#written in \n",
    "#more than just one line\n",
    "print(\"Hello, KBTU!\")"
   ]
  },
  {
   "cell_type": "code",
   "execution_count": 66,
   "id": "33c5856e-bd72-4918-a00a-58f3de788754",
   "metadata": {},
   "outputs": [
    {
     "name": "stdout",
     "output_type": "stream",
     "text": [
      "Hello, KBTU!\n"
     ]
    }
   ],
   "source": [
    "#Example 5 Multiline comment 2\n",
    "\"\"\"\n",
    "This is also a comment\n",
    "written in\n",
    "more than just one line\n",
    "\"\"\"\n",
    "print(\"Hello, KBTU!\")"
   ]
  },
  {
   "cell_type": "markdown",
   "id": "4a2de336-9eab-4fe9-bf5f-a2e9f28697b6",
   "metadata": {},
   "source": [
    "VARIABLES"
   ]
  },
  {
   "cell_type": "markdown",
   "id": "71450077-6c39-4c1e-a1aa-e930e277fc83",
   "metadata": {},
   "source": [
    "Variable names"
   ]
  },
  {
   "cell_type": "code",
   "execution_count": 49,
   "id": "b3de8c2a-afd3-4429-9b0e-86cefe880185",
   "metadata": {},
   "outputs": [
    {
     "name": "stdout",
     "output_type": "stream",
     "text": [
      "5\n",
      "John\n"
     ]
    }
   ],
   "source": [
    "#Example 1\n",
    "x = 5\n",
    "y = \"John\"\n",
    "print(x)\n",
    "print(y)\n"
   ]
  },
  {
   "cell_type": "code",
   "execution_count": 53,
   "id": "89015214-4b99-4e49-bfd5-6c0d32de3be7",
   "metadata": {},
   "outputs": [
    {
     "name": "stdout",
     "output_type": "stream",
     "text": [
      "Emma\n"
     ]
    }
   ],
   "source": [
    "#Example 2\n",
    "x = 3 #x is of type int\n",
    "x = \"Emma\" #x is now of type str\n",
    "print(x)"
   ]
  },
  {
   "cell_type": "code",
   "execution_count": 55,
   "id": "ebad159c-7307-4c6e-a641-972df87ea458",
   "metadata": {},
   "outputs": [],
   "source": [
    "#Example 3\n",
    "x = str(3) # x will be '3'\n",
    "y = int(3) # y will be 3\n",
    "z = float(3) # z will be 3.0"
   ]
  },
  {
   "cell_type": "code",
   "execution_count": 57,
   "id": "62c137af-6248-455e-b0b3-7e8c0db87376",
   "metadata": {},
   "outputs": [
    {
     "name": "stdout",
     "output_type": "stream",
     "text": [
      "<class 'int'>\n",
      "<class 'str'>\n"
     ]
    }
   ],
   "source": [
    "#Example 4\n",
    "x = 3\n",
    "y = \"Mike\"\n",
    "print(type(x))\n",
    "print(type(y))"
   ]
  },
  {
   "cell_type": "code",
   "execution_count": 59,
   "id": "1c0fe375-432b-40a8-92d0-0a85983a598a",
   "metadata": {},
   "outputs": [],
   "source": [
    "#Example 5\n",
    "x = \"Lily\"\n",
    "#is the same as\n",
    "x = 'Lily'"
   ]
  },
  {
   "cell_type": "code",
   "execution_count": 68,
   "id": "0763e618-0996-4c90-9d00-e785c0a8ddc3",
   "metadata": {},
   "outputs": [],
   "source": [
    "#Example 6 Case-sensitivity\n",
    "x = \"James\"\n",
    "X = 7\n",
    "# X will not overwrite x"
   ]
  },
  {
   "cell_type": "markdown",
   "id": "3d7a4b56-d7d5-43d1-a755-74be73398a7c",
   "metadata": {},
   "source": [
    "Variable names"
   ]
  },
  {
   "cell_type": "code",
   "execution_count": 70,
   "id": "e810e96d-5c32-4033-9a49-8ba0a13aa96d",
   "metadata": {},
   "outputs": [],
   "source": [
    "#Example 1 Valid variable names\n",
    "myvar = \"Harry\"\n",
    "my_var = \"Harry\"\n",
    "_my_var = \"Harry\"\n",
    "myVar = \"Harry\"\n",
    "MYVAR = \"Harry\"\n",
    "myvar2 = \"Harry\"\n"
   ]
  },
  {
   "cell_type": "code",
   "execution_count": 72,
   "id": "7240bfcd-26e1-4c2b-9865-d34e0cc023eb",
   "metadata": {},
   "outputs": [
    {
     "ename": "SyntaxError",
     "evalue": "invalid decimal literal (2259639693.py, line 2)",
     "output_type": "error",
     "traceback": [
      "\u001b[1;36m  Cell \u001b[1;32mIn[72], line 2\u001b[1;36m\u001b[0m\n\u001b[1;33m    2myvar = \"Harry\"\u001b[0m\n\u001b[1;37m    ^\u001b[0m\n\u001b[1;31mSyntaxError\u001b[0m\u001b[1;31m:\u001b[0m invalid decimal literal\n"
     ]
    }
   ],
   "source": [
    "#Example 2 Illegal variable names\n",
    "2myvar = \"Harry\"\n",
    "my-var = \"Harry\"\n",
    "my var = \"Harry\""
   ]
  },
  {
   "cell_type": "code",
   "execution_count": 74,
   "id": "d4937846-6bae-4266-8caf-6a61fda7149f",
   "metadata": {},
   "outputs": [],
   "source": [
    "#Example 3 Multi words variable names\n",
    "myVariableName = \"Severus\" #Cames case\n",
    "MyVariableName = \"Severus\" #Pascal case\n",
    "my_variable_name = \"Severus\" #Snake case"
   ]
  },
  {
   "cell_type": "markdown",
   "id": "d81c50ea-3155-453c-abe3-511e9244737b",
   "metadata": {},
   "source": [
    "Assign multiple values"
   ]
  },
  {
   "cell_type": "code",
   "execution_count": 77,
   "id": "21c5fd4c-768a-46ad-bd5e-31a69766b532",
   "metadata": {},
   "outputs": [
    {
     "name": "stdout",
     "output_type": "stream",
     "text": [
      "Apple\n",
      "Banana\n",
      "Cherry\n"
     ]
    }
   ],
   "source": [
    "#Example 1\n",
    "x, y, z = \"Apple\", \"Banana\", \"Cherry\"\n",
    "print(x)\n",
    "print(y)\n",
    "print(z)"
   ]
  },
  {
   "cell_type": "code",
   "execution_count": 79,
   "id": "be7dc436-d694-4f39-979a-649df7f0ee99",
   "metadata": {},
   "outputs": [
    {
     "name": "stdout",
     "output_type": "stream",
     "text": [
      "Orange\n",
      "Orange\n",
      "Orange\n"
     ]
    }
   ],
   "source": [
    "#Example 2 \n",
    "x = y = z = \"Orange\"\n",
    "print(x)\n",
    "print(y)\n",
    "print(z)"
   ]
  },
  {
   "cell_type": "code",
   "execution_count": 81,
   "id": "c82ccf30-aeaa-41fe-aaa1-0a2e540b3327",
   "metadata": {},
   "outputs": [
    {
     "name": "stdout",
     "output_type": "stream",
     "text": [
      "apple\n",
      "banana\n",
      "cherry\n"
     ]
    }
   ],
   "source": [
    "#Example 3 Unpack a collection\n",
    "fruits = [\"apple\", \"banana\", \"cherry\"]\n",
    "x, y, z = fruits\n",
    "print(x)\n",
    "print(y)\n",
    "print(z)"
   ]
  },
  {
   "cell_type": "markdown",
   "id": "f079ba38-0537-4d3a-af05-35ecc819d28e",
   "metadata": {},
   "source": [
    "Output variables"
   ]
  },
  {
   "cell_type": "code",
   "execution_count": 86,
   "id": "b400e85c-c697-49f8-9686-962b0d642000",
   "metadata": {},
   "outputs": [
    {
     "name": "stdout",
     "output_type": "stream",
     "text": [
      "Python is awesome\n"
     ]
    }
   ],
   "source": [
    "#Example 1\n",
    "x = \"Python is awesome\"\n",
    "print(x)"
   ]
  },
  {
   "cell_type": "code",
   "execution_count": 88,
   "id": "1c297221-f795-4bd9-a248-4b0e4c735b0b",
   "metadata": {},
   "outputs": [
    {
     "name": "stdout",
     "output_type": "stream",
     "text": [
      "Python is awesome\n"
     ]
    }
   ],
   "source": [
    "#Example 2\n",
    "x = \"Python\"\n",
    "y = \"is\"\n",
    "z = \"awesome\"\n",
    "print(x, y, z)"
   ]
  },
  {
   "cell_type": "code",
   "execution_count": 90,
   "id": "4aa84f60-9c2c-44a5-a16b-60d61a04be9f",
   "metadata": {},
   "outputs": [
    {
     "name": "stdout",
     "output_type": "stream",
     "text": [
      "Python is awesome\n"
     ]
    }
   ],
   "source": [
    "#Example 3 Need to use spaces\n",
    "x = \"Python \"\n",
    "y = \"is \"\n",
    "z = \"awesome\"\n",
    "print(x + y + z)"
   ]
  },
  {
   "cell_type": "code",
   "execution_count": 94,
   "id": "428ed7f3-e066-4706-a85c-a9a8017a36b4",
   "metadata": {},
   "outputs": [
    {
     "name": "stdout",
     "output_type": "stream",
     "text": [
      "15\n"
     ]
    }
   ],
   "source": [
    "#Example 4 mathematical operator for integers\n",
    "x = 5\n",
    "y = 10\n",
    "print(x + y)"
   ]
  },
  {
   "cell_type": "code",
   "execution_count": 100,
   "id": "3cb25892-5da6-45c4-a09d-bef7319d6642",
   "metadata": {},
   "outputs": [
    {
     "ename": "TypeError",
     "evalue": "unsupported operand type(s) for +: 'int' and 'str'",
     "output_type": "error",
     "traceback": [
      "\u001b[1;31m---------------------------------------------------------------------------\u001b[0m",
      "\u001b[1;31mTypeError\u001b[0m                                 Traceback (most recent call last)",
      "Cell \u001b[1;32mIn[100], line 4\u001b[0m\n\u001b[0;32m      2\u001b[0m x \u001b[38;5;241m=\u001b[39m \u001b[38;5;241m5\u001b[39m\n\u001b[0;32m      3\u001b[0m y \u001b[38;5;241m=\u001b[39m \u001b[38;5;124m\"\u001b[39m\u001b[38;5;124mKale\u001b[39m\u001b[38;5;124m\"\u001b[39m\n\u001b[1;32m----> 4\u001b[0m \u001b[38;5;28mprint\u001b[39m(x \u001b[38;5;241m+\u001b[39m y)\n",
      "\u001b[1;31mTypeError\u001b[0m: unsupported operand type(s) for +: 'int' and 'str'"
     ]
    }
   ],
   "source": [
    "#Example 5 Error: cannot combine a string and a number\n",
    "x = 5\n",
    "y = \"Kale\"\n",
    "print(x + y)"
   ]
  },
  {
   "cell_type": "code",
   "execution_count": 102,
   "id": "7dba32da-681b-4c19-ba5d-92404b9ac815",
   "metadata": {},
   "outputs": [
    {
     "name": "stdout",
     "output_type": "stream",
     "text": [
      "5 Kale\n"
     ]
    }
   ],
   "source": [
    "#Example 6\n",
    "x = 5\n",
    "y = \"Kale\"\n",
    "print(x, y)"
   ]
  },
  {
   "cell_type": "markdown",
   "id": "f389ace7-4931-4682-8d85-935dd736fc15",
   "metadata": {},
   "source": [
    "Global variables"
   ]
  },
  {
   "cell_type": "code",
   "execution_count": 107,
   "id": "4bf87092-432e-468b-8e34-b94e2a16a933",
   "metadata": {},
   "outputs": [
    {
     "name": "stdout",
     "output_type": "stream",
     "text": [
      "Python is awesome\n"
     ]
    }
   ],
   "source": [
    "#Example 1\n",
    "x = \"awesome\"\n",
    "\n",
    "def myfync():\n",
    "    print(\"Python is \" + x)\n",
    "\n",
    "myfync()"
   ]
  },
  {
   "cell_type": "code",
   "execution_count": 109,
   "id": "3b90a0f1-68f7-4b01-912a-0b1b3a911e1a",
   "metadata": {},
   "outputs": [
    {
     "name": "stdout",
     "output_type": "stream",
     "text": [
      "Python is fantastic\n",
      "Python is awesome\n"
     ]
    }
   ],
   "source": [
    "#Example 2\n",
    "x = \"awesome\"\n",
    "\n",
    "def myfunc():\n",
    "    x = \"fantastic\"\n",
    "    print(\"Python is \" + x)\n",
    "\n",
    "myfunc()\n",
    "\n",
    "print(\"Python is \" + x)"
   ]
  },
  {
   "cell_type": "code",
   "execution_count": 113,
   "id": "33b4a30e-862e-4c6f-af7d-98e5c3eea808",
   "metadata": {},
   "outputs": [
    {
     "name": "stdout",
     "output_type": "stream",
     "text": [
      "Python is fantastic\n"
     ]
    }
   ],
   "source": [
    "#Example 3 A global variable inside a function\n",
    "def myfunc():\n",
    "    global x\n",
    "    x = \"fantastic\"\n",
    "\n",
    "myfunc()\n",
    "\n",
    "print(\"Python is \" + x)"
   ]
  },
  {
   "cell_type": "code",
   "execution_count": 119,
   "id": "fbfb67ff-af2d-46e4-972a-a2064bbed6f2",
   "metadata": {},
   "outputs": [
    {
     "name": "stdout",
     "output_type": "stream",
     "text": [
      "Python is fantastic\n"
     ]
    }
   ],
   "source": [
    "#Example 4 Change the value of a global variable inside a function\n",
    "x = \"awesome\"\n",
    "\n",
    "def myfunc():\n",
    "    global x\n",
    "    x = \"fantastic\"\n",
    "\n",
    "myfunc()\n",
    "\n",
    "print(\"Python is \" + x)"
   ]
  },
  {
   "cell_type": "markdown",
   "id": "5869ceaf-d9f5-4914-b7ea-b9e718c4a165",
   "metadata": {},
   "source": [
    "DATA TYPES"
   ]
  },
  {
   "cell_type": "code",
   "execution_count": 122,
   "id": "b60b95ef-3130-464f-9415-80a0e2db0a5b",
   "metadata": {},
   "outputs": [
    {
     "name": "stdout",
     "output_type": "stream",
     "text": [
      "<class 'int'>\n"
     ]
    }
   ],
   "source": [
    "#Example 1 Getting the data type\n",
    "x = 5\n",
    "print(type(x))"
   ]
  },
  {
   "cell_type": "code",
   "execution_count": 136,
   "id": "0052a27e-374e-4689-b9ff-e021b5024364",
   "metadata": {},
   "outputs": [],
   "source": [
    "#Example 2 Setting the specific data type\n",
    "x = str(\"Hello, KBTU\")\n",
    "x = int(20)\n",
    "x = float(20.5)\n",
    "x = complex(1j)\n",
    "x = list((\"apple\", \"banana\", \"cherry\"))\n",
    "x = tuple((\"apple\", \"banana\", \"cherry\"))\n",
    "x = range(6)\n",
    "x = dict(name = \"Harry\" , age = 17)\n",
    "x = set((\"apple\", \"banana\", \"cherry\"))\n",
    "x = frozenset((\"apple\", \"banana\", \"cherry\"))\n",
    "x = bool(5)\n",
    "x = bytes(5)\n",
    "x = bytearray(5)\n",
    "x = memoryview(bytes(5))"
   ]
  },
  {
   "cell_type": "markdown",
   "id": "ce1e2113-8d62-4c29-a709-c795c0992198",
   "metadata": {},
   "source": [
    "NUMBERS"
   ]
  },
  {
   "cell_type": "code",
   "execution_count": 139,
   "id": "955ddef6-2a22-45a5-9dd4-a839178b3848",
   "metadata": {},
   "outputs": [
    {
     "name": "stdout",
     "output_type": "stream",
     "text": [
      "<class 'int'>\n",
      "<class 'float'>\n",
      "<class 'complex'>\n"
     ]
    }
   ],
   "source": [
    "#Example 1\n",
    "x = 1 #int\n",
    "y = 2.8 #float\n",
    "z = 1j #complex\n",
    "\n",
    "print(type(x))\n",
    "print(type(y))\n",
    "print(type(z))"
   ]
  },
  {
   "cell_type": "code",
   "execution_count": 141,
   "id": "d124b7ea-6a9b-4542-87a1-f350e98a1593",
   "metadata": {},
   "outputs": [
    {
     "name": "stdout",
     "output_type": "stream",
     "text": [
      "<class 'int'>\n",
      "<class 'int'>\n",
      "<class 'int'>\n"
     ]
    }
   ],
   "source": [
    "#Example 2 Integers\n",
    "x = 1\n",
    "y = 35656222554887711\n",
    "z = -3255522\n",
    "\n",
    "print(type(x))\n",
    "print(type(y))\n",
    "print(type(z))"
   ]
  },
  {
   "cell_type": "code",
   "execution_count": 143,
   "id": "6ea1ecd3-b2ca-4884-8df8-05cbe4772a87",
   "metadata": {},
   "outputs": [
    {
     "name": "stdout",
     "output_type": "stream",
     "text": [
      "<class 'float'>\n",
      "<class 'float'>\n",
      "<class 'float'>\n"
     ]
    }
   ],
   "source": [
    "#Example 3 Floating point numbers\n",
    "x = 1.0\n",
    "y = 1.10\n",
    "z = -35.59\n",
    "\n",
    "print(type(x))\n",
    "print(type(y))\n",
    "print(type(z))"
   ]
  },
  {
   "cell_type": "code",
   "execution_count": 145,
   "id": "a6f96e20-233b-4835-8ee7-cd0df9fe67f9",
   "metadata": {},
   "outputs": [
    {
     "name": "stdout",
     "output_type": "stream",
     "text": [
      "<class 'float'>\n",
      "<class 'float'>\n",
      "<class 'float'>\n"
     ]
    }
   ],
   "source": [
    "#Example 4 Float can also be scientific numbers with an \"e\" to indicate the power of 10\n",
    "x = 35e3\n",
    "y = 12e4\n",
    "z = -87.7e100\n",
    "\n",
    "print(type(x))\n",
    "print(type(y))\n",
    "print(type(z))"
   ]
  },
  {
   "cell_type": "code",
   "execution_count": 147,
   "id": "7d8d32f6-b072-4ddf-a70e-1015f76adb44",
   "metadata": {},
   "outputs": [
    {
     "name": "stdout",
     "output_type": "stream",
     "text": [
      "<class 'complex'>\n",
      "<class 'complex'>\n",
      "<class 'complex'>\n"
     ]
    }
   ],
   "source": [
    "#Example 5 Complex numbers\n",
    "x = 3 + 5j\n",
    "y = 5j\n",
    "z = -5j\n",
    "\n",
    "print(type(x))\n",
    "print(type(y))\n",
    "print(type(z))"
   ]
  },
  {
   "cell_type": "code",
   "execution_count": 151,
   "id": "4116de69-b8ae-41aa-b0a4-4d94486b65a6",
   "metadata": {},
   "outputs": [
    {
     "name": "stdout",
     "output_type": "stream",
     "text": [
      "1.0\n",
      "2\n",
      "(1+0j)\n",
      "<class 'float'>\n",
      "<class 'int'>\n",
      "<class 'complex'>\n"
     ]
    }
   ],
   "source": [
    "#Example 6 Type conversion\n",
    "x = 1 #int\n",
    "y = 2.8 #float\n",
    "z = 1j #complex You cannot convert complex numbers into another number type\n",
    "\n",
    "#convert from int to float\n",
    "a = float(x)\n",
    "#convert from float to int\n",
    "b = int(y)\n",
    "#convert from int to complex\n",
    "c = complex(x)\n",
    "\n",
    "print(a)\n",
    "print(b)\n",
    "print(c)\n",
    "\n",
    "print(type(a))\n",
    "print(type(b))\n",
    "print(type(c))"
   ]
  },
  {
   "cell_type": "markdown",
   "id": "d4144652-595d-4df5-b3c0-960a61226bd8",
   "metadata": {},
   "source": [
    "#Example 7 Random number\n",
    "import random #Import the random module\n",
    "\n",
    "print(random.randrange(1,10)) #display a random number between 1 and 9"
   ]
  },
  {
   "cell_type": "markdown",
   "id": "d355f70f-99e4-4dfe-9965-cb43081a2fc9",
   "metadata": {},
   "source": [
    "CASTING"
   ]
  },
  {
   "cell_type": "code",
   "execution_count": 158,
   "id": "a557223e-3a97-4e25-970a-840e24d3d456",
   "metadata": {},
   "outputs": [],
   "source": [
    "#Example 1\n",
    "x = int(1) #x will be 1\n",
    "y = int(2.8) #y will be 2\n",
    "z = int(\"3\") #z will be 3"
   ]
  },
  {
   "cell_type": "code",
   "execution_count": 162,
   "id": "7aba53cb-c1d4-4f44-b6f6-c9862bd25fd2",
   "metadata": {},
   "outputs": [],
   "source": [
    "#Example 2\n",
    "x = float(1) #x will be 1.0\n",
    "y = float(2.8) #y will be 2.8\n",
    "z = float(\"3\") #z will be 3.0\n",
    "v = float(\"4.5\") #v will be 4.5"
   ]
  },
  {
   "cell_type": "code",
   "execution_count": 164,
   "id": "9bae8439-2d28-489d-8e7e-3d54a1d0859e",
   "metadata": {},
   "outputs": [],
   "source": [
    "#Example 3\n",
    "x = str(\"s1\") #x will be 's1'\n",
    "y = str(1) #y will be '1'\n",
    "z = str(3.7) #z will be '3.7'"
   ]
  },
  {
   "cell_type": "markdown",
   "id": "cbc13cbc-efa5-4afe-aebd-16d2186433f2",
   "metadata": {},
   "source": [
    "STRINGS"
   ]
  },
  {
   "cell_type": "markdown",
   "id": "dbd78112-634d-4f6e-9237-6be093b34d43",
   "metadata": {},
   "source": [
    "Strings"
   ]
  },
  {
   "cell_type": "code",
   "execution_count": 168,
   "id": "66b739f8-0d63-4f86-aab4-b318f2360cbf",
   "metadata": {},
   "outputs": [
    {
     "name": "stdout",
     "output_type": "stream",
     "text": [
      "hello\n",
      "hello\n"
     ]
    }
   ],
   "source": [
    "#Example 1\n",
    "print(\"hello\")\n",
    "print('hello')"
   ]
  },
  {
   "cell_type": "code",
   "execution_count": 170,
   "id": "9261c5cb-805d-4302-ae8a-abfb122ee27b",
   "metadata": {},
   "outputs": [
    {
     "name": "stdout",
     "output_type": "stream",
     "text": [
      "It's alright\n",
      "He is called 'Jhonny'\n",
      "He is called \"Jhonny\"\n"
     ]
    }
   ],
   "source": [
    "#Example 2\n",
    "print(\"It's alright\")\n",
    "print(\"He is called 'Jhonny'\")\n",
    "print('He is called \"Jhonny\"')"
   ]
  },
  {
   "cell_type": "code",
   "execution_count": 172,
   "id": "e2860254-62b8-40e7-83a4-d5bd44a5e385",
   "metadata": {},
   "outputs": [
    {
     "name": "stdout",
     "output_type": "stream",
     "text": [
      "hello\n"
     ]
    }
   ],
   "source": [
    "#Example 3\n",
    "a = \"hello\"\n",
    "print(a)"
   ]
  },
  {
   "cell_type": "code",
   "execution_count": 176,
   "id": "9f9b7b45-a467-4b1a-a3bd-63c646758418",
   "metadata": {},
   "outputs": [
    {
     "name": "stdout",
     "output_type": "stream",
     "text": [
      "Hello, \n",
      "KBTU students.\n",
      "Are you ok?\n"
     ]
    }
   ],
   "source": [
    "#Example 4\n",
    "a = \"\"\"Hello, \n",
    "KBTU students.\n",
    "Are you ok?\"\"\"\n",
    "print(a)"
   ]
  },
  {
   "cell_type": "code",
   "execution_count": 178,
   "id": "0bf901f9-d246-448d-bf17-96dadf39c7dc",
   "metadata": {},
   "outputs": [
    {
     "name": "stdout",
     "output_type": "stream",
     "text": [
      "Lorem ipsum dolor sit amet,\n",
      "consectetur adipiscing elit,\n",
      "sed do eiusmod tempor incididunt\n",
      "ut labore et dolore magna aliqua.\n"
     ]
    }
   ],
   "source": [
    "#Example 5\n",
    "a = '''Lorem ipsum dolor sit amet,\n",
    "consectetur adipiscing elit,\n",
    "sed do eiusmod tempor incididunt\n",
    "ut labore et dolore magna aliqua.'''\n",
    "print(a)"
   ]
  },
  {
   "cell_type": "code",
   "execution_count": 182,
   "id": "c77c618b-4860-44e0-b44e-38569a7649f4",
   "metadata": {},
   "outputs": [
    {
     "name": "stdout",
     "output_type": "stream",
     "text": [
      "K\n"
     ]
    }
   ],
   "source": [
    "#Example 6\n",
    "a = \"KBTU\"\n",
    "print(a[0])"
   ]
  },
  {
   "cell_type": "code",
   "execution_count": 184,
   "id": "143038cf-5fc8-4f3a-b879-852ed359e5e6",
   "metadata": {},
   "outputs": [
    {
     "name": "stdout",
     "output_type": "stream",
     "text": [
      "b\n",
      "a\n",
      "n\n",
      "a\n",
      "n\n",
      "a\n"
     ]
    }
   ],
   "source": [
    "#Example 7\n",
    "for x in \"banana\":\n",
    "    print(x)"
   ]
  },
  {
   "cell_type": "code",
   "execution_count": 188,
   "id": "51a785dc-3e14-4241-8ac8-699552b99a5f",
   "metadata": {},
   "outputs": [
    {
     "name": "stdout",
     "output_type": "stream",
     "text": [
      "4\n"
     ]
    }
   ],
   "source": [
    "#Example 8 The length of a string\n",
    "a = \"KBTU\"\n",
    "print(len(a))"
   ]
  },
  {
   "cell_type": "code",
   "execution_count": 190,
   "id": "44d3fb60-6bb2-4440-aeee-c739b7a67daa",
   "metadata": {},
   "outputs": [
    {
     "name": "stdout",
     "output_type": "stream",
     "text": [
      "True\n"
     ]
    }
   ],
   "source": [
    "#Example 9 To check if a certain phrase or character is present in a string, we can use the keyword 'in'\n",
    "a = \"I love KBTU\"\n",
    "print(\"love\" in a)"
   ]
  },
  {
   "cell_type": "code",
   "execution_count": 192,
   "id": "eca1f419-52c4-435f-97f8-85c997eee9ea",
   "metadata": {},
   "outputs": [
    {
     "name": "stdout",
     "output_type": "stream",
     "text": [
      "Yes, 'free' is present.\n"
     ]
    }
   ],
   "source": [
    "#Example 10\n",
    "txt = \"The best things in life are free!\"\n",
    "if \"free\" in txt:\n",
    "    print(\"Yes, 'free' is present.\")"
   ]
  },
  {
   "cell_type": "code",
   "execution_count": 194,
   "id": "343da05e-19d8-44a3-b205-5a82dc89fe5f",
   "metadata": {},
   "outputs": [
    {
     "name": "stdout",
     "output_type": "stream",
     "text": [
      "True\n"
     ]
    }
   ],
   "source": [
    "#Example 11 To check if a certain phrase or character is not present in a string, we can use the keyword 'not in'\n",
    "txt = \"The best things in life are free!\"\n",
    "print(\"expensive\" not in txt)"
   ]
  },
  {
   "cell_type": "code",
   "execution_count": 196,
   "id": "6693b1a6-fd8a-48ad-8ed3-13da064cad64",
   "metadata": {},
   "outputs": [
    {
     "name": "stdout",
     "output_type": "stream",
     "text": [
      "No, 'expensive' is NOT present.\n"
     ]
    }
   ],
   "source": [
    "#Example 12\n",
    "txt = \"The best things in life are free!\"\n",
    "if \"expensive\" not in txt:\n",
    "    print(\"No, 'expensive' is NOT present.\")"
   ]
  },
  {
   "cell_type": "markdown",
   "id": "e72fc3f3-6a22-4470-80b6-43e6c7908e14",
   "metadata": {},
   "source": [
    "Slicing strings"
   ]
  },
  {
   "cell_type": "code",
   "execution_count": 199,
   "id": "eaa1d282-4612-4b7f-9a04-a7988572b6cb",
   "metadata": {},
   "outputs": [
    {
     "name": "stdout",
     "output_type": "stream",
     "text": [
      "llo\n"
     ]
    }
   ],
   "source": [
    "#Example 1 Get the characters from position 2 to position 5 (not included)\n",
    "b = \"Hello, KBTU!\"\n",
    "print(b[2:5])"
   ]
  },
  {
   "cell_type": "code",
   "execution_count": 201,
   "id": "c2f80aa3-6447-4a90-836e-44494784d2c6",
   "metadata": {},
   "outputs": [
    {
     "name": "stdout",
     "output_type": "stream",
     "text": [
      "Hello\n"
     ]
    }
   ],
   "source": [
    "#Example 2 Get the characters from the start to position 5 (not included)\n",
    "b = \"Hello, KBTU!\"\n",
    "print(b[:5])"
   ]
  },
  {
   "cell_type": "code",
   "execution_count": 203,
   "id": "87cc80df-c329-40a8-ad34-2d87363339be",
   "metadata": {},
   "outputs": [
    {
     "name": "stdout",
     "output_type": "stream",
     "text": [
      "llo, KBTU!\n"
     ]
    }
   ],
   "source": [
    "#Example 3 Get the characters from position 2, and all the way to the end\n",
    "b = \"Hello, KBTU!\"\n",
    "print(b[2:])"
   ]
  },
  {
   "cell_type": "code",
   "execution_count": 205,
   "id": "38c11827-3bbd-4139-8e07-13ff585df1c3",
   "metadata": {},
   "outputs": [
    {
     "name": "stdout",
     "output_type": "stream",
     "text": [
      "KBT\n"
     ]
    }
   ],
   "source": [
    "#Example 4 Use negative indexes to start the slice from the end of the string\n",
    "b = \"Hello, KBTU!\"\n",
    "print(b[-5:-2])"
   ]
  },
  {
   "cell_type": "markdown",
   "id": "35495abc-3ec4-4db8-a215-531261659284",
   "metadata": {},
   "source": [
    "Modify strings"
   ]
  },
  {
   "cell_type": "code",
   "execution_count": 208,
   "id": "ca02a998-85c2-47b4-9a6c-6a51b989087f",
   "metadata": {},
   "outputs": [
    {
     "name": "stdout",
     "output_type": "stream",
     "text": [
      "HELLO, KBTU!\n"
     ]
    }
   ],
   "source": [
    "#Example 1 To upper case\n",
    "a = \"Hello, KBTU!\"\n",
    "print(a.upper())"
   ]
  },
  {
   "cell_type": "code",
   "execution_count": 210,
   "id": "bb042557-00ca-4b04-a2a3-60c37ab0a587",
   "metadata": {},
   "outputs": [
    {
     "name": "stdout",
     "output_type": "stream",
     "text": [
      "hello, kbtu!\n"
     ]
    }
   ],
   "source": [
    "#Example 2 To lower case\n",
    "a = \"Hello, KBTU!\"\n",
    "print(a.lower())"
   ]
  },
  {
   "cell_type": "code",
   "execution_count": 212,
   "id": "26fc7752-1fd8-402c-bf0e-34e1d44da59b",
   "metadata": {},
   "outputs": [
    {
     "name": "stdout",
     "output_type": "stream",
     "text": [
      "Hello, KBTU!\n"
     ]
    }
   ],
   "source": [
    "#Example 3 Removing whitespaces (Whitespace is the space before and/or after the actual text)\n",
    "a = \" Hello, KBTU! \"\n",
    "print(a.strip())"
   ]
  },
  {
   "cell_type": "code",
   "execution_count": 218,
   "id": "c0a5248e-0fa0-492b-865e-efa0437c2fa5",
   "metadata": {},
   "outputs": [
    {
     "name": "stdout",
     "output_type": "stream",
     "text": [
      "Jello, KBTU!\n"
     ]
    }
   ],
   "source": [
    "#Example 4 Replace\n",
    "a = \"Hello, KBTU!\"\n",
    "print(a.replace(\"H\", \"J\"))"
   ]
  },
  {
   "cell_type": "code",
   "execution_count": 220,
   "id": "bb255640-4601-48b0-8f21-2cd8e1861313",
   "metadata": {},
   "outputs": [
    {
     "name": "stdout",
     "output_type": "stream",
     "text": [
      "['Hello,', 'KBTU!']\n"
     ]
    }
   ],
   "source": [
    "#Example 5 Split (The split() method returns a list where the text between the specified separator becomes the list items)\n",
    "a = \"Hello, KBTU!\"\n",
    "print(a.split())"
   ]
  },
  {
   "cell_type": "markdown",
   "id": "8273443a-a0c8-40c2-9615-b5042b6042f6",
   "metadata": {},
   "source": [
    "Concatenate strings"
   ]
  },
  {
   "cell_type": "code",
   "execution_count": 223,
   "id": "03790010-b173-4281-bda7-b16d4c7ce24f",
   "metadata": {},
   "outputs": [
    {
     "name": "stdout",
     "output_type": "stream",
     "text": [
      "HelloKBTU\n"
     ]
    }
   ],
   "source": [
    "#Example 1 Merge with +\n",
    "a = \"Hello\"\n",
    "b = \"KBTU\"\n",
    "c = a + b\n",
    "print(c)"
   ]
  },
  {
   "cell_type": "code",
   "execution_count": 225,
   "id": "8ef07dfb-f882-46be-93b6-b863ab3c3ed3",
   "metadata": {},
   "outputs": [
    {
     "name": "stdout",
     "output_type": "stream",
     "text": [
      "Hello KBTU\n"
     ]
    }
   ],
   "source": [
    "#Example 2\n",
    "a = \"Hello\"\n",
    "b = \"KBTU\"\n",
    "c = a + \" \" + b\n",
    "print(c)"
   ]
  },
  {
   "cell_type": "markdown",
   "id": "3361eee6-b487-48b6-9207-cb3ba990ea37",
   "metadata": {},
   "source": [
    "Format strings"
   ]
  },
  {
   "cell_type": "code",
   "execution_count": 228,
   "id": "32c34c02-0a89-4864-9d67-333055d230fa",
   "metadata": {},
   "outputs": [
    {
     "ename": "TypeError",
     "evalue": "can only concatenate str (not \"int\") to str",
     "output_type": "error",
     "traceback": [
      "\u001b[1;31m---------------------------------------------------------------------------\u001b[0m",
      "\u001b[1;31mTypeError\u001b[0m                                 Traceback (most recent call last)",
      "Cell \u001b[1;32mIn[228], line 3\u001b[0m\n\u001b[0;32m      1\u001b[0m \u001b[38;5;66;03m#Example 1\u001b[39;00m\n\u001b[0;32m      2\u001b[0m age \u001b[38;5;241m=\u001b[39m \u001b[38;5;241m36\u001b[39m\n\u001b[1;32m----> 3\u001b[0m txt \u001b[38;5;241m=\u001b[39m \u001b[38;5;124m\"\u001b[39m\u001b[38;5;124mMy name is John, I am \u001b[39m\u001b[38;5;124m\"\u001b[39m \u001b[38;5;241m+\u001b[39m age\n\u001b[0;32m      4\u001b[0m \u001b[38;5;28mprint\u001b[39m(txt)\n",
      "\u001b[1;31mTypeError\u001b[0m: can only concatenate str (not \"int\") to str"
     ]
    }
   ],
   "source": [
    "#Example 1 Cannot combine strings and numbers like this\n",
    "age = 36\n",
    "txt = \"My name is John, I am \" + age\n",
    "print(txt)"
   ]
  },
  {
   "cell_type": "code",
   "execution_count": 232,
   "id": "587054be-8c5f-4590-85fa-2455a3a8a48d",
   "metadata": {},
   "outputs": [
    {
     "name": "stdout",
     "output_type": "stream",
     "text": [
      "My name is John, I am 36\n"
     ]
    }
   ],
   "source": [
    "#Example 2 f-string\n",
    "age = 36\n",
    "txt = f\"My name is John, I am {36}\"\n",
    "print(txt)"
   ]
  },
  {
   "cell_type": "code",
   "execution_count": 234,
   "id": "2f63aa63-b064-4875-818e-28c7cdc21f39",
   "metadata": {},
   "outputs": [
    {
     "name": "stdout",
     "output_type": "stream",
     "text": [
      "My name is John, I am 36\n"
     ]
    }
   ],
   "source": [
    "#Example 3 Placeholder\n",
    "age = 36\n",
    "txt = f\"My name is John, I am {age}\"\n",
    "print(txt)"
   ]
  },
  {
   "cell_type": "code",
   "execution_count": 238,
   "id": "2604bdd3-ee5f-4b47-8d0e-1138fff96f3e",
   "metadata": {},
   "outputs": [
    {
     "name": "stdout",
     "output_type": "stream",
     "text": [
      "The price is 59.00 dollars\n"
     ]
    }
   ],
   "source": [
    "#Example 4 A placeholder can include a modifier to format the value. \n",
    "#A modifier is included by adding a colon : followed by a legal formatting type, like .2f which means fixed point number with 2 decimals\n",
    "price = 59\n",
    "txt = f\"The price is {price:.2f} dollars\"\n",
    "print(txt)"
   ]
  },
  {
   "cell_type": "code",
   "execution_count": 244,
   "id": "412a9e16-58a7-480c-88a7-c28ad45505b5",
   "metadata": {},
   "outputs": [
    {
     "name": "stdout",
     "output_type": "stream",
     "text": [
      "Price is 1180 dollars\n"
     ]
    }
   ],
   "source": [
    "#Example 5 A placeholder with a code\n",
    "txt = f\"Price is {20*59} dollars\"\n",
    "print(txt)"
   ]
  },
  {
   "cell_type": "markdown",
   "id": "36d48f7b-3787-4619-8475-baf98f64f475",
   "metadata": {},
   "source": [
    "Escape character"
   ]
  },
  {
   "cell_type": "code",
   "execution_count": 247,
   "id": "024f67d2-8d66-49dd-b86e-8852bbb4481a",
   "metadata": {},
   "outputs": [
    {
     "ename": "SyntaxError",
     "evalue": "invalid syntax (1198175938.py, line 2)",
     "output_type": "error",
     "traceback": [
      "\u001b[1;36m  Cell \u001b[1;32mIn[247], line 2\u001b[1;36m\u001b[0m\n\u001b[1;33m    txt = \"We are the so-called \"Vikings\" from the north.\"\u001b[0m\n\u001b[1;37m                                 ^\u001b[0m\n\u001b[1;31mSyntaxError\u001b[0m\u001b[1;31m:\u001b[0m invalid syntax\n"
     ]
    }
   ],
   "source": [
    "#Example 1 To insert characters that are illegal in a string, use an escape character(a backslash \\ followed by the character you want to insert)\n",
    "txt = \"We are the so-called \"Vikings\" from the north.\"\n",
    "print(txt)"
   ]
  },
  {
   "cell_type": "code",
   "execution_count": 253,
   "id": "5de8a5a6-9d7f-46b8-84c8-da911358b8e3",
   "metadata": {},
   "outputs": [
    {
     "name": "stdout",
     "output_type": "stream",
     "text": [
      "We are the so-called \"Vikings\" from the north.\n"
     ]
    }
   ],
   "source": [
    "#Example 2 The escape character allows you to use double quotes when you normally would not be allowed\n",
    "txt = \"We are the so-called \\\"Vikings\\\" from the north.\"\n",
    "print(txt)"
   ]
  },
  {
   "cell_type": "code",
   "execution_count": null,
   "id": "8cc48925-daa6-4cce-932a-7d79749af406",
   "metadata": {},
   "outputs": [],
   "source": []
  }
 ],
 "metadata": {
  "kernelspec": {
   "display_name": "Python [conda env:base] *",
   "language": "python",
   "name": "conda-base-py"
  },
  "language_info": {
   "codemirror_mode": {
    "name": "ipython",
    "version": 3
   },
   "file_extension": ".py",
   "mimetype": "text/x-python",
   "name": "python",
   "nbconvert_exporter": "python",
   "pygments_lexer": "ipython3",
   "version": "3.12.7"
  }
 },
 "nbformat": 4,
 "nbformat_minor": 5
}
