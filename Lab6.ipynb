{
 "cells": [
  {
   "cell_type": "markdown",
   "id": "b8730ffe-bb82-48aa-b74c-385d67aa74cb",
   "metadata": {},
   "source": [
    "LAB 6"
   ]
  },
  {
   "cell_type": "markdown",
   "id": "c3d67122-aeb9-4756-93c3-37a0d7f4fc7a",
   "metadata": {},
   "source": [
    "Built-In Functions"
   ]
  },
  {
   "cell_type": "markdown",
   "id": "d2bd02a7-c5f6-49ac-aa84-9cb640e42dd2",
   "metadata": {},
   "source": [
    "1. Write a Python program with builtin function to multiply all the numbers in a list\n",
    "\n",
    "2. Write a Python program with builtin function that accepts a string and calculate the number of upper case letters and lower case letters\n",
    "\n",
    "3. Write a Python program with builtin function that checks whether a passed string is palindrome or not.\n",
    "\n",
    "4. Write a Python program that invoke square root function after specific milliseconds.\n",
    "\n",
    "Sample Input:\n",
    "\n",
    "25100\n",
    "\n",
    "2123\n",
    "\n",
    "Sample Output:\n",
    "\n",
    "Square root of 25100 after 2123 miliseconds is 158.42979517754858\n",
    "\n",
    "5. Write a Python program with builtin function that returns True if all elements of the tuple are true."
   ]
  },
  {
   "cell_type": "code",
   "execution_count": 3,
   "id": "80354690-fdb5-4e8e-a1c6-970f7f259027",
   "metadata": {},
   "outputs": [
    {
     "name": "stdout",
     "output_type": "stream",
     "text": [
      "5320\n"
     ]
    }
   ],
   "source": [
    "#1 \n",
    "x = [2, 4, 5, 7, 19]\n",
    "\n",
    "def multiplicated(x):\n",
    "    a = 1\n",
    "    for num in x:\n",
    "        a = eval('num * a')\n",
    "    return a\n",
    "y = multiplicated(x)\n",
    "print(y)"
   ]
  },
  {
   "cell_type": "code",
   "execution_count": 9,
   "id": "8eb9b797-1254-4ce9-af12-7c5a74995fa9",
   "metadata": {},
   "outputs": [
    {
     "name": "stdin",
     "output_type": "stream",
     "text": [
      " Hello, KBTU!\n"
     ]
    },
    {
     "name": "stdout",
     "output_type": "stream",
     "text": [
      "The string contains 4 lower case letters annd 5 upper case letters.\n"
     ]
    }
   ],
   "source": [
    "#2 \n",
    "x = input()\n",
    "\n",
    "low_num = 0\n",
    "upp_num = 0\n",
    "\n",
    "for word in x:\n",
    "    for letter in word:\n",
    "        if letter.isupper():\n",
    "            upp_num += 1\n",
    "        elif letter.islower():\n",
    "            low_num += 1\n",
    "\n",
    "print(f\"The string contains {low_num} lower case letters annd {upp_num} upper case letters.\")"
   ]
  },
  {
   "cell_type": "code",
   "execution_count": 41,
   "id": "e3bd60e1-9bbf-42df-998c-a3ca6a11a509",
   "metadata": {},
   "outputs": [
    {
     "name": "stdin",
     "output_type": "stream",
     "text": [
      " ababa\n"
     ]
    },
    {
     "name": "stdout",
     "output_type": "stream",
     "text": [
      "It is a palindrome\n"
     ]
    }
   ],
   "source": [
    "#3 \n",
    "x = input()\n",
    "\n",
    "y = ''.join(reversed(x))\n",
    "\n",
    "if x == y:\n",
    "    print(\"It is a palindrome\")\n",
    "else:\n",
    "    print(\"It is not a palindrome\")"
   ]
  },
  {
   "cell_type": "code",
   "execution_count": 49,
   "id": "9fbe8f28-c68e-4db0-b5a1-1b6d883365c3",
   "metadata": {},
   "outputs": [
    {
     "name": "stdin",
     "output_type": "stream",
     "text": [
      " 25100\n",
      " 2123\n"
     ]
    },
    {
     "name": "stdout",
     "output_type": "stream",
     "text": [
      "Square root of 25100 after 2123 miliseconds is 158.42979517754858\n"
     ]
    }
   ],
   "source": [
    "#4\n",
    "import time\n",
    "import math\n",
    "\n",
    "def root_after_time(number, time_in_ms):\n",
    "    time.sleep((time_in_ms/1000))\n",
    "    return math.sqrt(number)\n",
    "\n",
    "number = int(input())\n",
    "time_in_ms = int(input())\n",
    "\n",
    "result = root_after_time(number, time_in_ms)\n",
    "\n",
    "print(f\"Square root of {number} after {time_in_ms} miliseconds is {result}\")"
   ]
  },
  {
   "cell_type": "code",
   "execution_count": 51,
   "id": "e318e376-0446-4aee-9d32-e4f0eeec9c36",
   "metadata": {},
   "outputs": [
    {
     "name": "stdout",
     "output_type": "stream",
     "text": [
      "Yes\n",
      "No\n"
     ]
    }
   ],
   "source": [
    "#5\n",
    "x = ('apple', 1, 7, True)\n",
    "y = ('banana', 8, 0)\n",
    "\n",
    "if all(x):\n",
    "    print(\"Yes\")\n",
    "else:\n",
    "    print(\"No\")\n",
    "\n",
    "if all(y):\n",
    "    print(\"Yes\")\n",
    "else:\n",
    "    print(\"No\")"
   ]
  },
  {
   "cell_type": "markdown",
   "id": "ef51a3c7-e355-4b3e-88ec-e949d61200cc",
   "metadata": {},
   "source": [
    "Directories And Files"
   ]
  },
  {
   "cell_type": "markdown",
   "id": "d558d8f1-0a6b-4a17-960f-5458968ca704",
   "metadata": {},
   "source": [
    "1. Write a Python program to list only directories, files and all directories, files in a specified path.\n",
    "2. Write a Python program to check for access to a specified path. Test the existence, readability, writability and executability of the specified path\n",
    "3. Write a Python program to test whether a given path exists or not. If the path exist find the filename and directory portion of the given path.\n",
    "4. Write a Python program to count the number of lines in a text file.\n",
    "5. Write a Python program to write a list to a file.\n",
    "6. Write a Python program to generate 26 text files named A.txt, B.txt, and so on up to Z.txt\n",
    "7. Write a Python program to copy the contents of a file to another file\n",
    "8. Write a Python program to delete file by specified path. Before deleting check for access and whether a given path exists or not."
   ]
  },
  {
   "cell_type": "code",
   "execution_count": 101,
   "id": "55b2b578-18b1-4f61-afc6-b96535304380",
   "metadata": {},
   "outputs": [
    {
     "name": "stdout",
     "output_type": "stream",
     "text": [
      "Only directories: ['.anaconda', '.conda', '.continuum', '.ipynb_checkpoints', '.ipython', '.jupyter', '.vscode', 'anaconda_projects', 'AppData', 'Application Data', 'Contacts', 'Cookies', 'Desktop', 'Documents', 'Downloads', 'Favorites', 'Letters', 'Links', 'Local Settings', 'Music', 'NetHood', 'OneDrive', 'Pictures', 'PrintHood', 'Recent', 'Saved Games', 'Searches', 'SendTo', 'Videos', 'главное меню', 'Мои документы', 'Шаблоны']\n",
      "Only files: ['.condarc', 'Lab3', 'NTUSER.DAT', 'ntuser.dat.LOG1', 'ntuser.dat.LOG2', 'NTUSER.DAT{a2332f18-cdbf-11ec-8680-002248483d79}.TM.blf', 'NTUSER.DAT{a2332f18-cdbf-11ec-8680-002248483d79}.TMContainer00000000000000000001.regtrans-ms', 'NTUSER.DAT{a2332f18-cdbf-11ec-8680-002248483d79}.TMContainer00000000000000000002.regtrans-ms', 'ntuser.ini', 'the_copy.txt']\n",
      "Everything: ['.anaconda', '.conda', '.condarc', '.continuum', '.ipynb_checkpoints', '.ipython', '.jupyter', '.vscode', 'anaconda_projects', 'AppData', 'Application Data', 'Contacts', 'Cookies', 'Desktop', 'Documents', 'Downloads', 'Favorites', 'Lab3', 'Letters', 'Links', 'Local Settings', 'Music', 'NetHood', 'NTUSER.DAT', 'ntuser.dat.LOG1', 'ntuser.dat.LOG2', 'NTUSER.DAT{a2332f18-cdbf-11ec-8680-002248483d79}.TM.blf', 'NTUSER.DAT{a2332f18-cdbf-11ec-8680-002248483d79}.TMContainer00000000000000000001.regtrans-ms', 'NTUSER.DAT{a2332f18-cdbf-11ec-8680-002248483d79}.TMContainer00000000000000000002.regtrans-ms', 'ntuser.ini', 'OneDrive', 'Pictures', 'PrintHood', 'Recent', 'Saved Games', 'Searches', 'SendTo', 'the_copy.txt', 'Videos', 'главное меню', 'Мои документы', 'Шаблоны']\n"
     ]
    }
   ],
   "source": [
    "#1\n",
    "import os\n",
    "\n",
    "path = r\"C:\\Users\\Амина Тохтамысова\\\\\"\n",
    "\n",
    "dir_list = []\n",
    "file_list = []\n",
    "\n",
    "for x in os.listdir(path):\n",
    "        if os.path.isdir(os.path.join(path, x)):\n",
    "            dir_list.append(x)\n",
    "        elif os.path.isfile(os.path.join(path, x)):\n",
    "            file_list.append(x)\n",
    "\n",
    "print(f\"Only directories: {dir_list}\")\n",
    "print(f\"Only files: {file_list}\")\n",
    "\n",
    "dir_and_files = os.listdir(path)\n",
    "print(f\"Everything: {dir_and_files}\")"
   ]
  },
  {
   "cell_type": "code",
   "execution_count": 112,
   "id": "63fe7ecf-50f5-49aa-ba2a-d3b3fa87982a",
   "metadata": {},
   "outputs": [
    {
     "name": "stdout",
     "output_type": "stream",
     "text": [
      "Existence:  True\n",
      "Readability:  True\n",
      "Writability:  True\n",
      "Executability:  True\n"
     ]
    }
   ],
   "source": [
    "#2\n",
    "import os\n",
    "\n",
    "print(\"Existence: \", os.access(path, os.F_OK))\n",
    "print(\"Readability: \", os.access(path, os.R_OK))\n",
    "print(\"Writability: \", os.access(path, os.W_OK))\n",
    "print(\"Executability: \", os.access(path, os.X_OK))"
   ]
  },
  {
   "cell_type": "code",
   "execution_count": 132,
   "id": "d7c46755-0d3c-4376-8edc-a83a083d5d6e",
   "metadata": {},
   "outputs": [
    {
     "name": "stdout",
     "output_type": "stream",
     "text": [
      "Directories: ['.anaconda', '.conda', '.continuum', '.ipynb_checkpoints', '.ipython', '.jupyter', '.vscode', 'anaconda_projects', 'AppData', 'Application Data', 'Contacts', 'Cookies', 'Desktop', 'Documents', 'Downloads', 'Favorites', 'Links', 'Local Settings', 'Music', 'NetHood', 'OneDrive', 'Pictures', 'PrintHood', 'Recent', 'Saved Games', 'Searches', 'SendTo', 'Videos', 'главное меню', 'Мои документы', 'Шаблоны']\n",
      "Files: ['.condarc', 'Lab3', 'NTUSER.DAT', 'ntuser.dat.LOG1', 'ntuser.dat.LOG2', 'NTUSER.DAT{a2332f18-cdbf-11ec-8680-002248483d79}.TM.blf', 'NTUSER.DAT{a2332f18-cdbf-11ec-8680-002248483d79}.TMContainer00000000000000000001.regtrans-ms', 'NTUSER.DAT{a2332f18-cdbf-11ec-8680-002248483d79}.TMContainer00000000000000000002.regtrans-ms', 'ntuser.ini']\n"
     ]
    }
   ],
   "source": [
    "#3\n",
    "\n",
    "if os.path.exists(path):\n",
    "    dirs = []\n",
    "    files = []\n",
    "\n",
    "    for x in os.listdir(path):\n",
    "        if os.path.isdir(os.path.join(path, x)):\n",
    "            dirs.append(x)\n",
    "        \n",
    "        if not os.path.isdir(os.path.join(path, x)):\n",
    "            files.append(x) \n",
    "    \n",
    "    print(f\"Directories: {dirs}\")\n",
    "    print(f\"Files: {files}\")\n",
    "else:\n",
    "    print(\"Path does not exist\")"
   ]
  },
  {
   "cell_type": "code",
   "execution_count": 107,
   "id": "466c5927-d229-42ca-a97d-b6dcf1132ffc",
   "metadata": {},
   "outputs": [
    {
     "name": "stdout",
     "output_type": "stream",
     "text": [
      "Number of lines: 1\n"
     ]
    }
   ],
   "source": [
    "#4 \n",
    "the_file = r\"C:\\Users\\Амина Тохтамысова\\Lab3\"\n",
    "with open(the_file, 'r') as file:\n",
    "    lines_num = len(file.readlines())\n",
    "    print(f\"Number of lines: {lines_num}\")\n",
    "file.close()"
   ]
  },
  {
   "cell_type": "code",
   "execution_count": 109,
   "id": "92dfcd11-161f-48e5-8b1e-25ec608ce320",
   "metadata": {},
   "outputs": [
    {
     "name": "stdout",
     "output_type": "stream",
     "text": [
      "Number of lines: 3\n"
     ]
    }
   ],
   "source": [
    "#5\n",
    "\n",
    "the_list = [\"apple\", \"banana\", \"cherry\"]\n",
    "\n",
    "with open(the_file, 'w') as file:\n",
    "    for fruit in the_list:\n",
    "        file.write(fruit + \"\\n\")\n",
    "\n",
    "with open(the_file, 'r') as file:\n",
    "    lines_num = len(file.readlines())\n",
    "    print(f\"Number of lines: {lines_num}\")\n",
    "file.close()"
   ]
  },
  {
   "cell_type": "code",
   "execution_count": 87,
   "id": "dfe57bc6-8d7f-4167-a3f6-6d64fafdf180",
   "metadata": {},
   "outputs": [],
   "source": [
    "#6 \n",
    "from string import ascii_uppercase\n",
    "\n",
    "for letter in ascii_uppercase:\n",
    "    open(os.path.join(r\"C:\\Users\\Амина Тохтамысова\\Letters\", f\"{letter}.txt\"), \"w\")"
   ]
  },
  {
   "cell_type": "code",
   "execution_count": 111,
   "id": "18b184ab-75ac-4265-9ef8-c3103e607e96",
   "metadata": {},
   "outputs": [],
   "source": [
    "#7 \n",
    "path = r\"C:\\Users\\Амина Тохтамысова\\\\\"\n",
    "\n",
    "file_path = os.path.join(path, \"the_copy.txt\")\n",
    "\n",
    "with open(file_path, 'w') as file:\n",
    "    for line in the_file:\n",
    "        file.write(line)\n",
    "file.close()"
   ]
  },
  {
   "cell_type": "code",
   "execution_count": 99,
   "id": "8ed87d03-43f0-4811-9372-1cf328d78d62",
   "metadata": {},
   "outputs": [],
   "source": [
    "#8\n",
    "path = r\"C:\\Users\\Амина Тохтамысова\\to_delete.txt\"\n",
    "\n",
    "if os.path.exists(path):\n",
    "    if os.access(path, os.X_OK):\n",
    "        os.remove(path)"
   ]
  }
 ],
 "metadata": {
  "kernelspec": {
   "display_name": "Python [conda env:base] *",
   "language": "python",
   "name": "conda-base-py"
  },
  "language_info": {
   "codemirror_mode": {
    "name": "ipython",
    "version": 3
   },
   "file_extension": ".py",
   "mimetype": "text/x-python",
   "name": "python",
   "nbconvert_exporter": "python",
   "pygments_lexer": "ipython3",
   "version": "3.12.7"
  }
 },
 "nbformat": 4,
 "nbformat_minor": 5
}
