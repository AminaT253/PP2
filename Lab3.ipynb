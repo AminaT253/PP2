{
 "cells": [
  {
   "cell_type": "markdown",
   "id": "7a41ae42-6e03-45e8-b3f4-d67f11e0dc01",
   "metadata": {},
   "source": [
    "LAB 3"
   ]
  },
  {
   "cell_type": "markdown",
   "id": "487418be-d7b3-481c-981a-aab43c8dd10b",
   "metadata": {},
   "source": [
    "FUNCTIONS 1"
   ]
  },
  {
   "cell_type": "code",
   "execution_count": 22,
   "id": "3c06a236-2cd3-46c7-8321-ea8c66e9bc6e",
   "metadata": {},
   "outputs": [
    {
     "name": "stdin",
     "output_type": "stream",
     "text": [
      "How many grams do you have?  6\n"
     ]
    },
    {
     "name": "stdout",
     "output_type": "stream",
     "text": [
      "You need 170.0971386 ounces\n"
     ]
    }
   ],
   "source": [
    "#1\n",
    "def grams_to_ounces(grams):\n",
    "    ounces = grams * 28.3495231\n",
    "    print(f\"You need {ounces} ounces\")\n",
    "gramsinput = int(input(\"How many grams do you have? \"))\n",
    "grams_to_ounces(gramsinput)"
   ]
  },
  {
   "cell_type": "code",
   "execution_count": 28,
   "id": "f002374c-c5a1-4e32-92e2-47a4122ddf8d",
   "metadata": {},
   "outputs": [
    {
     "name": "stdin",
     "output_type": "stream",
     "text": [
      "What is the temperature in fahrenheit?  17\n"
     ]
    },
    {
     "name": "stdout",
     "output_type": "stream",
     "text": [
      "The temperature in centigrade is -8.333333333333334\n"
     ]
    }
   ],
   "source": [
    "#2\n",
    "def to_centigrade(fahrenheit):\n",
    "    centigrade = (5 / 9) * (fahrenheit - 32)\n",
    "    print(f\"The temperature in centigrade is {centigrade}\")\n",
    "in_fahrenheit = int(input(\"What is the temperature in fahrenheit? \"))\n",
    "to_centigrade(in_fahrenheit)"
   ]
  },
  {
   "cell_type": "code",
   "execution_count": 32,
   "id": "b3123926-0c32-4e5d-ab45-4a5a00ae5127",
   "metadata": {},
   "outputs": [
    {
     "name": "stdout",
     "output_type": "stream",
     "text": [
      "We have 12 rabbits and 23 chickens\n"
     ]
    }
   ],
   "source": [
    "#3\n",
    "\"\"\"\n",
    "35 heads\n",
    "94 legs\n",
    "\n",
    "numheads = rabbits + chickens\n",
    "numlegs = rabbits*4 + chickens*2\n",
    "chickens = numheads - rabbits\n",
    "rabbits*4 + (numheads - rabbits)*2 = numlegs\n",
    "rabbits*4 - rabbits*2 = numlegs - numheads*2\n",
    "rabbits = (numlegs - numheads*2)//2\n",
    "\"\"\"\n",
    "def solve(numheads, numlegs):\n",
    "    rabbits = (numlegs - numheads*2)//2\n",
    "    chickens = numheads - rabbits\n",
    "    print(f\"We have {rabbits} rabbits and {chickens} chickens\")\n",
    "heads = 35\n",
    "legs = 94\n",
    "solve(heads, legs)"
   ]
  },
  {
   "cell_type": "code",
   "execution_count": 1,
   "id": "38f34c6e-e723-44d9-9187-51f8a0d29617",
   "metadata": {},
   "outputs": [
    {
     "name": "stdin",
     "output_type": "stream",
     "text": [
      " 2 3 4 5 6 7 8 9\n"
     ]
    },
    {
     "name": "stdout",
     "output_type": "stream",
     "text": [
      "3\n",
      "5\n",
      "7\n",
      "9\n"
     ]
    }
   ],
   "source": [
    "#4\n",
    "def is_prime(numbers):\n",
    "    for x in numbers:\n",
    "        if x < 2:\n",
    "            pass\n",
    "        else:\n",
    "            for i in range(2, x):\n",
    "                if x % i == 0:\n",
    "                    break\n",
    "                else:\n",
    "                    print(x)\n",
    "                    break\n",
    "        \n",
    "numbers = list(map(int, input().split()))\n",
    "is_prime(numbers)"
   ]
  },
  {
   "cell_type": "code",
   "execution_count": 15,
   "id": "55b6e7c9-7559-404c-b9a3-6b510552625d",
   "metadata": {},
   "outputs": [
    {
     "name": "stdin",
     "output_type": "stream",
     "text": [
      " abc\n"
     ]
    },
    {
     "name": "stdout",
     "output_type": "stream",
     "text": [
      "abc\n",
      "acb\n",
      "bac\n",
      "bca\n",
      "cab\n",
      "cba\n"
     ]
    }
   ],
   "source": [
    "#5\n",
    "import itertools\n",
    "\n",
    "def all_permutations(string):\n",
    "    \n",
    "    permutations = itertools.permutations(string)\n",
    "    \n",
    "    for perm in permutations:\n",
    "        print(''.join(perm)) \n",
    "        \n",
    "string = input()\n",
    "all_permutations(string)"
   ]
  },
  {
   "cell_type": "code",
   "execution_count": 31,
   "id": "170e80ff-c40a-40a0-8f22-a345d98f5dd9",
   "metadata": {},
   "outputs": [
    {
     "name": "stdin",
     "output_type": "stream",
     "text": [
      " we are ready\n"
     ]
    },
    {
     "name": "stdout",
     "output_type": "stream",
     "text": [
      "ready are we\n"
     ]
    }
   ],
   "source": [
    "#6\n",
    "def reversed(string):\n",
    "    string.reverse()\n",
    "    print(' '.join(string))\n",
    "string = input().split()\n",
    "reversed(string)"
   ]
  },
  {
   "cell_type": "code",
   "execution_count": 63,
   "id": "cf1d9aa0-0392-472a-82dd-5649cbd26e0d",
   "metadata": {},
   "outputs": [
    {
     "name": "stdout",
     "output_type": "stream",
     "text": [
      "True\n",
      "False\n",
      "False\n"
     ]
    }
   ],
   "source": [
    "#7\n",
    "def has_33(numbers):\n",
    "    for i in range(len(numbers) - 1):\n",
    "        if numbers[i] == 3 and numbers[(i+1)] == 3:\n",
    "            return True\n",
    "        else:\n",
    "            pass\n",
    "    return False\n",
    "    \n",
    "print(has_33([1, 3, 3]))\n",
    "print(has_33([1, 3, 1, 3]))\n",
    "print(has_33([3, 1, 3]))"
   ]
  },
  {
   "cell_type": "code",
   "execution_count": 45,
   "id": "dee6b65b-a9da-4ad4-8f3f-edf568fb010d",
   "metadata": {},
   "outputs": [
    {
     "name": "stdout",
     "output_type": "stream",
     "text": [
      "True\n",
      "True\n",
      "False\n"
     ]
    }
   ],
   "source": [
    "#8 \n",
    "def spy_game(numbers):\n",
    "    required = [0, 0, 7]\n",
    "    index = 0\n",
    "    \n",
    "    for x in numbers:\n",
    "        if x == required[index]:\n",
    "            index += 1\n",
    "        if index == len(required):\n",
    "            return True\n",
    "    return False    \n",
    "\n",
    "print(spy_game([1,2,4,0,0,7,5]))\n",
    "print(spy_game([1,0,2,4,0,5,7]))\n",
    "print(spy_game([1,7,2,0,4,5,0]))"
   ]
  },
  {
   "cell_type": "code",
   "execution_count": 83,
   "id": "99c8bbcf-c972-4b9d-a37e-8dbf5686471e",
   "metadata": {},
   "outputs": [
    {
     "name": "stdin",
     "output_type": "stream",
     "text": [
      " 5\n"
     ]
    },
    {
     "name": "stdout",
     "output_type": "stream",
     "text": [
      "The volume is 523.599\n"
     ]
    }
   ],
   "source": [
    "#9\n",
    "import math\n",
    "def volume_calc(radius):\n",
    "    volume = 4/3*math.pi*(radius)**3\n",
    "    print(f\"The volume is {volume:.3f}\")\n",
    "\n",
    "\n",
    "radius = int(input())\n",
    "volume_calc(radius)"
   ]
  },
  {
   "cell_type": "code",
   "execution_count": 109,
   "id": "04e4c7cb-f2b6-4b8a-b8af-e79dee82f6dc",
   "metadata": {},
   "outputs": [
    {
     "name": "stdin",
     "output_type": "stream",
     "text": [
      " 2 3 4 5 5 6 7 7\n"
     ]
    },
    {
     "name": "stdout",
     "output_type": "stream",
     "text": [
      "[2, 3, 4, 5, 6, 7]\n"
     ]
    }
   ],
   "source": [
    "#10\n",
    "def unique(mylist):\n",
    "    unique_list = []\n",
    "    for x in mylist:\n",
    "        if x in unique_list:\n",
    "            pass\n",
    "        else: unique_list.append(x)\n",
    "    print(unique_list)\n",
    "\n",
    "mylist = list(map(int, input().split()))\n",
    "unique(mylist)"
   ]
  },
  {
   "cell_type": "code",
   "execution_count": 3,
   "id": "b1eb6680-d308-40c9-abe8-aa5c6ee3d49c",
   "metadata": {},
   "outputs": [
    {
     "name": "stdin",
     "output_type": "stream",
     "text": [
      " madam\n"
     ]
    },
    {
     "name": "stdout",
     "output_type": "stream",
     "text": [
      "It is palindrome\n"
     ]
    }
   ],
   "source": [
    "#11\n",
    "def is_palindrome(string):\n",
    "    reversed_string = ''.join(reversed(string))\n",
    "    if reversed_string == string:\n",
    "        print(\"It is palindrome\")\n",
    "    else: print(\"It is not palindrome\")\n",
    "\n",
    "string = input()\n",
    "is_palindrome(string)"
   ]
  },
  {
   "cell_type": "code",
   "execution_count": 148,
   "id": "2e731916-58a0-4abe-9e31-de9dbd643bb1",
   "metadata": {},
   "outputs": [
    {
     "name": "stdin",
     "output_type": "stream",
     "text": [
      " 4 5 7\n"
     ]
    },
    {
     "name": "stdout",
     "output_type": "stream",
     "text": [
      "****\n",
      "*****\n",
      "*******\n"
     ]
    }
   ],
   "source": [
    "#12\n",
    "with open('my_functions.py', 'w') as my_file:\n",
    "    my_file.write(\"\"\"\n",
    "def histogram(numbers):\n",
    "    for x in numbers:\n",
    "        for i in range(x):\n",
    "            print(\"*\", end = \"\")\n",
    "        print(\"\")\n",
    "    \n",
    "numbers = list(map(int, input().split()))\n",
    "histogram(numbers)\n",
    "\"\"\")\n",
    "def histogram(numbers):\n",
    "    for x in numbers:\n",
    "        for i in range(x):\n",
    "            print(\"*\", end = \"\")\n",
    "        print(\"\")\n",
    "    \n",
    "numbers = list(map(int, input().split()))\n",
    "histogram(numbers)"
   ]
  },
  {
   "cell_type": "code",
   "execution_count": 19,
   "id": "3612de20-9d8f-464e-8fc8-2e32ce82dbce",
   "metadata": {},
   "outputs": [
    {
     "name": "stdout",
     "output_type": "stream",
     "text": [
      "Hello! What is your name?\n"
     ]
    },
    {
     "name": "stdin",
     "output_type": "stream",
     "text": [
      " Amina\n"
     ]
    },
    {
     "name": "stdout",
     "output_type": "stream",
     "text": [
      "Well, Amina, I am thinking of a number between 1 and 20. Take a guess.\n",
      "Take a guess\n"
     ]
    },
    {
     "name": "stdin",
     "output_type": "stream",
     "text": [
      " 15\n"
     ]
    },
    {
     "name": "stdout",
     "output_type": "stream",
     "text": [
      "Your guess is too high.\n",
      "Take a guess\n"
     ]
    },
    {
     "name": "stdin",
     "output_type": "stream",
     "text": [
      " 10\n"
     ]
    },
    {
     "name": "stdout",
     "output_type": "stream",
     "text": [
      "Your guess is too high.\n",
      "Take a guess\n"
     ]
    },
    {
     "name": "stdin",
     "output_type": "stream",
     "text": [
      " 5\n"
     ]
    },
    {
     "name": "stdout",
     "output_type": "stream",
     "text": [
      "Your guess is too low.\n",
      "Take a guess\n"
     ]
    },
    {
     "name": "stdin",
     "output_type": "stream",
     "text": [
      " 7\n"
     ]
    },
    {
     "name": "stdout",
     "output_type": "stream",
     "text": [
      "Good job, Amina! You guessed my number in 4 guesses!\n"
     ]
    }
   ],
   "source": [
    "#13 \n",
    "import random\n",
    "\n",
    "def guess_the_number():\n",
    "    print(\"Hello! What is your name?\")\n",
    "    name = input()\n",
    "    print(f\"Well, {name}, I am thinking of a number between 1 and 20. Take a guess.\")\n",
    "    guess_number = random.randint(1, 20)\n",
    "    guess_cnt = 0\n",
    "\n",
    "    while True:\n",
    "        print(\"Take a guess\")\n",
    "        gamers_try = int(input())\n",
    "        \n",
    "        if gamers_try < guess_number:\n",
    "            print(\"Your guess is too low.\")\n",
    "            guess_cnt += 1\n",
    "        elif gamers_try > guess_number:\n",
    "            print(\"Your guess is too high.\")\n",
    "            guess_cnt += 1\n",
    "        else: \n",
    "            guess_cnt += 1\n",
    "            print(f\"Good job, {name}! You guessed my number in {guess_cnt} guesses!\")\n",
    "            break\n",
    "\n",
    "guess_the_number()"
   ]
  },
  {
   "cell_type": "code",
   "execution_count": 150,
   "id": "a2e37e7e-1974-42e5-aaaf-85f07ac50ae5",
   "metadata": {},
   "outputs": [
    {
     "name": "stdout",
     "output_type": "stream",
     "text": [
      "*\n",
      "*******\n",
      "*****\n"
     ]
    }
   ],
   "source": [
    "#14\n",
    "from my_functions import histogram\n",
    "numbers = [1, 7, 5]\n",
    "histogram(numbers)"
   ]
  },
  {
   "cell_type": "markdown",
   "id": "633768ca-e293-4172-8788-ce04d3105fd5",
   "metadata": {},
   "source": [
    "FUNCTIONS 2"
   ]
  },
  {
   "cell_type": "code",
   "execution_count": 136,
   "id": "50c39dd0-f5c4-4bea-ac9d-e320c8ac3cf5",
   "metadata": {},
   "outputs": [
    {
     "name": "stdin",
     "output_type": "stream",
     "text": [
      " Detective\n"
     ]
    },
    {
     "data": {
      "text/plain": [
       "True"
      ]
     },
     "execution_count": 136,
     "metadata": {},
     "output_type": "execute_result"
    }
   ],
   "source": [
    "movies = [\n",
    "{\n",
    "\"name\": \"Usual Suspects\", \n",
    "\"imdb\": 7.0,\n",
    "\"category\": \"Thriller\"\n",
    "},\n",
    "{\n",
    "\"name\": \"Hitman\",\n",
    "\"imdb\": 6.3,\n",
    "\"category\": \"Action\"\n",
    "},\n",
    "{\n",
    "\"name\": \"Dark Knight\",\n",
    "\"imdb\": 9.0,\n",
    "\"category\": \"Adventure\"\n",
    "},\n",
    "{\n",
    "\"name\": \"The Help\",\n",
    "\"imdb\": 8.0,\n",
    "\"category\": \"Drama\"\n",
    "},\n",
    "{\n",
    "\"name\": \"The Choice\",\n",
    "\"imdb\": 6.2,\n",
    "\"category\": \"Romance\"\n",
    "},\n",
    "{\n",
    "\"name\": \"Colonia\",\n",
    "\"imdb\": 7.4,\n",
    "\"category\": \"Romance\"\n",
    "},\n",
    "{\n",
    "\"name\": \"Love\",\n",
    "\"imdb\": 6.0,\n",
    "\"category\": \"Romance\"\n",
    "},\n",
    "{\n",
    "\"name\": \"Bride Wars\",\n",
    "\"imdb\": 5.4,\n",
    "\"category\": \"Romance\"\n",
    "},\n",
    "{\n",
    "\"name\": \"AlphaJet\",\n",
    "\"imdb\": 3.2,\n",
    "\"category\": \"War\"\n",
    "},\n",
    "{\n",
    "\"name\": \"Ringing Crime\",\n",
    "\"imdb\": 4.0,\n",
    "\"category\": \"Crime\"\n",
    "},\n",
    "{\n",
    "\"name\": \"Joking muck\",\n",
    "\"imdb\": 7.2,\n",
    "\"category\": \"Comedy\"\n",
    "},\n",
    "{\n",
    "\"name\": \"What is the name\",\n",
    "\"imdb\": 9.2,\n",
    "\"category\": \"Suspense\"\n",
    "},\n",
    "{\n",
    "\"name\": \"Detective\",\n",
    "\"imdb\": 7.0,\n",
    "\"category\": \"Suspense\"\n",
    "},\n",
    "{\n",
    "\"name\": \"Exam\",\n",
    "\"imdb\": 4.2,\n",
    "\"category\": \"Thriller\"\n",
    "},\n",
    "{\n",
    "\"name\": \"We Two\",\n",
    "\"imdb\": 7.2,\n",
    "\"category\": \"Romance\"\n",
    "}\n",
    "]\n",
    "\n",
    "#1\n",
    "def func_1():\n",
    "    name = input()\n",
    "    for film in movies:\n",
    "        if film[\"name\"].lower() == name.lower():\n",
    "            if film[\"imdb\"] > 5.5:\n",
    "                return True\n",
    "            else: return False\n",
    "\n",
    "func_1()"
   ]
  },
  {
   "cell_type": "code",
   "execution_count": 134,
   "id": "ecc39fc3-9295-49f2-b2ef-9e08e27c48d8",
   "metadata": {},
   "outputs": [
    {
     "name": "stdout",
     "output_type": "stream",
     "text": [
      "['Usual Suspects', 'Hitman', 'Dark Knight', 'The Help', 'The Choice', 'Colonia', 'Love', 'Joking muck', 'What is the name', 'Detective', 'We Two']\n"
     ]
    }
   ],
   "source": [
    "movies = [\n",
    "{\n",
    "\"name\": \"Usual Suspects\", \n",
    "\"imdb\": 7.0,\n",
    "\"category\": \"Thriller\"\n",
    "},\n",
    "{\n",
    "\"name\": \"Hitman\",\n",
    "\"imdb\": 6.3,\n",
    "\"category\": \"Action\"\n",
    "},\n",
    "{\n",
    "\"name\": \"Dark Knight\",\n",
    "\"imdb\": 9.0,\n",
    "\"category\": \"Adventure\"\n",
    "},\n",
    "{\n",
    "\"name\": \"The Help\",\n",
    "\"imdb\": 8.0,\n",
    "\"category\": \"Drama\"\n",
    "},\n",
    "{\n",
    "\"name\": \"The Choice\",\n",
    "\"imdb\": 6.2,\n",
    "\"category\": \"Romance\"\n",
    "},\n",
    "{\n",
    "\"name\": \"Colonia\",\n",
    "\"imdb\": 7.4,\n",
    "\"category\": \"Romance\"\n",
    "},\n",
    "{\n",
    "\"name\": \"Love\",\n",
    "\"imdb\": 6.0,\n",
    "\"category\": \"Romance\"\n",
    "},\n",
    "{\n",
    "\"name\": \"Bride Wars\",\n",
    "\"imdb\": 5.4,\n",
    "\"category\": \"Romance\"\n",
    "},\n",
    "{\n",
    "\"name\": \"AlphaJet\",\n",
    "\"imdb\": 3.2,\n",
    "\"category\": \"War\"\n",
    "},\n",
    "{\n",
    "\"name\": \"Ringing Crime\",\n",
    "\"imdb\": 4.0,\n",
    "\"category\": \"Crime\"\n",
    "},\n",
    "{\n",
    "\"name\": \"Joking muck\",\n",
    "\"imdb\": 7.2,\n",
    "\"category\": \"Comedy\"\n",
    "},\n",
    "{\n",
    "\"name\": \"What is the name\",\n",
    "\"imdb\": 9.2,\n",
    "\"category\": \"Suspense\"\n",
    "},\n",
    "{\n",
    "\"name\": \"Detective\",\n",
    "\"imdb\": 7.0,\n",
    "\"category\": \"Suspense\"\n",
    "},\n",
    "{\n",
    "\"name\": \"Exam\",\n",
    "\"imdb\": 4.2,\n",
    "\"category\": \"Thriller\"\n",
    "},\n",
    "{\n",
    "\"name\": \"We Two\",\n",
    "\"imdb\": 7.2,\n",
    "\"category\": \"Romance\"\n",
    "}\n",
    "]\n",
    "\n",
    "#2\n",
    "def func_2():\n",
    "    good_movies = []\n",
    "    for film in movies:\n",
    "        if film[\"imdb\"] > 5.5:\n",
    "            good_movies.append(film[\"name\"])\n",
    "    print(good_movies)\n",
    "\n",
    "func_2()"
   ]
  },
  {
   "cell_type": "code",
   "execution_count": 132,
   "id": "9e2798dd-95ba-404e-b353-a9d4f8e5b04c",
   "metadata": {},
   "outputs": [
    {
     "name": "stdin",
     "output_type": "stream",
     "text": [
      " Romance\n"
     ]
    },
    {
     "name": "stdout",
     "output_type": "stream",
     "text": [
      "['The Choice', 'Colonia', 'Love', 'Bride Wars', 'We Two']\n"
     ]
    }
   ],
   "source": [
    "movies = [\n",
    "{\n",
    "\"name\": \"Usual Suspects\", \n",
    "\"imdb\": 7.0,\n",
    "\"category\": \"Thriller\"\n",
    "},\n",
    "{\n",
    "\"name\": \"Hitman\",\n",
    "\"imdb\": 6.3,\n",
    "\"category\": \"Action\"\n",
    "},\n",
    "{\n",
    "\"name\": \"Dark Knight\",\n",
    "\"imdb\": 9.0,\n",
    "\"category\": \"Adventure\"\n",
    "},\n",
    "{\n",
    "\"name\": \"The Help\",\n",
    "\"imdb\": 8.0,\n",
    "\"category\": \"Drama\"\n",
    "},\n",
    "{\n",
    "\"name\": \"The Choice\",\n",
    "\"imdb\": 6.2,\n",
    "\"category\": \"Romance\"\n",
    "},\n",
    "{\n",
    "\"name\": \"Colonia\",\n",
    "\"imdb\": 7.4,\n",
    "\"category\": \"Romance\"\n",
    "},\n",
    "{\n",
    "\"name\": \"Love\",\n",
    "\"imdb\": 6.0,\n",
    "\"category\": \"Romance\"\n",
    "},\n",
    "{\n",
    "\"name\": \"Bride Wars\",\n",
    "\"imdb\": 5.4,\n",
    "\"category\": \"Romance\"\n",
    "},\n",
    "{\n",
    "\"name\": \"AlphaJet\",\n",
    "\"imdb\": 3.2,\n",
    "\"category\": \"War\"\n",
    "},\n",
    "{\n",
    "\"name\": \"Ringing Crime\",\n",
    "\"imdb\": 4.0,\n",
    "\"category\": \"Crime\"\n",
    "},\n",
    "{\n",
    "\"name\": \"Joking muck\",\n",
    "\"imdb\": 7.2,\n",
    "\"category\": \"Comedy\"\n",
    "},\n",
    "{\n",
    "\"name\": \"What is the name\",\n",
    "\"imdb\": 9.2,\n",
    "\"category\": \"Suspense\"\n",
    "},\n",
    "{\n",
    "\"name\": \"Detective\",\n",
    "\"imdb\": 7.0,\n",
    "\"category\": \"Suspense\"\n",
    "},\n",
    "{\n",
    "\"name\": \"Exam\",\n",
    "\"imdb\": 4.2,\n",
    "\"category\": \"Thriller\"\n",
    "},\n",
    "{\n",
    "\"name\": \"We Two\",\n",
    "\"imdb\": 7.2,\n",
    "\"category\": \"Romance\"\n",
    "}\n",
    "]\n",
    "\n",
    "#3\n",
    "def func_3():\n",
    "    by_category = []\n",
    "    my_category = input()\n",
    "    for film in movies:\n",
    "        if film[\"category\"] == my_category:\n",
    "            by_category.append(film[\"name\"])\n",
    "\n",
    "    print(by_category)\n",
    "\n",
    "func_3()"
   ]
  },
  {
   "cell_type": "code",
   "execution_count": 130,
   "id": "37b7bb8a-634f-4904-a4c0-18bac2341c1b",
   "metadata": {},
   "outputs": [
    {
     "name": "stdin",
     "output_type": "stream",
     "text": [
      " We Two, Detective, Exam\n"
     ]
    },
    {
     "name": "stdout",
     "output_type": "stream",
     "text": [
      "The average imdb score is 6.1\n"
     ]
    }
   ],
   "source": [
    "movies = [\n",
    "{\n",
    "\"name\": \"Usual Suspects\", \n",
    "\"imdb\": 7.0,\n",
    "\"category\": \"Thriller\"\n",
    "},\n",
    "{\n",
    "\"name\": \"Hitman\",\n",
    "\"imdb\": 6.3,\n",
    "\"category\": \"Action\"\n",
    "},\n",
    "{\n",
    "\"name\": \"Dark Knight\",\n",
    "\"imdb\": 9.0,\n",
    "\"category\": \"Adventure\"\n",
    "},\n",
    "{\n",
    "\"name\": \"The Help\",\n",
    "\"imdb\": 8.0,\n",
    "\"category\": \"Drama\"\n",
    "},\n",
    "{\n",
    "\"name\": \"The Choice\",\n",
    "\"imdb\": 6.2,\n",
    "\"category\": \"Romance\"\n",
    "},\n",
    "{\n",
    "\"name\": \"Colonia\",\n",
    "\"imdb\": 7.4,\n",
    "\"category\": \"Romance\"\n",
    "},\n",
    "{\n",
    "\"name\": \"Love\",\n",
    "\"imdb\": 6.0,\n",
    "\"category\": \"Romance\"\n",
    "},\n",
    "{\n",
    "\"name\": \"Bride Wars\",\n",
    "\"imdb\": 5.4,\n",
    "\"category\": \"Romance\"\n",
    "},\n",
    "{\n",
    "\"name\": \"AlphaJet\",\n",
    "\"imdb\": 3.2,\n",
    "\"category\": \"War\"\n",
    "},\n",
    "{\n",
    "\"name\": \"Ringing Crime\",\n",
    "\"imdb\": 4.0,\n",
    "\"category\": \"Crime\"\n",
    "},\n",
    "{\n",
    "\"name\": \"Joking muck\",\n",
    "\"imdb\": 7.2,\n",
    "\"category\": \"Comedy\"\n",
    "},\n",
    "{\n",
    "\"name\": \"What is the name\",\n",
    "\"imdb\": 9.2,\n",
    "\"category\": \"Suspense\"\n",
    "},\n",
    "{\n",
    "\"name\": \"Detective\",\n",
    "\"imdb\": 7.0,\n",
    "\"category\": \"Suspense\"\n",
    "},\n",
    "{\n",
    "\"name\": \"Exam\",\n",
    "\"imdb\": 4.2,\n",
    "\"category\": \"Thriller\"\n",
    "},\n",
    "{\n",
    "\"name\": \"We Two\",\n",
    "\"imdb\": 7.2,\n",
    "\"category\": \"Romance\"\n",
    "}\n",
    "]\n",
    "\n",
    "#4\n",
    "def func_4():\n",
    "    the_list = list(input().split(\",\"))\n",
    "    overall_sum = 0\n",
    "    cnt = 0\n",
    "    \n",
    "    for movie in the_list:\n",
    "        movie = movie.strip()\n",
    "        for film in movies:\n",
    "            if film[\"name\"].lower() == movie.lower():\n",
    "                overall_sum += film[\"imdb\"]\n",
    "                cnt += 1\n",
    "                break\n",
    "                \n",
    "    if cnt > 0:\n",
    "        average = overall_sum/cnt\n",
    "        average = round(average, 1)\n",
    "    print(f\"The average imdb score is {average}\")\n",
    "\n",
    "func_4()"
   ]
  },
  {
   "cell_type": "code",
   "execution_count": 146,
   "id": "8df75d4a-be5c-49a3-a57a-a754650b8f75",
   "metadata": {},
   "outputs": [
    {
     "name": "stdin",
     "output_type": "stream",
     "text": [
      " Romance\n"
     ]
    },
    {
     "name": "stdout",
     "output_type": "stream",
     "text": [
      "The average imdb score of Romance category is 6.4.\n"
     ]
    }
   ],
   "source": [
    "movies = [\n",
    "{\n",
    "\"name\": \"Usual Suspects\", \n",
    "\"imdb\": 7.0,\n",
    "\"category\": \"Thriller\"\n",
    "},\n",
    "{\n",
    "\"name\": \"Hitman\",\n",
    "\"imdb\": 6.3,\n",
    "\"category\": \"Action\"\n",
    "},\n",
    "{\n",
    "\"name\": \"Dark Knight\",\n",
    "\"imdb\": 9.0,\n",
    "\"category\": \"Adventure\"\n",
    "},\n",
    "{\n",
    "\"name\": \"The Help\",\n",
    "\"imdb\": 8.0,\n",
    "\"category\": \"Drama\"\n",
    "},\n",
    "{\n",
    "\"name\": \"The Choice\",\n",
    "\"imdb\": 6.2,\n",
    "\"category\": \"Romance\"\n",
    "},\n",
    "{\n",
    "\"name\": \"Colonia\",\n",
    "\"imdb\": 7.4,\n",
    "\"category\": \"Romance\"\n",
    "},\n",
    "{\n",
    "\"name\": \"Love\",\n",
    "\"imdb\": 6.0,\n",
    "\"category\": \"Romance\"\n",
    "},\n",
    "{\n",
    "\"name\": \"Bride Wars\",\n",
    "\"imdb\": 5.4,\n",
    "\"category\": \"Romance\"\n",
    "},\n",
    "{\n",
    "\"name\": \"AlphaJet\",\n",
    "\"imdb\": 3.2,\n",
    "\"category\": \"War\"\n",
    "},\n",
    "{\n",
    "\"name\": \"Ringing Crime\",\n",
    "\"imdb\": 4.0,\n",
    "\"category\": \"Crime\"\n",
    "},\n",
    "{\n",
    "\"name\": \"Joking muck\",\n",
    "\"imdb\": 7.2,\n",
    "\"category\": \"Comedy\"\n",
    "},\n",
    "{\n",
    "\"name\": \"What is the name\",\n",
    "\"imdb\": 9.2,\n",
    "\"category\": \"Suspense\"\n",
    "},\n",
    "{\n",
    "\"name\": \"Detective\",\n",
    "\"imdb\": 7.0,\n",
    "\"category\": \"Suspense\"\n",
    "},\n",
    "{\n",
    "\"name\": \"Exam\",\n",
    "\"imdb\": 4.2,\n",
    "\"category\": \"Thriller\"\n",
    "},\n",
    "{\n",
    "\"name\": \"We Two\",\n",
    "\"imdb\": 7.2,\n",
    "\"category\": \"Romance\"\n",
    "}\n",
    "]\n",
    "\n",
    "#5\n",
    "def func_5():\n",
    "    my_category = input()\n",
    "    imdb_sum = 0\n",
    "    movies_cnt = 0\n",
    "    \n",
    "    for film in movies:\n",
    "        if film[\"category\"] == my_category:\n",
    "            imdb_sum += film[\"imdb\"]\n",
    "            movies_cnt += 1\n",
    "            \n",
    "    imdb_of_category = imdb_sum / movies_cnt\n",
    "    print(f\"The average imdb score of {my_category} category is {imdb_of_category:.1f}.\")\n",
    "\n",
    "func_5()"
   ]
  },
  {
   "cell_type": "markdown",
   "id": "d9dfa8e6-af95-4143-b7ab-d1c85b33d488",
   "metadata": {},
   "source": [
    "CLASSES"
   ]
  },
  {
   "cell_type": "code",
   "execution_count": 171,
   "id": "88bf859d-f71b-458a-a60d-21cdbeef2c38",
   "metadata": {},
   "outputs": [
    {
     "name": "stdin",
     "output_type": "stream",
     "text": [
      " Hello kbtu\n"
     ]
    },
    {
     "name": "stdout",
     "output_type": "stream",
     "text": [
      "HELLO KBTU\n"
     ]
    }
   ],
   "source": [
    "#1\n",
    "class String:\n",
    "    def get_string(self):\n",
    "        self.my_string = input()\n",
    "    def print_string(self):\n",
    "        print(self.my_string.upper())\n",
    "\n",
    "string_change = String()\n",
    "string_change.get_string()\n",
    "string_change.print_string()"
   ]
  },
  {
   "cell_type": "code",
   "execution_count": 231,
   "id": "58c7923c-21b1-4f3a-87fa-1500ca92d25d",
   "metadata": {},
   "outputs": [
    {
     "name": "stdout",
     "output_type": "stream",
     "text": [
      "The area of the square with length 5 is 25.\n",
      "The area of the rectangle is 20.\n"
     ]
    }
   ],
   "source": [
    "#2-3\n",
    "class Shape:\n",
    "    def area(self):\n",
    "        return 0\n",
    "class Square(Shape):\n",
    "    def __init__(self, length):\n",
    "        self.length = length\n",
    "    def area(self):\n",
    "        the_area = self.length**2\n",
    "        print(f\"The area of the square with length {self.length} is {the_area}.\")\n",
    "class Rectangle(Shape):\n",
    "    def __init__(self, length, width):\n",
    "        self.length = length\n",
    "        self.width = width\n",
    "    def area(self):\n",
    "        print(f\"The area of the rectangle is {self.length * self.width}.\")\n",
    "        \n",
    "my_square = Square(5)\n",
    "my_square.area()\n",
    "\n",
    "my_shape = Shape()\n",
    "my_shape.area()\n",
    "\n",
    "my_rectangle = Rectangle(4, 5)\n",
    "my_rectangle.area()"
   ]
  },
  {
   "cell_type": "code",
   "execution_count": 205,
   "id": "84209bd4-d314-457b-8e7b-0bf7f46ff319",
   "metadata": {},
   "outputs": [
    {
     "name": "stdout",
     "output_type": "stream",
     "text": [
      "The coordinates of the point: 5, 7\n",
      "The coordinates of the point: 3, 9\n",
      "The point moved to the coodrinates: 7, 10\n",
      "The point moved to the coodrinates: 5, 9\n",
      "The distance between two points is 2.236.\n"
     ]
    }
   ],
   "source": [
    "#4\n",
    "class Point:\n",
    "    def __init__(self, x, y):\n",
    "        self.x = x\n",
    "        self.y = y\n",
    "    def show(self):\n",
    "        print(f\"The coordinates of the point: {self.x}, {self.y}\")\n",
    "    def move(self, x_move, y_move):\n",
    "        self.x += x_move\n",
    "        self.y += y_move\n",
    "        print(f\"The point moved to the coodrinates: {self.x}, {self.y}\")\n",
    "    def dist(self, point_2):\n",
    "        distance = ((point_2.x - self.x)**2 + (point_2.y - self.y)**2)**0.5\n",
    "        print(f\"The distance between two points is {distance:.3f}.\")\n",
    "\n",
    "point1 = Point(5, 7)\n",
    "point2 = Point(3, 9)\n",
    "\n",
    "point1.show()\n",
    "point2.show()\n",
    "\n",
    "point1.move(2, 3)\n",
    "point2.move(2, 0)\n",
    "\n",
    "point1.dist(point2)"
   ]
  },
  {
   "cell_type": "code",
   "execution_count": 213,
   "id": "99672c37-0c0e-429f-9387-01b5713348f8",
   "metadata": {},
   "outputs": [
    {
     "name": "stdout",
     "output_type": "stream",
     "text": [
      "James, your balance increased to 8000.\n",
      "Lily, your balance increased to 8500.\n",
      "Harry, your balance increased to 9400.\n",
      "James, your balance decreased to 2000.\n",
      "Lily, your balance decreased to 8500.\n",
      "Oh, Harry. You do not have enough money in the balance.\n"
     ]
    }
   ],
   "source": [
    "#5 \n",
    "class Account:\n",
    "    def __init__(self, owner, balance):\n",
    "        self.owner = owner\n",
    "        self.balance = balance\n",
    "    def deposit(self, addition):\n",
    "        self.balance += addition\n",
    "        print(f\"{self.owner}, your balance increased to {self.balance}.\")\n",
    "    def withdraw(self, substraction):\n",
    "        if self.balance >= substraction:\n",
    "            self.balance -= substraction\n",
    "            print(f\"{self.owner}, your balance decreased to {self.balance}.\")\n",
    "        else: print(f\"Oh, {self.owner}. You do not have enough money in the balance.\")\n",
    "\n",
    "person_1 = Account(\"James\", 5000)\n",
    "person_2 = Account(\"Lily\", 3500)\n",
    "person_3 = Account(\"Harry\", 7400)\n",
    "\n",
    "person_1.deposit(3000)\n",
    "person_2.deposit(5000)\n",
    "person_3.deposit(2000)\n",
    "\n",
    "person_1.withdraw(6000)\n",
    "person_2.withdraw(0)\n",
    "person_3.withdraw(10000)"
   ]
  },
  {
   "cell_type": "code",
   "execution_count": 229,
   "id": "c2e2dacc-b7a4-4162-8481-4ea8701bebc6",
   "metadata": {},
   "outputs": [
    {
     "name": "stdin",
     "output_type": "stream",
     "text": [
      " 2 3 4 5 6 7 8 9 10\n"
     ]
    },
    {
     "name": "stdout",
     "output_type": "stream",
     "text": [
      "Prime numbers: [2, 3, 5, 7].\n"
     ]
    }
   ],
   "source": [
    "#6\n",
    "is_prime = lambda num: num > 1 and all( num % i != 0 for i in range(2, int((num)**0.5) + 1))\n",
    "    \n",
    "the_list = list(map(int, input().split()))\n",
    "\n",
    "prime_numbers = list(filter(is_prime, the_list))\n",
    "\n",
    "print(f\"Prime numbers: {prime_numbers}.\")"
   ]
  }
 ],
 "metadata": {
  "kernelspec": {
   "display_name": "Python [conda env:base] *",
   "language": "python",
   "name": "conda-base-py"
  },
  "language_info": {
   "codemirror_mode": {
    "name": "ipython",
    "version": 3
   },
   "file_extension": ".py",
   "mimetype": "text/x-python",
   "name": "python",
   "nbconvert_exporter": "python",
   "pygments_lexer": "ipython3",
   "version": "3.12.7"
  }
 },
 "nbformat": 4,
 "nbformat_minor": 5
}
