{
 "cells": [
  {
   "cell_type": "markdown",
   "id": "e2317d52-048b-4733-a2dd-f71f024e0376",
   "metadata": {},
   "source": [
    "LAB 2"
   ]
  },
  {
   "cell_type": "markdown",
   "id": "997e2390-2a61-43d9-a48b-73c27244c1b7",
   "metadata": {},
   "source": [
    "BOOLEANS"
   ]
  },
  {
   "cell_type": "code",
   "execution_count": 66,
   "id": "3f0fdb5b-bfbc-4bd5-80e6-cbe0a25fb58f",
   "metadata": {},
   "outputs": [
    {
     "name": "stdout",
     "output_type": "stream",
     "text": [
      "True\n",
      "False\n",
      "False\n"
     ]
    }
   ],
   "source": [
    "#Example 1 If you compare, result will be the boolean\n",
    "print(10 > 9)\n",
    "print(10 == 9)\n",
    "print(10 < 9)"
   ]
  },
  {
   "cell_type": "code",
   "execution_count": 7,
   "id": "00d9be11-eb1a-4355-a247-2cb6df7f9dd1",
   "metadata": {},
   "outputs": [
    {
     "name": "stdout",
     "output_type": "stream",
     "text": [
      "y is not greater than x\n"
     ]
    }
   ],
   "source": [
    "#Example 2\n",
    "x = 50\n",
    "y = 25\n",
    "\n",
    "if y > x:\n",
    "    print(\"y is greater than x\")\n",
    "else:\n",
    "    print(\"y is not greater than x\")"
   ]
  },
  {
   "cell_type": "code",
   "execution_count": 15,
   "id": "2ce823d6-dc1b-4e91-8c0e-d6323af5aced",
   "metadata": {},
   "outputs": [
    {
     "name": "stdout",
     "output_type": "stream",
     "text": [
      "True\n",
      "True\n"
     ]
    }
   ],
   "source": [
    "#Example 3\n",
    "print(bool(\"KBTU\"))\n",
    "print(bool(15))"
   ]
  },
  {
   "cell_type": "code",
   "execution_count": 17,
   "id": "acbf34ec-3eb5-47a4-8ff1-f17e3d3aaeb1",
   "metadata": {},
   "outputs": [
    {
     "name": "stdout",
     "output_type": "stream",
     "text": [
      "True\n",
      "True\n"
     ]
    }
   ],
   "source": [
    "#Example 4\n",
    "a = 15\n",
    "b = \"Harry\"\n",
    "\n",
    "print(bool(a))\n",
    "print(bool(b))"
   ]
  },
  {
   "cell_type": "code",
   "execution_count": 39,
   "id": "8bdf7a4b-576c-49b3-88d8-236053b2d1e7",
   "metadata": {},
   "outputs": [
    {
     "data": {
      "text/plain": [
       "True"
      ]
     },
     "execution_count": 39,
     "metadata": {},
     "output_type": "execute_result"
    }
   ],
   "source": [
    "#Example 5 Strings, dictionaries, sets, tuples, lists are false if they are empty. Any number is True, except 0\n",
    "bool(\"hello\")\n",
    "bool(123)\n",
    "bool([\"mango\", \"orange\", \"watermelon\"])"
   ]
  },
  {
   "cell_type": "code",
   "execution_count": 41,
   "id": "f3dd8f5f-777f-4f0e-bb54-a07c191e7c2d",
   "metadata": {},
   "outputs": [
    {
     "data": {
      "text/plain": [
       "False"
      ]
     },
     "execution_count": 41,
     "metadata": {},
     "output_type": "execute_result"
    }
   ],
   "source": [
    "#Example 6 None also returns false\n",
    "bool(False)\n",
    "bool(None)\n",
    "bool(0)\n",
    "bool({})\n",
    "bool([])\n",
    "bool(\"\")\n",
    "bool(())"
   ]
  },
  {
   "cell_type": "code",
   "execution_count": 43,
   "id": "4aed7542-7880-43ee-86e0-9ddeb0bcf261",
   "metadata": {},
   "outputs": [
    {
     "name": "stdout",
     "output_type": "stream",
     "text": [
      "False\n"
     ]
    }
   ],
   "source": [
    "#Example 7\n",
    "class myclass():\n",
    "    def __len__(self):\n",
    "        return 0\n",
    "\n",
    "myres = myclass()\n",
    "print(bool(myres))"
   ]
  },
  {
   "cell_type": "code",
   "execution_count": 49,
   "id": "5ca6c170-3657-4b84-97f8-ec3d668067d4",
   "metadata": {},
   "outputs": [
    {
     "name": "stdout",
     "output_type": "stream",
     "text": [
      "True\n"
     ]
    }
   ],
   "source": [
    "#Example 8\n",
    "def truefunc():\n",
    "    return True\n",
    "\n",
    "print(truefunc())"
   ]
  },
  {
   "cell_type": "code",
   "execution_count": 51,
   "id": "37521666-d9ac-414f-8496-245aec7ca1e8",
   "metadata": {},
   "outputs": [
    {
     "name": "stdout",
     "output_type": "stream",
     "text": [
      "Yes\n"
     ]
    }
   ],
   "source": [
    "#Example 9\n",
    "def myfunc():\n",
    "    return True\n",
    "\n",
    "if myfunc():\n",
    "    print(\"Yes\")\n",
    "else:\n",
    "    print(\"No\")"
   ]
  },
  {
   "cell_type": "code",
   "execution_count": 53,
   "id": "5f202090-3d4d-4907-bb9e-7087bf7d10e1",
   "metadata": {},
   "outputs": [
    {
     "name": "stdout",
     "output_type": "stream",
     "text": [
      "True\n"
     ]
    }
   ],
   "source": [
    "#Example 10\n",
    "x = 55\n",
    "print(isinstance(x, int))"
   ]
  },
  {
   "cell_type": "markdown",
   "id": "9ba9cb8b-f7ee-44cd-9045-43cca3f53b05",
   "metadata": {},
   "source": [
    "OPERATORS"
   ]
  },
  {
   "cell_type": "code",
   "execution_count": 3,
   "id": "aa10a2f1-638d-47f4-9ef2-6cbe5b3bcf3a",
   "metadata": {},
   "outputs": [
    {
     "name": "stdout",
     "output_type": "stream",
     "text": [
      "9\n"
     ]
    }
   ],
   "source": [
    "#Example 1 \n",
    "print(2 + 7)"
   ]
  },
  {
   "cell_type": "code",
   "execution_count": 11,
   "id": "c9062842-2d8c-45ee-8388-b2c8eb9c717c",
   "metadata": {},
   "outputs": [
    {
     "name": "stdout",
     "output_type": "stream",
     "text": [
      "17\n",
      "7\n",
      "60\n",
      "2.4\n",
      "2\n",
      "248832\n",
      "2\n"
     ]
    }
   ],
   "source": [
    "#Example 2 Arithmetic operators\n",
    "x = 12\n",
    "y = 5\n",
    "print(x + y) #addition\n",
    "print(x - y) #substruction\n",
    "print(x * y) #multiplication\n",
    "print(x / y) #division\n",
    "print(x % y) #modulus\n",
    "print(x** y) #exponentiation\n",
    "print(x // y) #floor division"
   ]
  },
  {
   "cell_type": "code",
   "execution_count": 39,
   "id": "6adfcfac-3040-4423-be8f-11b8ac088e3d",
   "metadata": {},
   "outputs": [
    {
     "name": "stdout",
     "output_type": "stream",
     "text": [
      "7\n"
     ]
    }
   ],
   "source": [
    "#Example 2 Assignment operators\n",
    "x = 12\n",
    "x += 7 #the same as x = x + 7\n",
    "y = 12\n",
    "y -= 7 #the same as y = y - 7\n",
    "z = 12\n",
    "z *= 7 #the same as z = z * 7\n",
    "c = 12\n",
    "c /= 7 #the same as c = c / 7\n",
    "b = 12\n",
    "b %= 7 #the same as b = b % 7\n",
    "a = 12\n",
    "a //= 7 #the same as a = a // 7\n",
    "f = 12\n",
    "f **= 7 #the same as f = f ** 7\n",
    "k = 12\n",
    "k &= 7 #the same as k = k & 7\n",
    "l = 12\n",
    "l |= 7 #the same as l = l | 7\n",
    "n = 12\n",
    "n ^= 7 #the same as n = n ^ 7\n",
    "m = 12\n",
    "m >>= 7 #the same as m = m >> 7\n",
    "o = 12\n",
    "o <<= 7 #the same as o = o << 7\n",
    "print(x := 7) \n",
    "#the same as x = 7\n",
    "#print(x)"
   ]
  },
  {
   "cell_type": "code",
   "execution_count": 37,
   "id": "068e8dea-7f01-4533-9743-d78fbb2fb8e2",
   "metadata": {},
   "outputs": [
    {
     "name": "stdout",
     "output_type": "stream",
     "text": [
      "False\n",
      "True\n",
      "True\n",
      "False\n",
      "True\n",
      "False\n"
     ]
    }
   ],
   "source": [
    "#Example 3 Comparison operators\n",
    "x = 15\n",
    "y = 10\n",
    "print(x == y) #equal\t\n",
    "print(x != y) #not equal\t\n",
    "print(x > y) #greater than\n",
    "print(x < y) #less than\n",
    "print(x >= y) #greater than or equal to\n",
    "print(x <= y) #less than or equal to"
   ]
  },
  {
   "cell_type": "code",
   "execution_count": 47,
   "id": "82459e5d-d4fa-46d0-bcd8-9d638a43af7e",
   "metadata": {},
   "outputs": [
    {
     "name": "stdout",
     "output_type": "stream",
     "text": [
      "True\n",
      "True\n",
      "False\n"
     ]
    }
   ],
   "source": [
    "#Example 4 Logical operators\n",
    "x = 7\n",
    "print(x < 10 and x > 5) #returns True if both statements are 5\n",
    "print(x < 10 or x > 9) #returns True if one of the statements is true\n",
    "print(not(x < 10 and x > 5)) #reverse the result, returns False if the result is true"
   ]
  },
  {
   "cell_type": "code",
   "execution_count": 51,
   "id": "08e557a7-061d-4b15-875d-260a08fd5968",
   "metadata": {},
   "outputs": [
    {
     "name": "stdout",
     "output_type": "stream",
     "text": [
      "True\n",
      "False\n",
      "True\n",
      "False\n",
      "True\n",
      "False\n"
     ]
    }
   ],
   "source": [
    "#Example 5 Identity operators\n",
    "x = [\"mango\", \"cherry\"]\n",
    "y = [\"mango\", \"cherry\"]\n",
    "z = x\n",
    "print(x is z) #returns True because z is the same object as x\n",
    "print (x is y) #returns False because x is not the same object as y, even if they have the same content\n",
    "print (x == y) #to demonstrate the difference betweeen \"is\" and \"==\": this comparison returns True because x is equal to y\n",
    "print( x is not z)\n",
    "print( x is not y)\n",
    "print( x != y)"
   ]
  },
  {
   "cell_type": "code",
   "execution_count": 57,
   "id": "2d64ee07-1b3e-4645-ad08-86bb70babede",
   "metadata": {},
   "outputs": [
    {
     "name": "stdout",
     "output_type": "stream",
     "text": [
      "True\n",
      "True\n"
     ]
    }
   ],
   "source": [
    "#Example 6 Membership operators\n",
    "a = [\"pink\", \"purple\", \"blue\"]\n",
    "print(\"purple\" in a) #returns True because a sequence with the value \"banana\" is in the list\n",
    "print(\"green\" not in a) #returns True because a sequence with the value \"pineapple\" is not in the list"
   ]
  },
  {
   "cell_type": "code",
   "execution_count": 3,
   "id": "3758e659-061c-4fa2-aead-290695634702",
   "metadata": {},
   "outputs": [
    {
     "name": "stdout",
     "output_type": "stream",
     "text": [
      "1\n",
      "7\n",
      "6\n",
      "-4\n",
      "12\n",
      "1\n"
     ]
    },
    {
     "data": {
      "text/plain": [
       "\"\\nThe >> operator moves each bit the specified number of times to the right. Empty holes at the left are filled with 0's.\\n\\n3 = 0000000000000011\\n\\n0 = 0000000000000000\\n\""
      ]
     },
     "execution_count": 3,
     "metadata": {},
     "output_type": "execute_result"
    }
   ],
   "source": [
    "#Example 7 Bitwise operators\n",
    "x = 5\n",
    "y = 3\n",
    "print(x & y)\n",
    "\"\"\"\n",
    "The &(AND) operator compares each bit and set it to 1 if both are 1, otherwise it is set to 0:\n",
    "\n",
    "5 = 0000000000000101\n",
    "3 = 0000000000000011\n",
    "\n",
    "1 = 0000000000000001\n",
    "\"\"\"\n",
    "print(x | y)\n",
    "\"\"\"\n",
    "The |(OR) operator compares each bit and set it to 1 if one or both is 1, otherwise it is set to 0:\n",
    "\n",
    "5 = 0000000000000101\n",
    "3 = 0000000000000011\n",
    "\n",
    "7 = 0000000000000111\n",
    "\"\"\" \n",
    "print(x ^ y)\n",
    "\"\"\"\n",
    "The ^(XOR) operator compares each bit and set it to 1 if only one is 1, otherwise (if both are 1 or both are 0) it is set to 0:\n",
    "\n",
    "5 = 0000000000000101\n",
    "3 = 0000000000000011\n",
    "\n",
    "6 = 0000000000000110\n",
    "\"\"\"\n",
    "print(~y)\n",
    "\"\"\"\n",
    "The ~(NOT) operator inverts each bit (0 becomes 1 and 1 becomes 0):\n",
    "\n",
    "3 = 0000000000000011\n",
    "\n",
    "-4 = 1111111111111100\n",
    "\"\"\"\n",
    "print(y << 2)\n",
    "\"\"\"\n",
    "The << operator inserts the specified number of 0's (in this case 2) from the right and let the same amount of leftmost bits fall off:\n",
    "\n",
    "3 = 0000000000000011\n",
    " \n",
    "12 = 0000000000001100\n",
    "\"\"\"\n",
    "print(x >> 2)\n",
    "\"\"\"\n",
    "The >> operator moves each bit the specified number of times to the right. Empty holes at the left are filled with 0's.\n",
    "\n",
    "3 = 0000000000000011\n",
    "\n",
    "0 = 0000000000000000\n",
    "\"\"\""
   ]
  },
  {
   "cell_type": "code",
   "execution_count": 1,
   "id": "9a727757-984c-461e-8b3d-8d66d367e227",
   "metadata": {},
   "outputs": [
    {
     "name": "stdout",
     "output_type": "stream",
     "text": [
      "0\n"
     ]
    }
   ],
   "source": [
    "#Example 8\n",
    "print((5 + 2) - (5 + 2))"
   ]
  },
  {
   "cell_type": "code",
   "execution_count": 83,
   "id": "39f49141-b951-4212-b43e-9379bf39e14e",
   "metadata": {},
   "outputs": [
    {
     "name": "stdout",
     "output_type": "stream",
     "text": [
      "78\n"
     ]
    }
   ],
   "source": [
    "#Example 9\n",
    "print(50 + 7*4)"
   ]
  },
  {
   "cell_type": "code",
   "execution_count": 85,
   "id": "f60df530-473c-424c-b8ed-004ba8f6b47c",
   "metadata": {},
   "outputs": [
    {
     "name": "stdout",
     "output_type": "stream",
     "text": [
      "14\n"
     ]
    }
   ],
   "source": [
    "#Example 10\n",
    "print(7 + 2 - 6 + 11)"
   ]
  },
  {
   "cell_type": "markdown",
   "id": "9efad464-2a13-4a7e-9853-e1fdeec11bf0",
   "metadata": {},
   "source": [
    "LISTS"
   ]
  },
  {
   "cell_type": "markdown",
   "id": "2e4bd8e3-72d1-4c1f-8d9f-e707da0e2e08",
   "metadata": {},
   "source": [
    "Lists"
   ]
  },
  {
   "cell_type": "code",
   "execution_count": 123,
   "id": "8d0ef7cf-4a30-41f8-8bf1-a379c01f0c6e",
   "metadata": {},
   "outputs": [
    {
     "name": "stdout",
     "output_type": "stream",
     "text": [
      "['Yellow', 'Pink', 'Green']\n"
     ]
    }
   ],
   "source": [
    "#Example 1\n",
    "mylist = [\"Yellow\", \"Pink\", \"Green\"]\n",
    "print(mylist)"
   ]
  },
  {
   "cell_type": "code",
   "execution_count": 131,
   "id": "b9e34af8-a9d3-4c8b-b844-cb1415acaff9",
   "metadata": {},
   "outputs": [
    {
     "name": "stdout",
     "output_type": "stream",
     "text": [
      "['Yellow', 'Pink', 'Green', 'Blue']\n"
     ]
    }
   ],
   "source": [
    "#Example 2 \n",
    "#if you add new items to a list, the new items will be placed at the end of the list\n",
    "mylist = [\"Yellow\", \"Pink\", \"Green\"]\n",
    "mylist += [\"Blue\"]\n",
    "print(mylist)"
   ]
  },
  {
   "cell_type": "code",
   "execution_count": 133,
   "id": "449c7e0d-c733-4f65-ba66-978c59c7c574",
   "metadata": {},
   "outputs": [
    {
     "name": "stdout",
     "output_type": "stream",
     "text": [
      "['red', 'blue', 'yellow', 'red']\n"
     ]
    }
   ],
   "source": [
    "#Example 3 Allows duplicates\n",
    "colors = [\"red\", \"blue\", \"yellow\", \"red\"]\n",
    "print(colors)"
   ]
  },
  {
   "cell_type": "code",
   "execution_count": 139,
   "id": "fc0f27c7-e3b6-4c73-9848-4df1ce93c7ef",
   "metadata": {},
   "outputs": [
    {
     "name": "stdout",
     "output_type": "stream",
     "text": [
      "3\n"
     ]
    }
   ],
   "source": [
    "#Example 4 List's length\n",
    "colors = [\"red\", \"blue\", \"green\"]\n",
    "print(len(colors))"
   ]
  },
  {
   "cell_type": "code",
   "execution_count": 141,
   "id": "6bb93d56-6ad5-4147-b21f-35bf18a85b92",
   "metadata": {},
   "outputs": [
    {
     "name": "stdout",
     "output_type": "stream",
     "text": [
      "[1, 2, 3, 4, 5]\n",
      "['a', 'b', 'c']\n",
      "[True, False, True]\n"
     ]
    }
   ],
   "source": [
    "#Example 5 Can be of any data type\n",
    "numbers = [1, 2, 3, 4, 5]\n",
    "letters = ['a', 'b', 'c']\n",
    "bools = [True, False, True]\n",
    "print(numbers)\n",
    "print(letters)\n",
    "print(bools)"
   ]
  },
  {
   "cell_type": "code",
   "execution_count": 143,
   "id": "3bba785c-fbe4-4b9f-b36d-3720afb4591d",
   "metadata": {},
   "outputs": [
    {
     "name": "stdout",
     "output_type": "stream",
     "text": [
      "[1, 3, 'a', True, 'k']\n"
     ]
    }
   ],
   "source": [
    "#Example 6 Can be the mix of data types\n",
    "mix = [1, 3, 'a', True, 'k']\n",
    "print(mix)"
   ]
  },
  {
   "cell_type": "code",
   "execution_count": 145,
   "id": "44b25208-073d-4e05-b20a-240e2b009379",
   "metadata": {},
   "outputs": [
    {
     "name": "stdout",
     "output_type": "stream",
     "text": [
      "<class 'list'>\n"
     ]
    }
   ],
   "source": [
    "#Example 7 Data type\n",
    "words = [\"tree\", \"house\", \"year\"]\n",
    "print(type(words))"
   ]
  },
  {
   "cell_type": "code",
   "execution_count": 153,
   "id": "3c3b378b-4499-45f9-b4f4-d0877c4d1e90",
   "metadata": {},
   "outputs": [
    {
     "name": "stdout",
     "output_type": "stream",
     "text": [
      "<class 'list'>\n",
      "['monkey', 'lion', 'cat']\n"
     ]
    }
   ],
   "source": [
    "#Example 8 \n",
    "mylist = list((\"monkey\", \"lion\", \"cat\")) #note the double round-brackets\n",
    "print(type(mylist))\n",
    "print(mylist)"
   ]
  },
  {
   "cell_type": "markdown",
   "id": "0a56e0f5-cfb3-42fd-9402-324a5274463f",
   "metadata": {},
   "source": [
    "List items"
   ]
  },
  {
   "cell_type": "code",
   "execution_count": 94,
   "id": "698ab1fb-5656-44e5-a824-9eb2f81ec3ff",
   "metadata": {},
   "outputs": [
    {
     "name": "stdout",
     "output_type": "stream",
     "text": [
      "red\n"
     ]
    }
   ],
   "source": [
    "#Example 1 Access items\n",
    "mylist = [\"blue\", \"red\", \"yellow\"]\n",
    "print(mylist[1]) #the first item has index 0."
   ]
  },
  {
   "cell_type": "code",
   "execution_count": 108,
   "id": "0b1e48e4-cf48-47b0-be6f-0b0474630c04",
   "metadata": {},
   "outputs": [
    {
     "name": "stdout",
     "output_type": "stream",
     "text": [
      "Hermione\n"
     ]
    }
   ],
   "source": [
    "#Example 2 Negative indexing\n",
    "GoldenTrio = [\"Harry\", \"Ron\", \"Hermione\"]\n",
    "print(GoldenTrio[-1]) #-1 refers to the last item, -2 refers to the second last item etc"
   ]
  },
  {
   "cell_type": "code",
   "execution_count": 110,
   "id": "d742de95-4781-4d69-b93b-7c0509497594",
   "metadata": {},
   "outputs": [
    {
     "name": "stdout",
     "output_type": "stream",
     "text": [
      "['Ron', 'Hermione']\n",
      "['Harry', 'Ron']\n",
      "['Hermione', 'Luna']\n"
     ]
    }
   ],
   "source": [
    "#Example 3 Range of indexes\n",
    "mylist = [\"Harry\", \"Ron\", \"Hermione\", \"Luna\"]\n",
    "#we can specify a range of indexes by specifying where to start and where to end the range\n",
    "print(mylist[1:3]) #the search will start at index 1(included) and end at index 3(not included)\n",
    "print(mylist[:2]) #by leaving out the start value, the range will start at the first item\n",
    "print(mylist[2:]) #by leaving out the end value, the range will go on to the end of the list"
   ]
  },
  {
   "cell_type": "code",
   "execution_count": 114,
   "id": "741aaf73-9837-4b8b-9d42-a96501df5ae0",
   "metadata": {},
   "outputs": [
    {
     "name": "stdout",
     "output_type": "stream",
     "text": [
      "['Harry', 'Ron', 'Hermione']\n"
     ]
    }
   ],
   "source": [
    "#Example 4 Range of Negative Indexes\n",
    "mylist = [\"Harry\", \"Ron\", \"Hermione\", \"Luna\"]\n",
    "print(mylist[-4:-1]) #returns the items from \"orange\" (-4) to, but NOT including \"mango\" (-1)"
   ]
  },
  {
   "cell_type": "code",
   "execution_count": 120,
   "id": "3326e6c5-e139-4b38-8b06-8b97f2370745",
   "metadata": {},
   "outputs": [
    {
     "name": "stdout",
     "output_type": "stream",
     "text": [
      "Yes, she is the part of the Golden Trio\n"
     ]
    }
   ],
   "source": [
    "#Example 5 Check if item exists\n",
    "Golden_Trio = [\"Harry\", \"Ron\", \"Hermione\"]\n",
    "if \"Hermione\" in Golden_Trio:\n",
    "    print(\"Yes, she is the part of the Golden Trio\")"
   ]
  },
  {
   "cell_type": "markdown",
   "id": "8bcb5a8f-111e-458f-8444-f75b34490db0",
   "metadata": {},
   "source": [
    "Change list items"
   ]
  },
  {
   "cell_type": "code",
   "execution_count": 157,
   "id": "7bdce178-de0e-45df-88d1-d0dfc31b086f",
   "metadata": {},
   "outputs": [
    {
     "name": "stdout",
     "output_type": "stream",
     "text": [
      "['red', 'yellow', 'green']\n"
     ]
    }
   ],
   "source": [
    "#Example 1\n",
    "colors = [\"red\", \"blue\", \"green\"]\n",
    "colors[1] = \"yellow\"\n",
    "print(colors)"
   ]
  },
  {
   "cell_type": "code",
   "execution_count": 159,
   "id": "e6ff0559-dd94-4f4a-b8e0-8068ba1e1d4b",
   "metadata": {},
   "outputs": [
    {
     "name": "stdout",
     "output_type": "stream",
     "text": [
      "['red', 'grey', 'yellow', 'black', 'green']\n"
     ]
    }
   ],
   "source": [
    "#Example 2\n",
    "colors = ['red', 'purple', 'blue', 'black', 'green']\n",
    "colors[1:3] = 'grey', 'yellow'\n",
    "print(colors)"
   ]
  },
  {
   "cell_type": "code",
   "execution_count": 169,
   "id": "242c00bb-6f9f-4445-8f72-4e09651fecdf",
   "metadata": {},
   "outputs": [
    {
     "name": "stdout",
     "output_type": "stream",
     "text": [
      "['lily', 'Ginny', 'Albus', 'James', 'Harry']\n"
     ]
    }
   ],
   "source": [
    "#Example 3 \n",
    "Potters = ['lily', 'James', 'Harry']\n",
    "Potters[1:2] = 'Ginny', 'Albus', 'James' #insert more items than new items will be inserted where you specified, the remaining items will move \n",
    "print(Potters)"
   ]
  },
  {
   "cell_type": "code",
   "execution_count": 173,
   "id": "27c367af-cfce-45bd-bc71-4d152cb89d28",
   "metadata": {},
   "outputs": [
    {
     "name": "stdout",
     "output_type": "stream",
     "text": [
      "['yes', 'probably']\n"
     ]
    }
   ],
   "source": [
    "#Example 4\n",
    "mylist = ['yes', 'no', 'not sure']\n",
    "mylist[1:3] = ['probably']\n",
    "print(mylist)"
   ]
  },
  {
   "cell_type": "code",
   "execution_count": 175,
   "id": "eb1ca532-1962-4c85-abff-fd738360a813",
   "metadata": {},
   "outputs": [
    {
     "name": "stdout",
     "output_type": "stream",
     "text": [
      "['red', 'black', 'yellow', 'green']\n"
     ]
    }
   ],
   "source": [
    "#Example 5 Use insert\n",
    "colors = ['red', 'black', 'green']\n",
    "colors.insert(2, 'yellow')\n",
    "print(colors)"
   ]
  },
  {
   "cell_type": "markdown",
   "id": "6c235921-04f6-4f5e-b5df-6117fde314c1",
   "metadata": {},
   "source": [
    "Add list items"
   ]
  },
  {
   "cell_type": "code",
   "execution_count": 178,
   "id": "4172b02a-14e0-42ff-9a0d-389e60164f33",
   "metadata": {},
   "outputs": [
    {
     "name": "stdout",
     "output_type": "stream",
     "text": [
      "['red', 'blue', 'green', 'yellow']\n"
     ]
    }
   ],
   "source": [
    "#Example 1 Add an item to the end of the list\n",
    "colors = [\"red\", \"blue\", \"green\"]\n",
    "colors.append(\"yellow\")\n",
    "print(colors)"
   ]
  },
  {
   "cell_type": "code",
   "execution_count": 180,
   "id": "6ef3958b-5736-4b54-87e5-71c88b4b12eb",
   "metadata": {},
   "outputs": [
    {
     "name": "stdout",
     "output_type": "stream",
     "text": [
      "['red', 'blue', 'yellow', 'green']\n"
     ]
    }
   ],
   "source": [
    "#Example 2 Add an element to the specified index\n",
    "colors = [\"red\", \"blue\", \"green\"]\n",
    "colors.insert(2, \"yellow\")\n",
    "print(colors)"
   ]
  },
  {
   "cell_type": "code",
   "execution_count": 184,
   "id": "d8c0de8b-06a2-46cc-bae5-c7c34748c3a5",
   "metadata": {},
   "outputs": [
    {
     "name": "stdout",
     "output_type": "stream",
     "text": [
      "['red', 'blue', 'green', 'purple', 'pink']\n"
     ]
    }
   ],
   "source": [
    "#Example 3 Append elements from another list to the current list. This method can add any iterable object\n",
    "colors1 = [\"red\", \"blue\", \"green\"]\n",
    "colors2 = [\"purple\", \"pink\"]\n",
    "colors1.extend(colors2)\n",
    "print(colors1)"
   ]
  },
  {
   "cell_type": "markdown",
   "id": "004f6d52-5906-488a-b331-a638e7d83819",
   "metadata": {},
   "source": [
    "Remove specified item"
   ]
  },
  {
   "cell_type": "code",
   "execution_count": 189,
   "id": "457f7ea0-22d6-46ac-8561-ad8b7b8df423",
   "metadata": {},
   "outputs": [
    {
     "name": "stdout",
     "output_type": "stream",
     "text": [
      "['blue', 'green']\n"
     ]
    }
   ],
   "source": [
    "#Example 1 Removes the specified item\n",
    "colors = [\"red\", \"blue\", \"green\"]\n",
    "colors.remove(\"red\")\n",
    "print(colors)"
   ]
  },
  {
   "cell_type": "code",
   "execution_count": 193,
   "id": "b1d1a5ef-74ec-490e-af6a-0159c8d3d064",
   "metadata": {},
   "outputs": [
    {
     "name": "stdout",
     "output_type": "stream",
     "text": [
      "['red', 'green', 'blue', 'yellow']\n"
     ]
    }
   ],
   "source": [
    "#Example 2 If there are more than one item with the specified value, removes the first occurrence\n",
    "colors = [\"red\", \"blue\", \"green\", \"blue\", \"yellow\"]\n",
    "colors.remove(\"blue\")\n",
    "print(colors)"
   ]
  },
  {
   "cell_type": "code",
   "execution_count": 195,
   "id": "9103e27b-5978-4dea-9b7f-48e6dcbecd3e",
   "metadata": {},
   "outputs": [
    {
     "name": "stdout",
     "output_type": "stream",
     "text": [
      "['red', 'green']\n"
     ]
    }
   ],
   "source": [
    "#Example 3 Removes the specified index\n",
    "colors = [\"red\", \"blue\", \"green\"]\n",
    "colors.pop(1)\n",
    "print(colors)"
   ]
  },
  {
   "cell_type": "code",
   "execution_count": 197,
   "id": "2c4b6fc8-aa6e-4af0-a609-1b93ea87a612",
   "metadata": {},
   "outputs": [
    {
     "name": "stdout",
     "output_type": "stream",
     "text": [
      "['red', 'blue']\n"
     ]
    }
   ],
   "source": [
    "#Example 4 Without specific index, removes the last item\n",
    "colors = [\"red\", \"blue\", \"green\"]\n",
    "colors.pop()\n",
    "print(colors)"
   ]
  },
  {
   "cell_type": "code",
   "execution_count": 199,
   "id": "3751fde5-b87a-48ad-a55b-1739f488c9ad",
   "metadata": {},
   "outputs": [
    {
     "name": "stdout",
     "output_type": "stream",
     "text": [
      "['red', 'green']\n"
     ]
    }
   ],
   "source": [
    "#Example 5 Removes the specified index\n",
    "colors = [\"red\", \"blue\", \"green\"]\n",
    "del colors[1]\n",
    "print(colors)"
   ]
  },
  {
   "cell_type": "code",
   "execution_count": 201,
   "id": "06196213-00d4-4f2c-ba0b-dbecee2b694e",
   "metadata": {},
   "outputs": [
    {
     "ename": "NameError",
     "evalue": "name 'colors' is not defined",
     "output_type": "error",
     "traceback": [
      "\u001b[1;31m---------------------------------------------------------------------------\u001b[0m",
      "\u001b[1;31mNameError\u001b[0m                                 Traceback (most recent call last)",
      "Cell \u001b[1;32mIn[201], line 4\u001b[0m\n\u001b[0;32m      2\u001b[0m colors \u001b[38;5;241m=\u001b[39m [\u001b[38;5;124m\"\u001b[39m\u001b[38;5;124mred\u001b[39m\u001b[38;5;124m\"\u001b[39m, \u001b[38;5;124m\"\u001b[39m\u001b[38;5;124mblue\u001b[39m\u001b[38;5;124m\"\u001b[39m, \u001b[38;5;124m\"\u001b[39m\u001b[38;5;124mgreen\u001b[39m\u001b[38;5;124m\"\u001b[39m]\n\u001b[0;32m      3\u001b[0m \u001b[38;5;28;01mdel\u001b[39;00m colors\n\u001b[1;32m----> 4\u001b[0m \u001b[38;5;28mprint\u001b[39m(colors)\n",
      "\u001b[1;31mNameError\u001b[0m: name 'colors' is not defined"
     ]
    }
   ],
   "source": [
    "#Example 6 Delete the list completely\n",
    "colors = [\"red\", \"blue\", \"green\"]\n",
    "del colors\n",
    "print(colors)"
   ]
  },
  {
   "cell_type": "code",
   "execution_count": 203,
   "id": "fb809425-ab36-41c4-aab3-633f0be636c2",
   "metadata": {},
   "outputs": [
    {
     "name": "stdout",
     "output_type": "stream",
     "text": [
      "[]\n"
     ]
    }
   ],
   "source": [
    "#Example 7 The list still remains, but it has no content\n",
    "colors = [\"red\", \"blue\", \"green\"]\n",
    "colors.clear()\n",
    "print(colors)"
   ]
  },
  {
   "cell_type": "markdown",
   "id": "79853e44-6180-46d0-bdda-8899ea721dbd",
   "metadata": {},
   "source": [
    "Loop lists"
   ]
  },
  {
   "cell_type": "code",
   "execution_count": 206,
   "id": "6fc776dd-df03-4c57-80c3-14d4cf3173b4",
   "metadata": {},
   "outputs": [
    {
     "name": "stdout",
     "output_type": "stream",
     "text": [
      "red\n",
      "blue\n",
      "green\n"
     ]
    }
   ],
   "source": [
    "#Example 1 \n",
    "colors = [\"red\", \"blue\", \"green\"]\n",
    "for x in colors:\n",
    "    print(x)"
   ]
  },
  {
   "cell_type": "code",
   "execution_count": 210,
   "id": "f23c3ea6-9f01-4263-9963-dca1f20dd2ca",
   "metadata": {},
   "outputs": [
    {
     "name": "stdout",
     "output_type": "stream",
     "text": [
      "red\n",
      "blue\n",
      "green\n"
     ]
    }
   ],
   "source": [
    "#Example 2 \n",
    "colors = [\"red\", \"blue\", \"green\"]\n",
    "for i in range(len(colors)):\n",
    "    print(colors[i])"
   ]
  },
  {
   "cell_type": "code",
   "execution_count": 212,
   "id": "1be38fbc-d7e6-42e6-ab7f-ec66af29d0c4",
   "metadata": {},
   "outputs": [
    {
     "name": "stdout",
     "output_type": "stream",
     "text": [
      "red\n",
      "blue\n",
      "green\n"
     ]
    }
   ],
   "source": [
    "#Example 3\n",
    "colors = [\"red\", \"blue\", \"green\"]\n",
    "i = 0\n",
    "while i < len(colors):\n",
    "    print(colors[i])\n",
    "    i += 1"
   ]
  },
  {
   "cell_type": "code",
   "execution_count": 15,
   "id": "95deea38-0d28-480a-b8bf-6e135ea9ed32",
   "metadata": {},
   "outputs": [
    {
     "name": "stdout",
     "output_type": "stream",
     "text": [
      "pink\n",
      "blue\n",
      "purple\n"
     ]
    },
    {
     "data": {
      "text/plain": [
       "[None, None, None]"
      ]
     },
     "execution_count": 15,
     "metadata": {},
     "output_type": "execute_result"
    }
   ],
   "source": [
    "#Example 4\n",
    "colors = [\"pink\", \"blue\", \"purple\"]\n",
    "[print(x) for x in colors] "
   ]
  },
  {
   "cell_type": "markdown",
   "id": "3f9da04a-4ff2-44c1-bb26-27fbb0f2cf93",
   "metadata": {},
   "source": [
    "List comprehension"
   ]
  },
  {
   "cell_type": "code",
   "execution_count": 223,
   "id": "cbcbe5f6-509e-467b-ad07-07870e9763ac",
   "metadata": {},
   "outputs": [
    {
     "name": "stdout",
     "output_type": "stream",
     "text": [
      "['red', 'green']\n"
     ]
    }
   ],
   "source": [
    "#Example 1 Wihout list comprehension\n",
    "colors = [\"red\", \"blue\", \"green\"]\n",
    "rcolors =[]\n",
    "\n",
    "for x in colors:\n",
    "    if 'r' in x:\n",
    "        rcolors.append(x)\n",
    "\n",
    "print(rcolors)"
   ]
  },
  {
   "cell_type": "code",
   "execution_count": 225,
   "id": "c15b9f6d-6aad-4498-ab65-cf0c5afbc025",
   "metadata": {},
   "outputs": [
    {
     "name": "stdout",
     "output_type": "stream",
     "text": [
      "['red', 'green']\n"
     ]
    }
   ],
   "source": [
    "#Example 2 With list comprehension\n",
    "colors = [\"red\", \"blue\", \"green\"]\n",
    "rcolors = [x for x in colors if \"r\" in x]\n",
    "print(rcolors)"
   ]
  },
  {
   "cell_type": "code",
   "execution_count": 227,
   "id": "60bd2dd4-ec0c-4105-9470-2e577916cb32",
   "metadata": {},
   "outputs": [
    {
     "name": "stdout",
     "output_type": "stream",
     "text": [
      "['blue', 'green']\n"
     ]
    }
   ],
   "source": [
    "#Example 3 The syntax\n",
    "#newlist = [expression for item in iterable if condition == True]\n",
    "colors = [\"red\", \"blue\", \"green\"]\n",
    "notred = [x for x in colors if x != \"red\"]\n",
    "print(notred)"
   ]
  },
  {
   "cell_type": "code",
   "execution_count": 231,
   "id": "439728c8-f55a-4eac-817b-2939bb087714",
   "metadata": {},
   "outputs": [
    {
     "name": "stdout",
     "output_type": "stream",
     "text": [
      "['red', 'blue', 'green']\n"
     ]
    }
   ],
   "source": [
    "#Example 4 Without condition\n",
    "colors = [\"red\", \"blue\", \"green\"]\n",
    "alsocolors = [x for x in colors]\n",
    "print(alsocolors)"
   ]
  },
  {
   "cell_type": "code",
   "execution_count": 233,
   "id": "2a518d2d-3cb9-450b-99dc-fc4e29dd22b6",
   "metadata": {},
   "outputs": [
    {
     "name": "stdout",
     "output_type": "stream",
     "text": [
      "[0, 1, 2, 3, 4]\n"
     ]
    }
   ],
   "source": [
    "#Example 5 \n",
    "numbers = [x for x in range(5)]\n",
    "print(numbers)"
   ]
  },
  {
   "cell_type": "code",
   "execution_count": 235,
   "id": "0fc87b3f-a0bb-4745-a948-717096c4939e",
   "metadata": {},
   "outputs": [
    {
     "name": "stdout",
     "output_type": "stream",
     "text": [
      "[4, 5, 6]\n"
     ]
    }
   ],
   "source": [
    "#Example 6 \n",
    "numbers = [x for x in range(7) if x > 3]\n",
    "print(numbers)"
   ]
  },
  {
   "cell_type": "code",
   "execution_count": 239,
   "id": "cbbd3bd3-e843-4465-8a40-504d475d627a",
   "metadata": {},
   "outputs": [
    {
     "name": "stdout",
     "output_type": "stream",
     "text": [
      "['RED', 'BLUE', 'GREEN']\n"
     ]
    }
   ],
   "source": [
    "#Example 7\n",
    "colors = [\"red\", \"blue\", \"green\"]\n",
    "COLORS = [x.upper() for x in colors]\n",
    "print(COLORS)"
   ]
  },
  {
   "cell_type": "code",
   "execution_count": 241,
   "id": "89bff412-1e73-429e-ba1b-91daf373a20a",
   "metadata": {},
   "outputs": [
    {
     "name": "stdout",
     "output_type": "stream",
     "text": [
      "['black', 'black', 'black']\n"
     ]
    }
   ],
   "source": [
    "#Example 8 \n",
    "colors = [\"red\", \"blue\", \"green\"]\n",
    "color = [\"black\" for x in colors]\n",
    "print(color)"
   ]
  },
  {
   "cell_type": "code",
   "execution_count": 243,
   "id": "e16aae51-cd3b-4ad4-8a0e-6b497464456d",
   "metadata": {},
   "outputs": [
    {
     "name": "stdout",
     "output_type": "stream",
     "text": [
      "['yellow', 'blue', 'green']\n"
     ]
    }
   ],
   "source": [
    "#Example 9\n",
    "colors = [\"red\", \"blue\", \"green\"]\n",
    "alsocolors = [x if x != \"red\" else \"yellow\" for x in colors]\n",
    "print(alsocolors)"
   ]
  },
  {
   "cell_type": "markdown",
   "id": "0d830f4c-8045-4732-9bb3-8b026d7db539",
   "metadata": {},
   "source": [
    "Sort list"
   ]
  },
  {
   "cell_type": "code",
   "execution_count": 246,
   "id": "2388aa95-ec1a-4004-876d-2855b352a738",
   "metadata": {},
   "outputs": [
    {
     "name": "stdout",
     "output_type": "stream",
     "text": [
      "['blue', 'green', 'red']\n"
     ]
    }
   ],
   "source": [
    "#Example 1 Alphabeticcally\n",
    "colors = [\"red\", \"blue\", \"green\"]\n",
    "colors.sort()\n",
    "print(colors)"
   ]
  },
  {
   "cell_type": "code",
   "execution_count": 249,
   "id": "495bbd1b-1a96-4a7b-8833-e2ee152dab3b",
   "metadata": {},
   "outputs": [
    {
     "name": "stdout",
     "output_type": "stream",
     "text": [
      "[7, 15, 16, 21]\n"
     ]
    }
   ],
   "source": [
    "#Example 2 Numerically\n",
    "numbers = [15, 7, 21, 16]\n",
    "numbers.sort()\n",
    "print(numbers)"
   ]
  },
  {
   "cell_type": "code",
   "execution_count": 259,
   "id": "a58906ff-8678-4285-b9d6-bd7a1022d268",
   "metadata": {},
   "outputs": [
    {
     "name": "stdout",
     "output_type": "stream",
     "text": [
      "['red', 'green', 'blue']\n"
     ]
    }
   ],
   "source": [
    "#Example 3 Descending alphabetically\n",
    "colors = [\"red\", \"blue\", \"green\"]\n",
    "colors.sort(reverse = True)\n",
    "print(colors)"
   ]
  },
  {
   "cell_type": "code",
   "execution_count": 257,
   "id": "afa71916-8b18-4d92-8e9a-3cfa25d803bf",
   "metadata": {},
   "outputs": [
    {
     "name": "stdout",
     "output_type": "stream",
     "text": [
      "[21, 16, 15, 7]\n"
     ]
    }
   ],
   "source": [
    "#Example 4 Descending numerically\n",
    "numbers = [15, 7, 21, 16]\n",
    "numbers.sort(reverse = True)\n",
    "print(numbers)"
   ]
  },
  {
   "cell_type": "code",
   "execution_count": 21,
   "id": "653e310e-9342-4f23-b85c-84232e5f5301",
   "metadata": {},
   "outputs": [
    {
     "name": "stdout",
     "output_type": "stream",
     "text": [
      "[17, 1, 31, 60]\n"
     ]
    }
   ],
   "source": [
    "#Example 5 \n",
    "def myfunc(n):\n",
    "    return abs(n - 15) #sort the list based on how close the number is to 15\n",
    "\n",
    "numbers = [1, 17, 31, 60]\n",
    "numbers.sort(key = myfunc)\n",
    "print(numbers)"
   ]
  },
  {
   "cell_type": "code",
   "execution_count": 275,
   "id": "259afcd2-b5a2-4234-b7ee-c5540e4ba381",
   "metadata": {},
   "outputs": [
    {
     "name": "stdout",
     "output_type": "stream",
     "text": [
      "['Green', 'blue', 'red']\n"
     ]
    }
   ],
   "source": [
    "#Example 6 Case sensitivity returns all capital letters being sorted before lower case letters\n",
    "colors = [\"red\", \"blue\", \"Green\"]\n",
    "colors.sort()\n",
    "print(colors)"
   ]
  },
  {
   "cell_type": "code",
   "execution_count": 279,
   "id": "3e372352-95b4-4674-ae90-8c3a657ae5eb",
   "metadata": {},
   "outputs": [
    {
     "name": "stdout",
     "output_type": "stream",
     "text": [
      "['blue', 'Green', 'red']\n"
     ]
    }
   ],
   "source": [
    "#Example 7 \n",
    "colors = [\"red\", \"blue\", \"Green\"]\n",
    "colors.sort(key = str.lower)\n",
    "print(colors)"
   ]
  },
  {
   "cell_type": "code",
   "execution_count": 281,
   "id": "8f3f7d27-bc14-4c09-bcd6-c8f148f3dcc9",
   "metadata": {},
   "outputs": [
    {
     "name": "stdout",
     "output_type": "stream",
     "text": [
      "['Green', 'blue', 'red']\n"
     ]
    }
   ],
   "source": [
    "#Example 8 Reverse\n",
    "colors = [\"red\", \"blue\", \"Green\"]\n",
    "colors.reverse()\n",
    "print(colors)"
   ]
  },
  {
   "cell_type": "markdown",
   "id": "c625a655-d3ec-4f77-bdc2-08dc8bd3baa5",
   "metadata": {},
   "source": [
    "Copy list"
   ]
  },
  {
   "cell_type": "code",
   "execution_count": 299,
   "id": "69921e9a-388f-4045-bbe8-cb313f88747f",
   "metadata": {},
   "outputs": [
    {
     "name": "stdout",
     "output_type": "stream",
     "text": [
      "['red', 'blue', 'green']\n"
     ]
    }
   ],
   "source": [
    "#Example 1 Cannot copy a list by typing list2 = list1, list2 will only be a reference to list1, and changes made in list1 will also be made in list2\n",
    "colors = [\"red\", \"blue\", \"green\"]\n",
    "mycolors = colors.copy()\n",
    "print(mycolors)"
   ]
  },
  {
   "cell_type": "code",
   "execution_count": 301,
   "id": "2bdd4ec5-44b7-4f1c-8f29-e67ba6349bd5",
   "metadata": {},
   "outputs": [
    {
     "name": "stdout",
     "output_type": "stream",
     "text": [
      "['red', 'blue', 'green']\n"
     ]
    }
   ],
   "source": [
    "#Example 2\n",
    "colors = [\"red\", \"blue\", \"green\"]\n",
    "mycolors = list(colors)\n",
    "print(mycolors)"
   ]
  },
  {
   "cell_type": "code",
   "execution_count": 303,
   "id": "437f0b1f-9ecb-4c0c-8580-0f70a06a25c8",
   "metadata": {},
   "outputs": [
    {
     "name": "stdout",
     "output_type": "stream",
     "text": [
      "['red', 'blue', 'green']\n"
     ]
    }
   ],
   "source": [
    "#Example 3\n",
    "colors = [\"red\", \"blue\", \"green\"]\n",
    "mycolors = colors[:]\n",
    "print(mycolors)"
   ]
  },
  {
   "cell_type": "markdown",
   "id": "01b24714-d6be-4018-a518-556be29ffd67",
   "metadata": {},
   "source": [
    "Join two lists"
   ]
  },
  {
   "cell_type": "code",
   "execution_count": 307,
   "id": "3c6174cf-1150-4c75-be43-1959b5568ed4",
   "metadata": {},
   "outputs": [
    {
     "name": "stdout",
     "output_type": "stream",
     "text": [
      "['red', 'blue', 'green', 'pink', 'purple', 'blue']\n"
     ]
    }
   ],
   "source": [
    "#Example 1\n",
    "colors1 = [\"red\", \"blue\", \"green\"]\n",
    "colors2 = [\"pink\", \"purple\", \"blue\"]\n",
    "colors = colors1 + colors2\n",
    "print(colors)"
   ]
  },
  {
   "cell_type": "code",
   "execution_count": 311,
   "id": "2405b5c4-ecb5-4224-8e1c-f8cfd6f27800",
   "metadata": {},
   "outputs": [
    {
     "name": "stdout",
     "output_type": "stream",
     "text": [
      "['red', 'blue', 'green', 1, 3, 5]\n"
     ]
    }
   ],
   "source": [
    "#Example 2\n",
    "colors = [\"red\", \"blue\", \"green\"]\n",
    "numbers = [1, 3, 5]\n",
    "\n",
    "for x in numbers:\n",
    "    colors.append(x)\n",
    "\n",
    "print(colors)"
   ]
  },
  {
   "cell_type": "code",
   "execution_count": 315,
   "id": "85484d8a-ec59-4901-8cab-15634c527ad7",
   "metadata": {},
   "outputs": [
    {
     "name": "stdout",
     "output_type": "stream",
     "text": [
      "['red', 'blue', 'green', 'pink', 'purple']\n"
     ]
    }
   ],
   "source": [
    "#Example 3\n",
    "colors = [\"red\", \"blue\", \"green\"]\n",
    "alsocolors = [\"pink\", \"purple\"]\n",
    "\n",
    "colors.extend(alsocolors)\n",
    "print(colors)"
   ]
  },
  {
   "cell_type": "markdown",
   "id": "ce44eb1f-430e-4dc6-94e4-ab7a9224795a",
   "metadata": {},
   "source": [
    "TUPLES"
   ]
  },
  {
   "cell_type": "markdown",
   "id": "18466d9a-8f01-4c15-b307-4f45ef9a66f6",
   "metadata": {},
   "source": [
    "Tuples"
   ]
  },
  {
   "cell_type": "code",
   "execution_count": 27,
   "id": "30e74568-37b8-479d-ab7e-4bfabf84247f",
   "metadata": {},
   "outputs": [
    {
     "name": "stdout",
     "output_type": "stream",
     "text": [
      "('red', 'blue', 'green')\n"
     ]
    }
   ],
   "source": [
    "#Example 1\n",
    "mytuple = (\"red\", \"blue\", \"green\")\n",
    "print(mytuple)"
   ]
  },
  {
   "cell_type": "code",
   "execution_count": 29,
   "id": "744bff24-f1df-4e94-a96d-f3a8f0718209",
   "metadata": {},
   "outputs": [
    {
     "name": "stdout",
     "output_type": "stream",
     "text": [
      "('red', 'green', 'blue', 'green')\n"
     ]
    }
   ],
   "source": [
    "#Example 2 Allows duplicates\n",
    "mytuple = (\"red\", \"green\", \"blue\", \"green\")\n",
    "print(mytuple)"
   ]
  },
  {
   "cell_type": "code",
   "execution_count": 31,
   "id": "29b2ece6-d22a-4c0b-82b8-1002ac46a8e9",
   "metadata": {},
   "outputs": [
    {
     "name": "stdout",
     "output_type": "stream",
     "text": [
      "3\n"
     ]
    }
   ],
   "source": [
    "#Example 3\n",
    "mytuple = (\"red\", \"blue\", \"green\")\n",
    "print(len(mytuple))"
   ]
  },
  {
   "cell_type": "code",
   "execution_count": 35,
   "id": "bb723709-a61c-46c4-ae0f-246195c730bd",
   "metadata": {},
   "outputs": [
    {
     "name": "stdout",
     "output_type": "stream",
     "text": [
      "<class 'tuple'>\n",
      "<class 'str'>\n"
     ]
    }
   ],
   "source": [
    "#Example 4\n",
    "mytuple1 = (\"red\",)\n",
    "print(type(mytuple1))\n",
    "#without a comma it is not a tuple\n",
    "mytuple2 = (\"red\")\n",
    "print(type(mytuple2))"
   ]
  },
  {
   "cell_type": "code",
   "execution_count": 37,
   "id": "03a1efd3-4364-483f-9bca-a9b081957428",
   "metadata": {},
   "outputs": [
    {
     "name": "stdout",
     "output_type": "stream",
     "text": [
      "('red', 'blue', 'green')\n",
      "(1, 2, 3, 4, 5)\n",
      "(True, False, True)\n"
     ]
    }
   ],
   "source": [
    "#Example 5 Can be of any data type\n",
    "tuplestr = (\"red\", \"blue\", \"green\")\n",
    "tupleint = (1, 2, 3, 4, 5)\n",
    "tuplebool = (True, False, True)\n",
    "print(tuplestr)\n",
    "print(tupleint)\n",
    "print(tuplebool)"
   ]
  },
  {
   "cell_type": "code",
   "execution_count": 39,
   "id": "3f00c1de-90f8-477a-81e6-84df28bfd467",
   "metadata": {},
   "outputs": [
    {
     "name": "stdout",
     "output_type": "stream",
     "text": [
      "('red', 2, 1, True, 'green')\n"
     ]
    }
   ],
   "source": [
    "#Example 6 Can be the mix of data type\n",
    "tuplemix = (\"red\", 2, 1, True, \"green\")\n",
    "print(tuplemix)"
   ]
  },
  {
   "cell_type": "code",
   "execution_count": 41,
   "id": "78cf4908-8677-425f-b001-1adbd8a50151",
   "metadata": {},
   "outputs": [
    {
     "name": "stdout",
     "output_type": "stream",
     "text": [
      "<class 'tuple'>\n"
     ]
    }
   ],
   "source": [
    "#Example 7 \n",
    "mytuple = (\"red\", \"green\", \"blue\")\n",
    "print(type(mytuple))"
   ]
  },
  {
   "cell_type": "code",
   "execution_count": 45,
   "id": "f99e4f51-cb4d-42e3-ba60-6fd1307d254a",
   "metadata": {},
   "outputs": [
    {
     "name": "stdout",
     "output_type": "stream",
     "text": [
      "('red', 'green', 'blue')\n",
      "<class 'tuple'>\n"
     ]
    }
   ],
   "source": [
    "#Example 8\n",
    "mytuple = tuple((\"red\", \"green\", \"blue\"))\n",
    "print(mytuple)\n",
    "print(type(mytuple))"
   ]
  },
  {
   "cell_type": "markdown",
   "id": "10ecc1fe-713a-46b1-b0ae-4ac4996eabfd",
   "metadata": {},
   "source": [
    "Access tuples"
   ]
  },
  {
   "cell_type": "code",
   "execution_count": 52,
   "id": "58df615f-a18f-4795-a056-a11676e84bed",
   "metadata": {},
   "outputs": [
    {
     "name": "stdout",
     "output_type": "stream",
     "text": [
      "red\n"
     ]
    }
   ],
   "source": [
    "#Example 1 Indexing\n",
    "colors = (\"red\", \"green\", \"blue\")\n",
    "print(colors[0])"
   ]
  },
  {
   "cell_type": "code",
   "execution_count": 54,
   "id": "77c2029d-9952-4296-8ec0-4611679e3014",
   "metadata": {},
   "outputs": [
    {
     "name": "stdout",
     "output_type": "stream",
     "text": [
      "green\n"
     ]
    }
   ],
   "source": [
    "#Example 2 Negative indexing\n",
    "colors = (\"red\", \"green\", \"blue\")\n",
    "print(colors[-2])"
   ]
  },
  {
   "cell_type": "code",
   "execution_count": 56,
   "id": "48615e26-3742-4e0d-8d1a-d51758fc1b89",
   "metadata": {},
   "outputs": [
    {
     "name": "stdout",
     "output_type": "stream",
     "text": [
      "('blue', 'pink')\n"
     ]
    }
   ],
   "source": [
    "#Example 3 Range of indexes\n",
    "colors = (\"red\", \"green\", \"blue\", \"pink\", \"purple\")\n",
    "print(colors[2:4])"
   ]
  },
  {
   "cell_type": "code",
   "execution_count": 58,
   "id": "ab671766-33df-48eb-b23d-d2801414be0c",
   "metadata": {},
   "outputs": [
    {
     "name": "stdout",
     "output_type": "stream",
     "text": [
      "('pink', 'purple')\n"
     ]
    }
   ],
   "source": [
    "#Example 4\n",
    "colors = (\"red\", \"green\", \"blue\", \"pink\", \"purple\")\n",
    "print(colors[3:])"
   ]
  },
  {
   "cell_type": "code",
   "execution_count": 60,
   "id": "593b3251-ec8a-430f-81e9-0abfb2ab6141",
   "metadata": {},
   "outputs": [
    {
     "name": "stdout",
     "output_type": "stream",
     "text": [
      "('red', 'green', 'blue', 'pink')\n"
     ]
    }
   ],
   "source": [
    "#Example 5 \n",
    "colors = (\"red\", \"green\", \"blue\", \"pink\", \"purple\")\n",
    "print(colors[:4])"
   ]
  },
  {
   "cell_type": "code",
   "execution_count": 62,
   "id": "2c064def-dcc3-4d47-b568-eaf2f3e2aa1e",
   "metadata": {},
   "outputs": [
    {
     "name": "stdout",
     "output_type": "stream",
     "text": [
      "('blue', 'pink')\n"
     ]
    }
   ],
   "source": [
    "#Example 6\n",
    "colors = (\"red\", \"green\", \"blue\", \"pink\", \"purple\")\n",
    "print(colors[-3:-1])"
   ]
  },
  {
   "cell_type": "code",
   "execution_count": 64,
   "id": "158bb6bd-4c55-42d0-8ff3-0d985431714a",
   "metadata": {},
   "outputs": [
    {
     "name": "stdout",
     "output_type": "stream",
     "text": [
      "Red is a beutiful colour\n"
     ]
    }
   ],
   "source": [
    "#Example 7\n",
    "colors = (\"red\", \"green\", \"blue\")\n",
    "if \"red\" in colors:\n",
    "    print(\"Red is a beutiful colour\")"
   ]
  },
  {
   "cell_type": "markdown",
   "id": "06df2801-89af-48c9-8c4c-0a176752b0fb",
   "metadata": {},
   "source": [
    "Update tuples"
   ]
  },
  {
   "cell_type": "code",
   "execution_count": 68,
   "id": "3b428068-700a-4379-97e0-eddc4512dbf2",
   "metadata": {},
   "outputs": [
    {
     "name": "stdout",
     "output_type": "stream",
     "text": [
      "('red', 'yellow', 'green')\n"
     ]
    }
   ],
   "source": [
    "#Example 1\n",
    "a = (\"red\", \"blue\", \"green\")\n",
    "b = list(a)\n",
    "b[1] = \"yellow\"\n",
    "a = tuple(b)\n",
    "print(a)"
   ]
  },
  {
   "cell_type": "code",
   "execution_count": 72,
   "id": "095b2203-b2ed-45a5-813b-9b5d9d0b6fc4",
   "metadata": {},
   "outputs": [
    {
     "name": "stdout",
     "output_type": "stream",
     "text": [
      "('red', 'blue', 'green', 'yellow')\n"
     ]
    }
   ],
   "source": [
    "#Example 2\n",
    "colors = (\"red\", \"blue\", \"green\")\n",
    "listcolors = list(colors)\n",
    "listcolors.append(\"yellow\")\n",
    "colors = tuple(listcolors)\n",
    "print(colors)"
   ]
  },
  {
   "cell_type": "code",
   "execution_count": 76,
   "id": "225de9b6-073e-45dd-a64e-ebda698b70af",
   "metadata": {},
   "outputs": [
    {
     "name": "stdout",
     "output_type": "stream",
     "text": [
      "('red', 'blue', 'green', 'yellow')\n"
     ]
    }
   ],
   "source": [
    "#Example 3\n",
    "colors = (\"red\", \"blue\", \"green\")\n",
    "addcolor = (\"yellow\",)\n",
    "colors += addcolor\n",
    "print(colors)"
   ]
  },
  {
   "cell_type": "code",
   "execution_count": 78,
   "id": "4f860bff-5612-4418-8f13-467ed5f0a4cd",
   "metadata": {},
   "outputs": [
    {
     "name": "stdout",
     "output_type": "stream",
     "text": [
      "('blue', 'green')\n"
     ]
    }
   ],
   "source": [
    "#Example 4\n",
    "colors = (\"red\", \"blue\", \"green\")\n",
    "listcolors = list(colors)\n",
    "listcolors.remove(\"red\")\n",
    "colors = tuple(listcolors)\n",
    "print(colors)"
   ]
  },
  {
   "cell_type": "code",
   "execution_count": 80,
   "id": "66f13706-ee1a-4aeb-a876-fc8016dde67c",
   "metadata": {},
   "outputs": [
    {
     "ename": "NameError",
     "evalue": "name 'colors' is not defined",
     "output_type": "error",
     "traceback": [
      "\u001b[1;31m---------------------------------------------------------------------------\u001b[0m",
      "\u001b[1;31mNameError\u001b[0m                                 Traceback (most recent call last)",
      "Cell \u001b[1;32mIn[80], line 4\u001b[0m\n\u001b[0;32m      2\u001b[0m colors \u001b[38;5;241m=\u001b[39m (\u001b[38;5;124m\"\u001b[39m\u001b[38;5;124mred\u001b[39m\u001b[38;5;124m\"\u001b[39m, \u001b[38;5;124m\"\u001b[39m\u001b[38;5;124mblue\u001b[39m\u001b[38;5;124m\"\u001b[39m, \u001b[38;5;124m\"\u001b[39m\u001b[38;5;124mgreen\u001b[39m\u001b[38;5;124m\"\u001b[39m)\n\u001b[0;32m      3\u001b[0m \u001b[38;5;28;01mdel\u001b[39;00m colors\n\u001b[1;32m----> 4\u001b[0m \u001b[38;5;28mprint\u001b[39m(colors)\n",
      "\u001b[1;31mNameError\u001b[0m: name 'colors' is not defined"
     ]
    }
   ],
   "source": [
    "#Example 5\n",
    "colors = (\"red\", \"blue\", \"green\")\n",
    "del colors\n",
    "print(colors)"
   ]
  },
  {
   "cell_type": "markdown",
   "id": "d58e5db6-1ffe-4d76-bfec-4b237077b6ea",
   "metadata": {},
   "source": [
    "Unpack tuples"
   ]
  },
  {
   "cell_type": "code",
   "execution_count": 3,
   "id": "ce3a476d-31c6-4f66-b356-f100e3653210",
   "metadata": {},
   "outputs": [
    {
     "name": "stdout",
     "output_type": "stream",
     "text": [
      "red\n",
      "blue\n",
      "green\n"
     ]
    }
   ],
   "source": [
    "#Example 1 \"Upacking\" - extract the values back into variables\n",
    "colors = (\"red\", \"blue\", \"green\")\n",
    "(apple, blueberry, avocado) = colors #the number of variables must match the number of values in the tuple\n",
    "print(apple)\n",
    "print(blueberry)\n",
    "print(avocado)"
   ]
  },
  {
   "cell_type": "code",
   "execution_count": 11,
   "id": "7af5d81b-54b9-41a8-9255-3e50413b1c6f",
   "metadata": {},
   "outputs": [
    {
     "name": "stdout",
     "output_type": "stream",
     "text": [
      "blue\n",
      "purple\n",
      "['green', 'red', 'yellow']\n"
     ]
    }
   ],
   "source": [
    "#Example 2 Using Asterisk*.If the number of variables is less than the number of values, the values will be assigned to the variable as a list\n",
    "colors = (\"blue\", \"purple\", \"green\", \"red\", \"yellow\")\n",
    "(blueberry, grape, *apple) = colors\n",
    "print(blueberry)\n",
    "print(grape)\n",
    "print(apple)"
   ]
  },
  {
   "cell_type": "code",
   "execution_count": 16,
   "id": "6711d922-1397-4c08-b4ae-b3314b9aaba1",
   "metadata": {},
   "outputs": [
    {
     "name": "stdout",
     "output_type": "stream",
     "text": [
      "blue\n",
      "['green', 'red', 'yellow']\n",
      "purple\n"
     ]
    }
   ],
   "source": [
    "#Example 3 The asterisk to another variable name, it assigns values to the variable until the number of values left matches the number of variables left\n",
    "colors = (\"blue\", \"green\", \"red\", \"yellow\", \"purple\")\n",
    "(blueberry, *apple, grape) = colors\n",
    "print(blueberry)\n",
    "print(apple)\n",
    "print(grape)"
   ]
  },
  {
   "cell_type": "markdown",
   "id": "df801044-9967-437a-a7d9-77a6fa10f3dd",
   "metadata": {},
   "source": [
    "Loop tuples"
   ]
  },
  {
   "cell_type": "code",
   "execution_count": 18,
   "id": "f1f95d8b-27a9-41ec-acec-65b1d6de01ab",
   "metadata": {},
   "outputs": [
    {
     "name": "stdout",
     "output_type": "stream",
     "text": [
      "red\n",
      "blue\n",
      "green\n"
     ]
    }
   ],
   "source": [
    "#Example 1\n",
    "colors = (\"red\", \"blue\", \"green\")\n",
    "for x in colors:\n",
    "    print(x)"
   ]
  },
  {
   "cell_type": "code",
   "execution_count": 20,
   "id": "15ea77e6-5540-49b1-9455-976a2eca5b82",
   "metadata": {},
   "outputs": [
    {
     "name": "stdout",
     "output_type": "stream",
     "text": [
      "red\n",
      "blue\n",
      "green\n"
     ]
    }
   ],
   "source": [
    "#Example 2\n",
    "colors = (\"red\", \"blue\", \"green\")\n",
    "for i in range(len(colors)):\n",
    "    print(colors[i])"
   ]
  },
  {
   "cell_type": "code",
   "execution_count": 22,
   "id": "e106bd77-a76b-42f0-bba9-320cb0731635",
   "metadata": {},
   "outputs": [
    {
     "name": "stdout",
     "output_type": "stream",
     "text": [
      "red\n",
      "blue\n",
      "green\n"
     ]
    }
   ],
   "source": [
    "#Example 3\n",
    "colors = (\"red\", \"blue\", \"green\")\n",
    "i = 0\n",
    "while i < len(colors):\n",
    "    print(colors[i])\n",
    "    i += 1"
   ]
  },
  {
   "cell_type": "markdown",
   "id": "7cf7da75-b941-4acd-bcba-d600b6df503f",
   "metadata": {},
   "source": [
    "Join two tuples"
   ]
  },
  {
   "cell_type": "code",
   "execution_count": 29,
   "id": "d872c5ad-5b94-45c9-b8e4-d2a60d4c283b",
   "metadata": {},
   "outputs": [
    {
     "name": "stdout",
     "output_type": "stream",
     "text": [
      "('red', 'blue', 'green', 'pink', 'purple')\n"
     ]
    }
   ],
   "source": [
    "#Example 1 Join two tuples\n",
    "colors1 = (\"red\", \"blue\", \"green\")\n",
    "colors2 = (\"pink\", \"purple\")\n",
    "colors = colors1 + colors2\n",
    "print(colors)"
   ]
  },
  {
   "cell_type": "code",
   "execution_count": 31,
   "id": "05ad9a10-80a9-4d09-818a-fe00ad839fce",
   "metadata": {},
   "outputs": [
    {
     "name": "stdout",
     "output_type": "stream",
     "text": [
      "('red', 'blue', 'green', 'red', 'blue', 'green')\n"
     ]
    }
   ],
   "source": [
    "#Example 2 Multiply tuples\n",
    "colors = (\"red\", \"blue\", \"green\")\n",
    "colorstwice = colors*2\n",
    "print(colorstwice)"
   ]
  },
  {
   "cell_type": "markdown",
   "id": "c0fb86f8-cd70-4882-b612-6d36cab8e2a9",
   "metadata": {},
   "source": [
    "SETS"
   ]
  },
  {
   "cell_type": "markdown",
   "id": "9cbf9d87-ba2a-45c8-b90a-ef2bf2fd784c",
   "metadata": {},
   "source": [
    "Set"
   ]
  },
  {
   "cell_type": "code",
   "execution_count": 49,
   "id": "6c246663-6943-4cb3-b7e5-b6bdb7955e72",
   "metadata": {},
   "outputs": [
    {
     "name": "stdout",
     "output_type": "stream",
     "text": [
      "{'red', 'green', 'blue'}\n"
     ]
    }
   ],
   "source": [
    "#Example 1 Unordered, do not have exact index and can appear in chaotic order\n",
    "myset = {\"red\",\"blue\", \"green\"}\n",
    "print(myset)"
   ]
  },
  {
   "cell_type": "code",
   "execution_count": 45,
   "id": "504bd132-25f8-42c8-83b5-8d0dc5d4a960",
   "metadata": {},
   "outputs": [
    {
     "name": "stdout",
     "output_type": "stream",
     "text": [
      "{'red', 'green', 'blue'}\n"
     ]
    }
   ],
   "source": [
    "#Example 2 Duplicates are not allowed\n",
    "colors = {\"red\", \"green\", \"blue\", \"red\"}\n",
    "print(colors)"
   ]
  },
  {
   "cell_type": "code",
   "execution_count": 51,
   "id": "acaf6a07-6f09-42ce-af02-aa4e16bf7674",
   "metadata": {},
   "outputs": [
    {
     "name": "stdout",
     "output_type": "stream",
     "text": [
      "{'red', True, 3, 'blue', 'green'}\n"
     ]
    }
   ],
   "source": [
    "#Example 3 True and 1 is considered the same value\n",
    "colors = {\"red\", \"green\", \"blue\", True, 3, 1}\n",
    "print(colors)"
   ]
  },
  {
   "cell_type": "code",
   "execution_count": 53,
   "id": "1a62ec52-fc3b-4b56-b6e7-6d8e56751663",
   "metadata": {},
   "outputs": [
    {
     "name": "stdout",
     "output_type": "stream",
     "text": [
      "{0, 'red', 5, 'blue', 'green'}\n"
     ]
    }
   ],
   "source": [
    "#Example 4 False and 0 is considered the same value\n",
    "colors = {\"red\",\"blue\", \"green\", 0, 5, False}\n",
    "print(colors)"
   ]
  },
  {
   "cell_type": "code",
   "execution_count": 55,
   "id": "d2e75044-0e9d-436c-affb-8e42957d9a48",
   "metadata": {},
   "outputs": [
    {
     "name": "stdout",
     "output_type": "stream",
     "text": [
      "3\n"
     ]
    }
   ],
   "source": [
    "#Example 5 \n",
    "colors = {\"red\",\"blue\", \"green\"}\n",
    "print(len(colors))"
   ]
  },
  {
   "cell_type": "code",
   "execution_count": 59,
   "id": "d7ce84cc-ba07-4f7e-97ee-e23cb915a0a0",
   "metadata": {},
   "outputs": [
    {
     "name": "stdout",
     "output_type": "stream",
     "text": [
      "{'red', 'green', 'blue'}\n",
      "{2, 4, 6}\n",
      "{False, True}\n"
     ]
    }
   ],
   "source": [
    "#Example 6\n",
    "strings = {\"red\",\"blue\", \"green\"}\n",
    "integers = {2, 4, 6}\n",
    "booleans = {True, False, True}\n",
    "print(strings)\n",
    "print(integers)\n",
    "print(booleans)"
   ]
  },
  {
   "cell_type": "code",
   "execution_count": 63,
   "id": "8881a3fd-431c-4fcf-a4ad-79e169f63c34",
   "metadata": {},
   "outputs": [
    {
     "name": "stdout",
     "output_type": "stream",
     "text": [
      "{False, 'red', 16, 5, 'green'}\n"
     ]
    }
   ],
   "source": [
    "#Example 7\n",
    "myset = {\"red\", 5, 16, \"green\", False}\n",
    "print(myset)"
   ]
  },
  {
   "cell_type": "code",
   "execution_count": 65,
   "id": "5f063687-4c2b-4492-b78d-ee93ef066319",
   "metadata": {},
   "outputs": [
    {
     "name": "stdout",
     "output_type": "stream",
     "text": [
      "<class 'set'>\n"
     ]
    }
   ],
   "source": [
    "#Example 8\n",
    "colors = {\"red\",\"blue\", \"green\"}\n",
    "print(type(colors))"
   ]
  },
  {
   "cell_type": "code",
   "execution_count": 67,
   "id": "eef264a3-8390-450e-b2f8-249ac0fc0b5b",
   "metadata": {},
   "outputs": [
    {
     "name": "stdout",
     "output_type": "stream",
     "text": [
      "<class 'set'>\n",
      "{'red', 'green', 'blue'}\n"
     ]
    }
   ],
   "source": [
    "#Example 9\n",
    "colors = set((\"red\",\"blue\", \"green\"))\n",
    "print(type(colors))\n",
    "print(colors)"
   ]
  },
  {
   "cell_type": "markdown",
   "id": "0a3303ba-a1a7-4725-9381-5c80341aa1aa",
   "metadata": {},
   "source": [
    "Access set items"
   ]
  },
  {
   "cell_type": "code",
   "execution_count": 70,
   "id": "833ae3bf-9e2e-48e6-8834-35420ede5410",
   "metadata": {},
   "outputs": [
    {
     "name": "stdout",
     "output_type": "stream",
     "text": [
      "red\n",
      "green\n",
      "blue\n"
     ]
    }
   ],
   "source": [
    "#Example 1 You cannot access items in a set by referring to an index or a key\n",
    "colors = {\"red\",\"blue\", \"green\"}\n",
    "for x in colors:\n",
    "    print(x)"
   ]
  },
  {
   "cell_type": "code",
   "execution_count": 72,
   "id": "4263550f-70c8-442a-af70-3bb92a7eeea5",
   "metadata": {},
   "outputs": [
    {
     "name": "stdout",
     "output_type": "stream",
     "text": [
      "True\n"
     ]
    }
   ],
   "source": [
    "#Example 2\n",
    "colors = {\"red\",\"blue\", \"green\"}\n",
    "print(\"green\" in colors)"
   ]
  },
  {
   "cell_type": "code",
   "execution_count": 74,
   "id": "660417c2-11f5-4dd7-a1cd-60fa7aba941a",
   "metadata": {},
   "outputs": [
    {
     "name": "stdout",
     "output_type": "stream",
     "text": [
      "False\n"
     ]
    }
   ],
   "source": [
    "#Example 3\n",
    "colors = {\"red\",\"blue\", \"green\"}\n",
    "print(\"green\" not in colors)"
   ]
  },
  {
   "cell_type": "markdown",
   "id": "725ccd02-48fa-4171-9f0b-0d5a994d16a2",
   "metadata": {},
   "source": [
    "Add set items"
   ]
  },
  {
   "cell_type": "code",
   "execution_count": 85,
   "id": "5e22814a-a7ae-4803-92c6-b3c9fde3f73d",
   "metadata": {},
   "outputs": [
    {
     "name": "stdout",
     "output_type": "stream",
     "text": [
      "{'red', 'green', 'blue', 'yellow'}\n"
     ]
    }
   ],
   "source": [
    "#Example 1 To add one item to a set by using add() method\n",
    "colors = {\"red\",\"blue\", \"green\"}\n",
    "colors.add(\"yellow\")\n",
    "print(colors)"
   ]
  },
  {
   "cell_type": "code",
   "execution_count": 87,
   "id": "e185550c-5e7c-462e-979a-2869a3d50924",
   "metadata": {},
   "outputs": [
    {
     "name": "stdout",
     "output_type": "stream",
     "text": [
      "{'red', 'purple', 'blue', 'yellow', 'green', 'pink'}\n"
     ]
    }
   ],
   "source": [
    "#Example 2 To add items from another set into the current set by using update() method\n",
    "colors = {\"red\",\"blue\", \"green\"}\n",
    "additional = {\"pink\", \"yellow\", \"purple\"}\n",
    "colors.update(additional)\n",
    "print(colors)"
   ]
  },
  {
   "cell_type": "code",
   "execution_count": 89,
   "id": "4bbafd2a-cdcb-48bb-9244-64c93daaa1b3",
   "metadata": {},
   "outputs": [
    {
     "name": "stdout",
     "output_type": "stream",
     "text": [
      "{'red', 'blue', 'green', 'purple', 'pink'}\n"
     ]
    }
   ],
   "source": [
    "#Example 3 The object in the update() method does not have to be a set, it can be any iterable object\n",
    "colors = {\"red\",\"blue\", \"green\"}\n",
    "listcolors = [\"pink\", \"purple\"]\n",
    "colors.update(listcolors)\n",
    "print(colors)"
   ]
  },
  {
   "cell_type": "markdown",
   "id": "3d5eeee4-a4c6-4e6d-a41b-145530e6ec8e",
   "metadata": {},
   "source": [
    "Remove set items"
   ]
  },
  {
   "cell_type": "code",
   "execution_count": 102,
   "id": "775fd932-6e48-468d-acdb-237b939f5273",
   "metadata": {},
   "outputs": [
    {
     "name": "stdout",
     "output_type": "stream",
     "text": [
      "{'red', 'green'}\n"
     ]
    }
   ],
   "source": [
    "#Example 1\n",
    "colors = {\"red\",\"blue\", \"green\"}\n",
    "colors.remove(\"blue\")\n",
    "print(colors)"
   ]
  },
  {
   "cell_type": "code",
   "execution_count": 104,
   "id": "84ee93b6-c6e8-4e25-b6c6-ee0251bf27fa",
   "metadata": {},
   "outputs": [
    {
     "ename": "KeyError",
     "evalue": "'yellow'",
     "output_type": "error",
     "traceback": [
      "\u001b[1;31m---------------------------------------------------------------------------\u001b[0m",
      "\u001b[1;31mKeyError\u001b[0m                                  Traceback (most recent call last)",
      "Cell \u001b[1;32mIn[104], line 3\u001b[0m\n\u001b[0;32m      1\u001b[0m \u001b[38;5;66;03m#Example 3 If the item to remove does not exist, remove() will raise an error\u001b[39;00m\n\u001b[0;32m      2\u001b[0m colors \u001b[38;5;241m=\u001b[39m {\u001b[38;5;124m\"\u001b[39m\u001b[38;5;124mred\u001b[39m\u001b[38;5;124m\"\u001b[39m,\u001b[38;5;124m\"\u001b[39m\u001b[38;5;124mblue\u001b[39m\u001b[38;5;124m\"\u001b[39m, \u001b[38;5;124m\"\u001b[39m\u001b[38;5;124mgreen\u001b[39m\u001b[38;5;124m\"\u001b[39m}\n\u001b[1;32m----> 3\u001b[0m colors\u001b[38;5;241m.\u001b[39mremove(\u001b[38;5;124m\"\u001b[39m\u001b[38;5;124myellow\u001b[39m\u001b[38;5;124m\"\u001b[39m)\n\u001b[0;32m      4\u001b[0m \u001b[38;5;28mprint\u001b[39m(colors)\n",
      "\u001b[1;31mKeyError\u001b[0m: 'yellow'"
     ]
    }
   ],
   "source": [
    "#Example 3 If the item to remove does not exist, remove() will raise an error\n",
    "colors = {\"red\",\"blue\", \"green\"}\n",
    "colors.remove(\"yellow\")\n",
    "print(colors)"
   ]
  },
  {
   "cell_type": "code",
   "execution_count": 106,
   "id": "3ef22a35-e6de-4240-be5f-63fea1f349ef",
   "metadata": {},
   "outputs": [
    {
     "name": "stdout",
     "output_type": "stream",
     "text": [
      "{'red', 'green'}\n"
     ]
    }
   ],
   "source": [
    "#Example 3\n",
    "colors = {\"red\",\"blue\", \"green\"}\n",
    "colors.discard(\"blue\")\n",
    "print(colors)"
   ]
  },
  {
   "cell_type": "code",
   "execution_count": 108,
   "id": "ea1eb161-e547-439f-885e-fa5845ab075f",
   "metadata": {},
   "outputs": [
    {
     "name": "stdout",
     "output_type": "stream",
     "text": [
      "{'red', 'green', 'blue'}\n"
     ]
    }
   ],
   "source": [
    "#Example 4 If the item to remove does not exist, discard() will not raise an error\n",
    "colors = {\"red\",\"blue\", \"green\"}\n",
    "colors.discard(\"yellow\")\n",
    "print(colors)"
   ]
  },
  {
   "cell_type": "code",
   "execution_count": 110,
   "id": "3eb5ed42-075d-49c0-8a26-cb40d6b997f1",
   "metadata": {},
   "outputs": [
    {
     "name": "stdout",
     "output_type": "stream",
     "text": [
      "{'green', 'blue'}\n"
     ]
    }
   ],
   "source": [
    "#Example 5 Remove a random item\n",
    "colors = {\"red\",\"blue\", \"green\"}\n",
    "colors.pop()\n",
    "print(colors)"
   ]
  },
  {
   "cell_type": "code",
   "execution_count": 112,
   "id": "0870306b-5008-4d55-8add-199795eade06",
   "metadata": {},
   "outputs": [
    {
     "name": "stdout",
     "output_type": "stream",
     "text": [
      "red\n",
      "{'green', 'blue'}\n"
     ]
    }
   ],
   "source": [
    "#Example 6\n",
    "colors = {\"red\",\"blue\", \"green\"}\n",
    "x = colors.pop()\n",
    "print(x)\n",
    "print(colors)"
   ]
  },
  {
   "cell_type": "code",
   "execution_count": 114,
   "id": "b48cab59-cea5-4858-8bd7-baaf4a7f7250",
   "metadata": {},
   "outputs": [
    {
     "name": "stdout",
     "output_type": "stream",
     "text": [
      "set()\n"
     ]
    }
   ],
   "source": [
    "#Example 7\n",
    "colors = {\"red\",\"blue\", \"green\"}\n",
    "colors.clear()\n",
    "print(colors)"
   ]
  },
  {
   "cell_type": "code",
   "execution_count": 116,
   "id": "b65f08b5-9e81-4a58-b096-54cef77dc9da",
   "metadata": {},
   "outputs": [
    {
     "ename": "NameError",
     "evalue": "name 'colors' is not defined",
     "output_type": "error",
     "traceback": [
      "\u001b[1;31m---------------------------------------------------------------------------\u001b[0m",
      "\u001b[1;31mNameError\u001b[0m                                 Traceback (most recent call last)",
      "Cell \u001b[1;32mIn[116], line 4\u001b[0m\n\u001b[0;32m      2\u001b[0m colors \u001b[38;5;241m=\u001b[39m {\u001b[38;5;124m\"\u001b[39m\u001b[38;5;124mred\u001b[39m\u001b[38;5;124m\"\u001b[39m,\u001b[38;5;124m\"\u001b[39m\u001b[38;5;124mblue\u001b[39m\u001b[38;5;124m\"\u001b[39m, \u001b[38;5;124m\"\u001b[39m\u001b[38;5;124mgreen\u001b[39m\u001b[38;5;124m\"\u001b[39m}\n\u001b[0;32m      3\u001b[0m \u001b[38;5;28;01mdel\u001b[39;00m colors\n\u001b[1;32m----> 4\u001b[0m \u001b[38;5;28mprint\u001b[39m(colors)\n",
      "\u001b[1;31mNameError\u001b[0m: name 'colors' is not defined"
     ]
    }
   ],
   "source": [
    "#Example 8\n",
    "colors = {\"red\",\"blue\", \"green\"}\n",
    "del colors\n",
    "print(colors)"
   ]
  },
  {
   "cell_type": "markdown",
   "id": "91582de1-2e0d-46eb-ac72-0a2dfe7bcf70",
   "metadata": {},
   "source": [
    "Loop sets"
   ]
  },
  {
   "cell_type": "code",
   "execution_count": 119,
   "id": "56f912e0-1c80-452d-a6b7-f1aa5907412b",
   "metadata": {},
   "outputs": [
    {
     "name": "stdout",
     "output_type": "stream",
     "text": [
      "red\n",
      "green\n",
      "blue\n"
     ]
    }
   ],
   "source": [
    "#Example 1\n",
    "colors = {\"red\",\"blue\", \"green\"}\n",
    "for x in colors:\n",
    "    print(x)"
   ]
  },
  {
   "cell_type": "markdown",
   "id": "ab9bb558-0ddd-49d5-9095-18ded97a3fc3",
   "metadata": {},
   "source": [
    "Join sets"
   ]
  },
  {
   "cell_type": "code",
   "execution_count": 122,
   "id": "f9a764ea-ebd6-4703-8279-c9308d622297",
   "metadata": {},
   "outputs": [
    {
     "name": "stdout",
     "output_type": "stream",
     "text": [
      "{'red', 1, 3, 'blue', 8, 'green'}\n"
     ]
    }
   ],
   "source": [
    "#Example 1\n",
    "set1 = {\"red\",\"blue\", \"green\"}\n",
    "set2 = {1, 3, 8}\n",
    "\n",
    "setunion = set1.union(set2)\n",
    "print(setunion)"
   ]
  },
  {
   "cell_type": "code",
   "execution_count": 124,
   "id": "3b764ed2-2281-411b-99aa-796d3a9972d0",
   "metadata": {},
   "outputs": [
    {
     "name": "stdout",
     "output_type": "stream",
     "text": [
      "{'red', 1, 3, 'blue', 8, 'green'}\n"
     ]
    }
   ],
   "source": [
    "#Example 2 We can use the | operator instead of the union() method\n",
    "set1 = {\"red\",\"blue\", \"green\"}\n",
    "set2 = {1, 3, 8}\n",
    "\n",
    "setunion = set1 | set2\n",
    "print(setunion)"
   ]
  },
  {
   "cell_type": "code",
   "execution_count": 126,
   "id": "bda07a01-9a43-4daa-b14b-160db64861b0",
   "metadata": {},
   "outputs": [
    {
     "name": "stdout",
     "output_type": "stream",
     "text": [
      "{'red', 1, 3, 'Lily', 'blue', 4, 7, 8, 'green', 'Harry'}\n"
     ]
    }
   ],
   "source": [
    "#Example 3\n",
    "set1 = {\"red\",\"blue\", \"green\"}\n",
    "set2 = {1, 3, 8}\n",
    "set3 = {\"Harry\", \"Lily\"}\n",
    "set4 = {3, 7, 4}\n",
    "\n",
    "myset = set1.union(set2, set3, set4)\n",
    "print(myset)"
   ]
  },
  {
   "cell_type": "code",
   "execution_count": 128,
   "id": "b41dfa8f-a404-4bb6-a476-44e0fca2bd7b",
   "metadata": {},
   "outputs": [
    {
     "name": "stdout",
     "output_type": "stream",
     "text": [
      "{'red', 1, 3, 'Lily', 'blue', 4, 7, 8, 'green', 'Harry'}\n"
     ]
    }
   ],
   "source": [
    "#Example 4\n",
    "set1 = {\"red\",\"blue\", \"green\"}\n",
    "set2 = {1, 3, 8}\n",
    "set3 = {\"Harry\", \"Lily\"}\n",
    "set4 = {3, 7, 4}\n",
    "\n",
    "myset = set1 | set2 | set3 | set4\n",
    "print(myset)"
   ]
  },
  {
   "cell_type": "code",
   "execution_count": 132,
   "id": "88f6d7bf-8a9f-4077-a6ef-4fb0dae077e4",
   "metadata": {},
   "outputs": [
    {
     "name": "stdout",
     "output_type": "stream",
     "text": [
      "{'red', 'blue', 5, 7, 9, 'green'}\n"
     ]
    }
   ],
   "source": [
    "#Example 5 Join a set and a tuple. The  | operator only allows you to join sets with sets, and not with other data types\n",
    "myset = {\"red\",\"blue\", \"green\"}\n",
    "mytuple = {5, 7, 9}\n",
    "\n",
    "settuple = myset.union(mytuple)\n",
    "print(settuple)"
   ]
  },
  {
   "cell_type": "code",
   "execution_count": 134,
   "id": "58fc0d6e-d361-42da-984f-27a9e0228d1c",
   "metadata": {},
   "outputs": [
    {
     "name": "stdout",
     "output_type": "stream",
     "text": [
      "{'red', 1, 3, 'blue', 8, 'green'}\n"
     ]
    }
   ],
   "source": [
    "#Example 6 The update() method inserts all items from one set into another. It changes the original set, and does not return a new set\n",
    "set1 = {\"red\",\"blue\", \"green\"}\n",
    "set2 = {1, 3, 8}\n",
    "\n",
    "set1.update(set2)\n",
    "print(set1)"
   ]
  },
  {
   "cell_type": "code",
   "execution_count": 138,
   "id": "ff06b05e-6aef-498e-8164-d18ab48fc7d8",
   "metadata": {},
   "outputs": [
    {
     "name": "stdout",
     "output_type": "stream",
     "text": [
      "{3, 'blue'}\n"
     ]
    }
   ],
   "source": [
    "#Example 7 A new set, that only contains the items that are present in both sets\n",
    "set1 = {\"red\",\"blue\", \"green\", 3}\n",
    "set2 = {1, \"blue\", 3, 8}\n",
    "\n",
    "set3 = set1.intersection(set2)\n",
    "print(set3)"
   ]
  },
  {
   "cell_type": "code",
   "execution_count": 140,
   "id": "d147dc05-39d2-439a-ae7a-6b51a2635a5f",
   "metadata": {},
   "outputs": [
    {
     "name": "stdout",
     "output_type": "stream",
     "text": [
      "{3, 'blue'}\n"
     ]
    }
   ],
   "source": [
    "#Example 8 We can use the & operator instead of the intersection() method\n",
    "set1 = {\"red\",\"blue\", \"green\", 3}\n",
    "set2 = {1, \"blue\", 3, 8}\n",
    "\n",
    "set3 = set1 & set2\n",
    "print(set3)"
   ]
  },
  {
   "cell_type": "code",
   "execution_count": 142,
   "id": "fc9c80b0-6272-45ef-801a-6ef646e7732f",
   "metadata": {},
   "outputs": [
    {
     "name": "stdout",
     "output_type": "stream",
     "text": [
      "{3, 'blue'}\n"
     ]
    }
   ],
   "source": [
    "#Example 9 The intersection_update() method will also keep ONLY the duplicates, but it will change the original set instead of returning a new set\n",
    "set1 = {\"red\",\"blue\", \"green\", 3}\n",
    "set2 = {1, \"blue\", 3, 8}\n",
    "\n",
    "set1.intersection_update(set2)\n",
    "print(set1)"
   ]
  },
  {
   "cell_type": "code",
   "execution_count": 144,
   "id": "9ce72d2c-15d7-4d2e-a8a1-5666a081dd97",
   "metadata": {},
   "outputs": [
    {
     "name": "stdout",
     "output_type": "stream",
     "text": [
      "{False, 1, 'blue'}\n"
     ]
    }
   ],
   "source": [
    "#Example 10\n",
    "set1 = {\"red\",\"blue\", \"green\", 0, True}\n",
    "set2 = {1, \"blue\", 3, False}\n",
    "\n",
    "set1.intersection_update(set2)\n",
    "print(set1)"
   ]
  },
  {
   "cell_type": "code",
   "execution_count": 146,
   "id": "8f4240a8-f0d9-4117-9792-596d71834878",
   "metadata": {},
   "outputs": [
    {
     "name": "stdout",
     "output_type": "stream",
     "text": [
      "{'red', 'green'}\n"
     ]
    }
   ],
   "source": [
    "#Example 11 A new set that will contain only the items from the first set that are not present in the other set\n",
    "set1 = {\"red\",\"blue\", \"green\", 3}\n",
    "set2 = {1, \"blue\", 3, 8}\n",
    "\n",
    "set3 = set1.difference(set2)\n",
    "print(set3)"
   ]
  },
  {
   "cell_type": "code",
   "execution_count": 148,
   "id": "0d2e4a86-3bd5-4406-bbc3-68031938c252",
   "metadata": {},
   "outputs": [
    {
     "name": "stdout",
     "output_type": "stream",
     "text": [
      "{'red', 'green'}\n"
     ]
    }
   ],
   "source": [
    "#Example 12 We can use the - operator instead of the difference() method\n",
    "set1 = {\"red\",\"blue\", \"green\", 3}\n",
    "set2 = {1, \"blue\", 3, 8}\n",
    "\n",
    "set3 = set1 - set2\n",
    "print(set3)"
   ]
  },
  {
   "cell_type": "code",
   "execution_count": 152,
   "id": "08e09098-45f5-46e3-a82d-701bc0b8557c",
   "metadata": {},
   "outputs": [
    {
     "name": "stdout",
     "output_type": "stream",
     "text": [
      "{'red', 'green'}\n"
     ]
    }
   ],
   "source": [
    "#Example 13\n",
    "set1 = {\"red\",\"blue\", \"green\", 3}\n",
    "set2 = {1, \"blue\", 3, 8}\n",
    "\n",
    "set1.difference_update(set2)\n",
    "print(set1)"
   ]
  },
  {
   "cell_type": "code",
   "execution_count": 154,
   "id": "06a3ec53-47f5-4fd8-b89b-d84a7712b2e5",
   "metadata": {},
   "outputs": [
    {
     "name": "stdout",
     "output_type": "stream",
     "text": [
      "{1, 'red', 8, 'green'}\n"
     ]
    }
   ],
   "source": [
    "#Example 14 The symmetric_difference() method will keep only the elements that are NOT present in both sets\n",
    "set1 = {\"red\",\"blue\", \"green\", 3}\n",
    "set2 = {1, \"blue\", 3, 8}\n",
    "\n",
    "set3 = set1.symmetric_difference(set2)\n",
    "print(set3)"
   ]
  },
  {
   "cell_type": "code",
   "execution_count": 158,
   "id": "260525f6-f6f2-4d22-99bc-636795704dc3",
   "metadata": {},
   "outputs": [
    {
     "name": "stdout",
     "output_type": "stream",
     "text": [
      "{1, 'red', 8, 'green'}\n"
     ]
    }
   ],
   "source": [
    "#Example 15 We can use the ^ operator instead of the symmetric_difference() method\n",
    "set1 = {\"red\",\"blue\", \"green\", 3}\n",
    "set2 = {1, \"blue\", 3, 8}\n",
    "\n",
    "set3 = set1 ^ set2\n",
    "print(set3)"
   ]
  },
  {
   "cell_type": "code",
   "execution_count": 161,
   "id": "5d1e22d2-7a7e-454d-930a-220504ba9746",
   "metadata": {},
   "outputs": [
    {
     "name": "stdout",
     "output_type": "stream",
     "text": [
      "{'red', 1, 8, 'green'}\n"
     ]
    }
   ],
   "source": [
    "#Example 16\n",
    "set1 = {\"red\",\"blue\", \"green\", 3}\n",
    "set2 = {1, \"blue\", 3, 8}\n",
    "\n",
    "set1.symmetric_difference_update(set2)\n",
    "print(set1)"
   ]
  },
  {
   "cell_type": "markdown",
   "id": "ea50d5c0-bb0c-41b9-a634-d963fa7dbbbd",
   "metadata": {},
   "source": [
    "DICTIONARIES"
   ]
  },
  {
   "cell_type": "markdown",
   "id": "d95745a7-fc55-4c0b-9a3a-eb2e143a1b05",
   "metadata": {},
   "source": [
    "Dictionaries"
   ]
  },
  {
   "cell_type": "code",
   "execution_count": 167,
   "id": "3a6b1943-57ca-48ce-a982-c7acaf0900f9",
   "metadata": {},
   "outputs": [
    {
     "name": "stdout",
     "output_type": "stream",
     "text": [
      "{'Name': 'Amina', 'Course': 1, 'Age': 17, 'Specialty': 'R&M'}\n"
     ]
    }
   ],
   "source": [
    "#Example 1\n",
    "mydict = {\n",
    "    \"Name\": \"Amina\",\n",
    "    \"Course\": 1,\n",
    "    \"Age\": 17,\n",
    "    \"Specialty\": \"R&M\"\n",
    "}\n",
    "print(mydict)"
   ]
  },
  {
   "cell_type": "code",
   "execution_count": 169,
   "id": "21054275-db91-4105-a158-327757c26d69",
   "metadata": {},
   "outputs": [
    {
     "name": "stdout",
     "output_type": "stream",
     "text": [
      "4\n"
     ]
    }
   ],
   "source": [
    "#Example 2\n",
    "mydict = {\n",
    "    \"Name\": \"Amina\",\n",
    "    \"Course\": 1,\n",
    "    \"Age\": 17,\n",
    "    \"Specialty\": \"R&M\"\n",
    "}\n",
    "print(len(mydict))"
   ]
  },
  {
   "cell_type": "code",
   "execution_count": 173,
   "id": "5361c465-6fe1-4e0c-a18b-b633baedf9ae",
   "metadata": {},
   "outputs": [
    {
     "name": "stdout",
     "output_type": "stream",
     "text": [
      "{'Name': 'Amina', 'Course': 1, 'Disciplines': ['PP2', 'DS', 'Calculus2'], 'Specialty': 'R&M'}\n"
     ]
    }
   ],
   "source": [
    "#Example 3\n",
    "mydict = {\n",
    "    \"Name\": \"Amina\",\n",
    "    \"Course\": 1,\n",
    "    \"Disciplines\": [\"PP2\", \"DS\", \"Calculus2\"],\n",
    "    \"Specialty\": \"R&M\"\n",
    "}\n",
    "print(mydict)"
   ]
  },
  {
   "cell_type": "code",
   "execution_count": 175,
   "id": "27c367f6-422b-4370-b189-524c040c93ea",
   "metadata": {},
   "outputs": [
    {
     "name": "stdout",
     "output_type": "stream",
     "text": [
      "<class 'dict'>\n"
     ]
    }
   ],
   "source": [
    "#Example 4\n",
    "mydict = {\n",
    "    \"Name\": \"Amina\",\n",
    "    \"Course\": 1,\n",
    "    \"Age\": 17,\n",
    "    \"Specialty\": \"R&M\"\n",
    "}\n",
    "print(type(mydict))"
   ]
  },
  {
   "cell_type": "code",
   "execution_count": 177,
   "id": "73f3d1cb-2244-4583-b4b5-2b6b695d7f61",
   "metadata": {},
   "outputs": [
    {
     "name": "stdout",
     "output_type": "stream",
     "text": [
      "{'Name': 'Amina', 'Course': 1, 'Age': 17}\n",
      "<class 'dict'>\n"
     ]
    }
   ],
   "source": [
    "#Example 5\n",
    "mydict = dict(Name = \"Amina\", Course = 1, Age = 17)\n",
    "print(mydict)\n",
    "print(type(mydict))"
   ]
  },
  {
   "cell_type": "markdown",
   "id": "882c9a6d-1d0d-485c-a73c-19d1a1f9040c",
   "metadata": {},
   "source": [
    "Accessing items"
   ]
  },
  {
   "cell_type": "code",
   "execution_count": 180,
   "id": "db256411-c8f6-457a-9895-e11dc571c011",
   "metadata": {},
   "outputs": [
    {
     "name": "stdout",
     "output_type": "stream",
     "text": [
      "17\n"
     ]
    }
   ],
   "source": [
    "#Example 1\n",
    "mydict = {\n",
    "    \"Name\": \"Amina\",\n",
    "    \"Course\": 1,\n",
    "    \"Age\": 17,\n",
    "    \"Specialty\": \"R&M\"\n",
    "}\n",
    "print(mydict[\"Age\"])"
   ]
  },
  {
   "cell_type": "code",
   "execution_count": 182,
   "id": "adc4264c-5258-418a-84fb-f8336c3cac69",
   "metadata": {},
   "outputs": [
    {
     "name": "stdout",
     "output_type": "stream",
     "text": [
      "17\n"
     ]
    }
   ],
   "source": [
    "#Example 2\n",
    "mydict  = {\n",
    "    \"Name\": \"Amina\",\n",
    "    \"Course\": 1,\n",
    "    \"Age\": 17,\n",
    "    \"Specialty\": \"R&M\"\n",
    "}\n",
    "x = mydict.get(\"Age\")\n",
    "print(x)"
   ]
  },
  {
   "cell_type": "code",
   "execution_count": 192,
   "id": "dc9fbd23-0bcb-43cc-89a5-e2d3c301fa52",
   "metadata": {},
   "outputs": [
    {
     "name": "stdout",
     "output_type": "stream",
     "text": [
      "dict_keys(['Name', 'Course', 'Age', 'Specialty'])\n"
     ]
    }
   ],
   "source": [
    "#Example 3\n",
    "mydict = {\n",
    "    \"Name\": \"Amina\",\n",
    "    \"Course\": 1,\n",
    "    \"Age\": 17,\n",
    "    \"Specialty\": \"R&M\"\n",
    "}\n",
    "\n",
    "print(mydict.keys())"
   ]
  },
  {
   "cell_type": "code",
   "execution_count": 190,
   "id": "017f5fb0-2ade-48a2-90e8-6884569b963c",
   "metadata": {},
   "outputs": [
    {
     "name": "stdout",
     "output_type": "stream",
     "text": [
      "dict_keys(['Name', 'Course', 'Age', 'Specialty'])\n",
      "dict_keys(['Name', 'Course', 'Age', 'Specialty', 'Hometown'])\n"
     ]
    }
   ],
   "source": [
    "#Example 4\n",
    "mydict = {\n",
    "    \"Name\": \"Amina\",\n",
    "    \"Course\": 1,\n",
    "    \"Age\": 17,\n",
    "    \"Specialty\": \"R&M\"\n",
    "}\n",
    "x = mydict.keys()\n",
    "print(x)\n",
    "\n",
    "mydict[\"Hometown\"] = \"Almaty\"\n",
    "print(x)"
   ]
  },
  {
   "cell_type": "code",
   "execution_count": 194,
   "id": "26dfa067-c239-4aa5-8674-5c4530aeaf50",
   "metadata": {},
   "outputs": [
    {
     "name": "stdout",
     "output_type": "stream",
     "text": [
      "dict_values(['Amina', 1, 17, 'R&M'])\n"
     ]
    }
   ],
   "source": [
    "#Example 5\n",
    "mydict = {\n",
    "    \"Name\": \"Amina\",\n",
    "    \"Course\": 1,\n",
    "    \"Age\": 17,\n",
    "    \"Specialty\": \"R&M\"\n",
    "}\n",
    "print(mydict.values())"
   ]
  },
  {
   "cell_type": "code",
   "execution_count": 196,
   "id": "2f5f07f7-6f47-4c69-977c-dfa8fe3feab0",
   "metadata": {},
   "outputs": [
    {
     "name": "stdout",
     "output_type": "stream",
     "text": [
      "dict_values(['Amina', 1, 17, 'R&M'])\n",
      "dict_values(['Amina', 1, 18, 'R&M'])\n"
     ]
    }
   ],
   "source": [
    "#Example 6\n",
    "mydict = {\n",
    "    \"Name\": \"Amina\",\n",
    "    \"Course\": 1,\n",
    "    \"Age\": 17,\n",
    "    \"Specialty\": \"R&M\"\n",
    "}\n",
    "x = mydict.values()\n",
    "print(x)\n",
    "\n",
    "mydict[\"Age\"] = 18\n",
    "print(x)"
   ]
  },
  {
   "cell_type": "code",
   "execution_count": 198,
   "id": "64e06c67-8d46-4002-ac59-cf42c2c45896",
   "metadata": {},
   "outputs": [
    {
     "name": "stdout",
     "output_type": "stream",
     "text": [
      "dict_values(['Amina', 1, 17, 'R&M'])\n",
      "dict_values(['Amina', 1, 17, 'R&M', 'Almaty'])\n"
     ]
    }
   ],
   "source": [
    "#Example 7\n",
    "mydict = {\n",
    "    \"Name\": \"Amina\",\n",
    "    \"Course\": 1,\n",
    "    \"Age\": 17,\n",
    "    \"Specialty\": \"R&M\"\n",
    "}\n",
    "x = mydict.values()\n",
    "print(x)\n",
    "\n",
    "mydict[\"Hometown\"] = \"Almaty\"\n",
    "print(x)"
   ]
  },
  {
   "cell_type": "code",
   "execution_count": 202,
   "id": "d9c50e4d-6c97-4187-a631-6d854070ff42",
   "metadata": {},
   "outputs": [
    {
     "name": "stdout",
     "output_type": "stream",
     "text": [
      "dict_items([('Name', 'Amina'), ('Course', 1), ('Age', 17), ('Specialty', 'R&M')])\n"
     ]
    }
   ],
   "source": [
    "#Example 8\n",
    "mydict = {\n",
    "    \"Name\": \"Amina\",\n",
    "    \"Course\": 1,\n",
    "    \"Age\": 17,\n",
    "    \"Specialty\": \"R&M\"\n",
    "}\n",
    "print(mydict.items())"
   ]
  },
  {
   "cell_type": "code",
   "execution_count": 204,
   "id": "16021877-6ca2-4062-b1ed-d91bbecc7df6",
   "metadata": {},
   "outputs": [
    {
     "name": "stdout",
     "output_type": "stream",
     "text": [
      "dict_items([('Name', 'Amina'), ('Course', 1), ('Age', 17), ('Specialty', 'R&M')])\n",
      "dict_items([('Name', 'Amina'), ('Course', 1), ('Age', 18), ('Specialty', 'R&M')])\n"
     ]
    }
   ],
   "source": [
    "#Example 9\n",
    "mydict  = {\n",
    "    \"Name\": \"Amina\",\n",
    "    \"Course\": 1,\n",
    "    \"Age\": 17,\n",
    "    \"Specialty\": \"R&M\"\n",
    "}\n",
    "x = mydict.items()\n",
    "print(x)\n",
    "\n",
    "mydict[\"Age\"] = 18\n",
    "print(x)"
   ]
  },
  {
   "cell_type": "code",
   "execution_count": 206,
   "id": "22783078-526e-4652-a790-ed17c26f42b8",
   "metadata": {},
   "outputs": [
    {
     "name": "stdout",
     "output_type": "stream",
     "text": [
      "dict_items([('Name', 'Amina'), ('Course', 1), ('Age', 17), ('Specialty', 'R&M')])\n",
      "dict_items([('Name', 'Amina'), ('Course', 1), ('Age', 17), ('Specialty', 'R&M'), ('Hometown', 'Almaty')])\n"
     ]
    }
   ],
   "source": [
    "#Example 10\n",
    "mydict = {\n",
    "    \"Name\": \"Amina\",\n",
    "    \"Course\": 1,\n",
    "    \"Age\": 17,\n",
    "    \"Specialty\": \"R&M\"\n",
    "}\n",
    "x = mydict.items()\n",
    "print(x)\n",
    "\n",
    "mydict[\"Hometown\"] = \"Almaty\"\n",
    "print(x)"
   ]
  },
  {
   "cell_type": "code",
   "execution_count": 208,
   "id": "8e3523dd-52b0-4c36-ab62-7c867d4bcc5b",
   "metadata": {},
   "outputs": [
    {
     "name": "stdout",
     "output_type": "stream",
     "text": [
      "She is the first course student\n"
     ]
    }
   ],
   "source": [
    "#Example 11\n",
    "mydict  = {\n",
    "    \"Name\": \"Amina\",\n",
    "    \"Course\": 1,\n",
    "    \"Age\": 17,\n",
    "    \"Specialty\": \"R&M\"\n",
    "}\n",
    "if \"Course\" in mydict:\n",
    "    print(\"She is the first course student\")"
   ]
  },
  {
   "cell_type": "markdown",
   "id": "74b4d87d-903a-43a0-a9d9-001f5fd9adbe",
   "metadata": {},
   "source": [
    "Change dictionary items"
   ]
  },
  {
   "cell_type": "code",
   "execution_count": 211,
   "id": "0499e65b-ddfe-4508-90c1-51652bede021",
   "metadata": {},
   "outputs": [
    {
     "name": "stdout",
     "output_type": "stream",
     "text": [
      "{'Name': 'Amina', 'Course': 1, 'Age': 18, 'Specialty': 'R&M'}\n"
     ]
    }
   ],
   "source": [
    "#Example 1\n",
    "mydict = {\n",
    "    \"Name\": \"Amina\",\n",
    "    \"Course\": 1,\n",
    "    \"Age\": 17,\n",
    "    \"Specialty\": \"R&M\"\n",
    "}\n",
    "mydict[\"Age\"] = 18\n",
    "print(mydict)"
   ]
  },
  {
   "cell_type": "code",
   "execution_count": 217,
   "id": "7f9fc131-d84f-499e-833e-9505d9a26f08",
   "metadata": {},
   "outputs": [
    {
     "name": "stdout",
     "output_type": "stream",
     "text": [
      "{'Name': 'Amina', 'Course': 1, 'Age': 18, 'Specialty': 'R&M'}\n"
     ]
    }
   ],
   "source": [
    "#Example 2\n",
    "mydict = {\n",
    "    \"Name\": \"Amina\",\n",
    "    \"Course\": 1,\n",
    "    \"Age\": 17,\n",
    "    \"Specialty\": \"R&M\"\n",
    "}\n",
    "mydict.update({\"Age\": 18})\n",
    "print(mydict)"
   ]
  },
  {
   "cell_type": "markdown",
   "id": "07ec8d02-f7bd-4141-b50a-d5489e868ea5",
   "metadata": {},
   "source": [
    "Add dictionary items"
   ]
  },
  {
   "cell_type": "code",
   "execution_count": 220,
   "id": "6e16042c-9466-4421-ae65-5e096825a12b",
   "metadata": {},
   "outputs": [
    {
     "name": "stdout",
     "output_type": "stream",
     "text": [
      "{'Name': 'Amina', 'Course': 1, 'Age': 17, 'Specialty': 'R&M', 'Hometown': 'Almaty'}\n"
     ]
    }
   ],
   "source": [
    "#Example 1\n",
    "mydict = {\n",
    "    \"Name\": \"Amina\",\n",
    "    \"Course\": 1,\n",
    "    \"Age\": 17,\n",
    "    \"Specialty\": \"R&M\"\n",
    "}\n",
    "mydict[\"Hometown\"] = \"Almaty\"\n",
    "print(mydict)"
   ]
  },
  {
   "cell_type": "code",
   "execution_count": 222,
   "id": "f87fc529-cfdb-4b88-9601-0d80b63a882a",
   "metadata": {},
   "outputs": [
    {
     "name": "stdout",
     "output_type": "stream",
     "text": [
      "{'Name': 'Amina', 'Course': 1, 'Age': 17, 'Specialty': 'R&M', 'Hometown': 'Almaty'}\n"
     ]
    }
   ],
   "source": [
    "#Example 2\n",
    "mydict = {\n",
    "    \"Name\": \"Amina\",\n",
    "    \"Course\": 1,\n",
    "    \"Age\": 17,\n",
    "    \"Specialty\": \"R&M\"\n",
    "}\n",
    "mydict.update({\"Hometown\": \"Almaty\"})\n",
    "print(mydict)"
   ]
  },
  {
   "cell_type": "markdown",
   "id": "4a268551-7488-4416-b757-7c913c0ddf8d",
   "metadata": {},
   "source": [
    "Remove dictionary items"
   ]
  },
  {
   "cell_type": "code",
   "execution_count": 225,
   "id": "28690720-9b39-4eb9-8ea9-2d73e0cb4a22",
   "metadata": {},
   "outputs": [
    {
     "name": "stdout",
     "output_type": "stream",
     "text": [
      "{'Name': 'Amina', 'Course': 1, 'Age': 17}\n"
     ]
    }
   ],
   "source": [
    "#Example 1\n",
    "mydict = {\n",
    "    \"Name\": \"Amina\",\n",
    "    \"Course\": 1,\n",
    "    \"Age\": 17,\n",
    "    \"Specialty\": \"R&M\"\n",
    "}\n",
    "mydict.pop(\"Specialty\")\n",
    "print(mydict)"
   ]
  },
  {
   "cell_type": "code",
   "execution_count": 229,
   "id": "e1ed5e86-b398-41f4-a57f-a7f86276e501",
   "metadata": {},
   "outputs": [
    {
     "name": "stdout",
     "output_type": "stream",
     "text": [
      "{'Name': 'Amina', 'Course': 1, 'Age': 17}\n"
     ]
    }
   ],
   "source": [
    "#Example 2 The popitem() method removes the last inserted item\n",
    "mydict = {\n",
    "    \"Name\": \"Amina\",\n",
    "    \"Course\": 1,\n",
    "    \"Age\": 17,\n",
    "    \"Specialty\": \"R&M\"\n",
    "}\n",
    "mydict.popitem()\n",
    "print(mydict)"
   ]
  },
  {
   "cell_type": "code",
   "execution_count": 231,
   "id": "65c7faa0-5b6c-4795-9be0-bb53a48fde10",
   "metadata": {},
   "outputs": [
    {
     "name": "stdout",
     "output_type": "stream",
     "text": [
      "{'Name': 'Amina', 'Course': 1, 'Specialty': 'R&M'}\n"
     ]
    }
   ],
   "source": [
    "#Example 3\n",
    "mydict = {\n",
    "    \"Name\": \"Amina\",\n",
    "    \"Course\": 1,\n",
    "    \"Age\": 17,\n",
    "    \"Specialty\": \"R&M\"\n",
    "}\n",
    "del mydict[\"Age\"]\n",
    "print(mydict)"
   ]
  },
  {
   "cell_type": "code",
   "execution_count": 233,
   "id": "d32ca54e-9f70-44f3-80a7-ebea1f64cae9",
   "metadata": {},
   "outputs": [
    {
     "ename": "NameError",
     "evalue": "name 'mydict' is not defined",
     "output_type": "error",
     "traceback": [
      "\u001b[1;31m---------------------------------------------------------------------------\u001b[0m",
      "\u001b[1;31mNameError\u001b[0m                                 Traceback (most recent call last)",
      "Cell \u001b[1;32mIn[233], line 9\u001b[0m\n\u001b[0;32m      2\u001b[0m mydict \u001b[38;5;241m=\u001b[39m {\n\u001b[0;32m      3\u001b[0m     \u001b[38;5;124m\"\u001b[39m\u001b[38;5;124mName\u001b[39m\u001b[38;5;124m\"\u001b[39m: \u001b[38;5;124m\"\u001b[39m\u001b[38;5;124mAmina\u001b[39m\u001b[38;5;124m\"\u001b[39m,\n\u001b[0;32m      4\u001b[0m     \u001b[38;5;124m\"\u001b[39m\u001b[38;5;124mCourse\u001b[39m\u001b[38;5;124m\"\u001b[39m: \u001b[38;5;241m1\u001b[39m,\n\u001b[0;32m      5\u001b[0m     \u001b[38;5;124m\"\u001b[39m\u001b[38;5;124mAge\u001b[39m\u001b[38;5;124m\"\u001b[39m: \u001b[38;5;241m17\u001b[39m,\n\u001b[0;32m      6\u001b[0m     \u001b[38;5;124m\"\u001b[39m\u001b[38;5;124mSpecialty\u001b[39m\u001b[38;5;124m\"\u001b[39m: \u001b[38;5;124m\"\u001b[39m\u001b[38;5;124mR&M\u001b[39m\u001b[38;5;124m\"\u001b[39m\n\u001b[0;32m      7\u001b[0m }\n\u001b[0;32m      8\u001b[0m \u001b[38;5;28;01mdel\u001b[39;00m mydict\n\u001b[1;32m----> 9\u001b[0m \u001b[38;5;28mprint\u001b[39m(mydict)\n",
      "\u001b[1;31mNameError\u001b[0m: name 'mydict' is not defined"
     ]
    }
   ],
   "source": [
    "#Example 4\n",
    "mydict = {\n",
    "    \"Name\": \"Amina\",\n",
    "    \"Course\": 1,\n",
    "    \"Age\": 17,\n",
    "    \"Specialty\": \"R&M\"\n",
    "}\n",
    "del mydict\n",
    "print(mydict)"
   ]
  },
  {
   "cell_type": "code",
   "execution_count": 236,
   "id": "57f549d0-166f-4566-8310-44748c1f4251",
   "metadata": {},
   "outputs": [
    {
     "name": "stdout",
     "output_type": "stream",
     "text": [
      "{}\n"
     ]
    }
   ],
   "source": [
    "#Example 5\n",
    "mydict = {\n",
    "    \"Name\": \"Amina\",\n",
    "    \"Course\": 1,\n",
    "    \"Age\": 17,\n",
    "    \"Specialty\": \"R&M\"\n",
    "}\n",
    "mydict.clear()\n",
    "print(mydict)"
   ]
  },
  {
   "cell_type": "markdown",
   "id": "452a56ce-5f1c-442a-8497-de00e39cef88",
   "metadata": {},
   "source": [
    "Loop dictionaries"
   ]
  },
  {
   "cell_type": "code",
   "execution_count": 239,
   "id": "a8df9ccd-3982-48eb-9ad5-3a05d5e67711",
   "metadata": {},
   "outputs": [
    {
     "name": "stdout",
     "output_type": "stream",
     "text": [
      "Name\n",
      "Course\n",
      "Age\n",
      "Specialty\n"
     ]
    }
   ],
   "source": [
    "#Example 1\n",
    "mydict = {\n",
    "    \"Name\": \"Amina\",\n",
    "    \"Course\": 1,\n",
    "    \"Age\": 17,\n",
    "    \"Specialty\": \"R&M\"\n",
    "}\n",
    "for x in mydict:\n",
    "    print(x)"
   ]
  },
  {
   "cell_type": "code",
   "execution_count": 241,
   "id": "f6a95ce6-1de1-487d-bb27-709fbc44160e",
   "metadata": {},
   "outputs": [
    {
     "name": "stdout",
     "output_type": "stream",
     "text": [
      "Amina\n",
      "1\n",
      "17\n",
      "R&M\n"
     ]
    }
   ],
   "source": [
    "#Example 2\n",
    "mydict = {\n",
    "    \"Name\": \"Amina\",\n",
    "    \"Course\": 1,\n",
    "    \"Age\": 17,\n",
    "    \"Specialty\": \"R&M\"\n",
    "}\n",
    "for x in mydict:\n",
    "    print(mydict[x])"
   ]
  },
  {
   "cell_type": "code",
   "execution_count": 243,
   "id": "8d98088c-746f-4e22-b2b3-8907c46ad67e",
   "metadata": {},
   "outputs": [
    {
     "name": "stdout",
     "output_type": "stream",
     "text": [
      "Amina\n",
      "1\n",
      "17\n",
      "R&M\n"
     ]
    }
   ],
   "source": [
    "#Example 3\n",
    "mydict = {\n",
    "    \"Name\": \"Amina\",\n",
    "    \"Course\": 1,\n",
    "    \"Age\": 17,\n",
    "    \"Specialty\": \"R&M\"\n",
    "}\n",
    "for x in mydict.values():\n",
    "    print(x)"
   ]
  },
  {
   "cell_type": "code",
   "execution_count": 245,
   "id": "0a2d2144-5be8-415d-a4f1-d248e15d0a55",
   "metadata": {},
   "outputs": [
    {
     "name": "stdout",
     "output_type": "stream",
     "text": [
      "Name\n",
      "Course\n",
      "Age\n",
      "Specialty\n"
     ]
    }
   ],
   "source": [
    "#Example 4\n",
    "mydict = {\n",
    "    \"Name\": \"Amina\",\n",
    "    \"Course\": 1,\n",
    "    \"Age\": 17,\n",
    "    \"Specialty\": \"R&M\"\n",
    "}\n",
    "for x in mydict.keys():\n",
    "    print(x)"
   ]
  },
  {
   "cell_type": "code",
   "execution_count": 247,
   "id": "7998fd71-b953-44a7-ae9f-8e990cd78130",
   "metadata": {},
   "outputs": [
    {
     "name": "stdout",
     "output_type": "stream",
     "text": [
      "Name Amina\n",
      "Course 1\n",
      "Age 17\n",
      "Specialty R&M\n"
     ]
    }
   ],
   "source": [
    "#Example 5\n",
    "mydict = {\n",
    "    \"Name\": \"Amina\",\n",
    "    \"Course\": 1,\n",
    "    \"Age\": 17,\n",
    "    \"Specialty\": \"R&M\"\n",
    "}\n",
    "for x, y in mydict.items():\n",
    "    print(x,y)"
   ]
  },
  {
   "cell_type": "markdown",
   "id": "63447c95-8441-4db0-88b5-dbd147e6b2a3",
   "metadata": {},
   "source": [
    "Copy dictionaries"
   ]
  },
  {
   "cell_type": "code",
   "execution_count": 250,
   "id": "baa69271-5a78-4040-852d-98d5e241b662",
   "metadata": {},
   "outputs": [
    {
     "name": "stdout",
     "output_type": "stream",
     "text": [
      "{'Name': 'Amina', 'Course': 1, 'Age': 17, 'Specialty': 'R&M'}\n"
     ]
    }
   ],
   "source": [
    "#Example 1\n",
    "mydict = {\n",
    "    \"Name\": \"Amina\",\n",
    "    \"Course\": 1,\n",
    "    \"Age\": 17,\n",
    "    \"Specialty\": \"R&M\"\n",
    "}\n",
    "mydictcopy = mydict.copy()\n",
    "print(mydictcopy)"
   ]
  },
  {
   "cell_type": "code",
   "execution_count": 252,
   "id": "666b2023-f567-4e50-a760-3fa586a011c2",
   "metadata": {},
   "outputs": [
    {
     "name": "stdout",
     "output_type": "stream",
     "text": [
      "{'Name': 'Amina', 'Course': 1, 'Age': 17, 'Specialty': 'R&M'}\n"
     ]
    }
   ],
   "source": [
    "#Example 2\n",
    "mydict = {\n",
    "    \"Name\": \"Amina\",\n",
    "    \"Course\": 1,\n",
    "    \"Age\": 17,\n",
    "    \"Specialty\": \"R&M\"\n",
    "}\n",
    "mydictcopy = dict(mydict)\n",
    "print(mydictcopy)"
   ]
  },
  {
   "cell_type": "markdown",
   "id": "a542a1eb-c363-466e-b552-7580da5bd15e",
   "metadata": {},
   "source": [
    "Nested dictionaries"
   ]
  },
  {
   "cell_type": "code",
   "execution_count": 255,
   "id": "3f8737c1-fd27-4db7-ae45-ebf424f05328",
   "metadata": {},
   "outputs": [
    {
     "name": "stdout",
     "output_type": "stream",
     "text": [
      "{'1st son': {'Name': 'James', 'House': 'Gryffindor'}, '2nd son': {'Name': 'Albus', 'House': 'Slytherin'}, '1st daughter': {'Name': 'Lily', 'House': 'Gryffindor'}}\n"
     ]
    }
   ],
   "source": [
    "#Example 1\n",
    "Potters = {\n",
    "    \"1st son\" : {\n",
    "        \"Name\": \"James\",\n",
    "        \"House\": \"Gryffindor\"\n",
    "    },\n",
    "    \"2nd son\" : {\n",
    "        \"Name\": \"Albus\",\n",
    "        \"House\": \"Slytherin\"\n",
    "    },\n",
    "    \"1st daughter\" : {\n",
    "        \"Name\": \"Lily\",\n",
    "        \"House\": \"Gryffindor\"\n",
    "    }\n",
    "}\n",
    "print(Potters)"
   ]
  },
  {
   "cell_type": "code",
   "execution_count": 263,
   "id": "cbb60864-35a3-4f12-9a6a-3473b1d514fd",
   "metadata": {},
   "outputs": [
    {
     "name": "stdout",
     "output_type": "stream",
     "text": [
      "{'1st son': {'Name': 'James', 'House': 'Gryffindor'}, '2nd son': {'Name': 'Albus', 'House': 'Slytherin'}, '1st daughter': {'Name': 'Lily', 'House': 'Gryffindor'}}\n"
     ]
    }
   ],
   "source": [
    "#Example 2\n",
    "first_son = {\n",
    "    \"Name\": \"James\",\n",
    "    \"House\": \"Gryffindor\"\n",
    "}\n",
    "second_son = {\n",
    "    \"Name\": \"Albus\",\n",
    "    \"House\": \"Slytherin\"\n",
    "}\n",
    "only_daughter = {\n",
    "    \"Name\": \"Lily\",\n",
    "    \"House\": \"Gryffindor\"\n",
    "}\n",
    "Potters = {\n",
    "    \"1st son\": first_son,\n",
    "    \"2nd son\": second_son,\n",
    "    \"1st daughter\": only_daughter\n",
    "}\n",
    "print(Potters)"
   ]
  },
  {
   "cell_type": "code",
   "execution_count": 265,
   "id": "24cc0a31-f48b-4ea1-b212-77c368ae4492",
   "metadata": {},
   "outputs": [
    {
     "name": "stdout",
     "output_type": "stream",
     "text": [
      "Lily\n"
     ]
    }
   ],
   "source": [
    "#Example 3\n",
    "first_son = {\n",
    "    \"Name\": \"James\",\n",
    "    \"House\": \"Gryffindor\"\n",
    "}\n",
    "second_son = {\n",
    "    \"Name\": \"Albus\",\n",
    "    \"House\": \"Slytherin\"\n",
    "}\n",
    "only_daughter = {\n",
    "    \"Name\": \"Lily\",\n",
    "    \"House\": \"Gryffindor\"\n",
    "}\n",
    "Potters = {\n",
    "    \"1st son\": first_son,\n",
    "    \"2nd son\": second_son,\n",
    "    \"1st daughter\": only_daughter\n",
    "}\n",
    "print(Potters[\"1st daughter\"][\"Name\"])"
   ]
  },
  {
   "cell_type": "code",
   "execution_count": 271,
   "id": "237ab9c8-e98f-4452-b0a4-7f2d16aaa0b5",
   "metadata": {},
   "outputs": [
    {
     "name": "stdout",
     "output_type": "stream",
     "text": [
      "1st son\n",
      "Name: James\n",
      "House: Gryffindor\n",
      "2nd son\n",
      "Name: Albus\n",
      "House: Slytherin\n",
      "1st daughter\n",
      "Name: Lily\n",
      "House: Gryffindor\n"
     ]
    }
   ],
   "source": [
    "#Example 4\n",
    "first_son = {\n",
    "    \"Name\": \"James\",\n",
    "    \"House\": \"Gryffindor\"\n",
    "}\n",
    "second_son = {\n",
    "    \"Name\": \"Albus\",\n",
    "    \"House\": \"Slytherin\"\n",
    "}\n",
    "only_daughter = {\n",
    "    \"Name\": \"Lily\",\n",
    "    \"House\": \"Gryffindor\"\n",
    "}\n",
    "Potters = {\n",
    "    \"1st son\": first_son,\n",
    "    \"2nd son\": second_son,\n",
    "    \"1st daughter\": only_daughter\n",
    "}\n",
    "for x, obj in Potters.items():\n",
    "    print(x)\n",
    "    \n",
    "    for y in obj:\n",
    "        print(y + \":\", obj[y])"
   ]
  },
  {
   "cell_type": "markdown",
   "id": "246a27ab-5473-4063-8437-da70f4a9c45d",
   "metadata": {},
   "source": [
    "IF...ELSE"
   ]
  },
  {
   "cell_type": "code",
   "execution_count": 14,
   "id": "f5e970ab-6c3e-4642-a7c1-3af3d6e627a0",
   "metadata": {},
   "outputs": [
    {
     "name": "stdout",
     "output_type": "stream",
     "text": [
      "y is greater than x\n"
     ]
    }
   ],
   "source": [
    "#Example 1\n",
    "x = 50\n",
    "y = 95\n",
    "if y > x:\n",
    "    print(\"y is greater than x\")"
   ]
  },
  {
   "cell_type": "code",
   "execution_count": 18,
   "id": "df40489b-a9f1-436b-b645-8f7fdd73d264",
   "metadata": {},
   "outputs": [
    {
     "ename": "IndentationError",
     "evalue": "expected an indented block after 'if' statement on line 4 (1633468318.py, line 5)",
     "output_type": "error",
     "traceback": [
      "\u001b[1;36m  Cell \u001b[1;32mIn[18], line 5\u001b[1;36m\u001b[0m\n\u001b[1;33m    print(\"y is greater than x\")\u001b[0m\n\u001b[1;37m    ^\u001b[0m\n\u001b[1;31mIndentationError\u001b[0m\u001b[1;31m:\u001b[0m expected an indented block after 'if' statement on line 4\n"
     ]
    }
   ],
   "source": [
    "#Example 2 No indentation which will result an error\n",
    "x = 16\n",
    "y = 36\n",
    "if y > x:\n",
    "print(\"y is greater than x\")"
   ]
  },
  {
   "cell_type": "code",
   "execution_count": 22,
   "id": "e94a7270-d5cc-49c1-9d30-ea4d440a59da",
   "metadata": {},
   "outputs": [
    {
     "name": "stdout",
     "output_type": "stream",
     "text": [
      "a and b are equal\n"
     ]
    }
   ],
   "source": [
    "#Example 3 elif is the same as else if\n",
    "a = 55\n",
    "b = 55\n",
    "if b > a:\n",
    "    print(\"b is greater than a\")\n",
    "elif a == b:\n",
    "    print(\"a and b are equal\")"
   ]
  },
  {
   "cell_type": "code",
   "execution_count": 24,
   "id": "e4b7bccf-8938-456d-97bd-92c9a431cb05",
   "metadata": {},
   "outputs": [
    {
     "name": "stdout",
     "output_type": "stream",
     "text": [
      "a is greater than b\n"
     ]
    }
   ],
   "source": [
    "#Example 4\n",
    "a = 40\n",
    "b = 16\n",
    "if b > a:\n",
    "    print(\"b is greater than a\")\n",
    "elif a == b:\n",
    "    print(\"a and b are equal\")\n",
    "else:\n",
    "    print(\"a is greater than b\")"
   ]
  },
  {
   "cell_type": "code",
   "execution_count": 26,
   "id": "b68554ee-ffee-40c0-ab7f-b46e9a2c8da1",
   "metadata": {},
   "outputs": [
    {
     "name": "stdout",
     "output_type": "stream",
     "text": [
      "b is not greater than a\n"
     ]
    }
   ],
   "source": [
    "#Example 5\n",
    "a = 16\n",
    "b = 10\n",
    "if b > a:\n",
    "    print(\"b is greater than a\")\n",
    "else:\n",
    "    print(\"b is not greater than a\")"
   ]
  },
  {
   "cell_type": "code",
   "execution_count": 28,
   "id": "9be2667c-8e02-46a2-bccf-3a5612be9039",
   "metadata": {},
   "outputs": [
    {
     "name": "stdout",
     "output_type": "stream",
     "text": [
      "a is greater than b\n"
     ]
    }
   ],
   "source": [
    "#Example 6 Short if\n",
    "if a > b: print(\"a is greater than b\")"
   ]
  },
  {
   "cell_type": "code",
   "execution_count": 30,
   "id": "86af8bc7-e028-49b0-a475-07c1fa5ab07e",
   "metadata": {},
   "outputs": [
    {
     "name": "stdout",
     "output_type": "stream",
     "text": [
      "B\n"
     ]
    }
   ],
   "source": [
    "#Example 7 Short is else\n",
    "a = 20\n",
    "b = 300\n",
    "print(\"A\") if a > b else print(\"B\")"
   ]
  },
  {
   "cell_type": "code",
   "execution_count": 34,
   "id": "36783889-c595-4066-aa20-753d3ef2d31c",
   "metadata": {},
   "outputs": [
    {
     "name": "stdout",
     "output_type": "stream",
     "text": [
      "=\n"
     ]
    }
   ],
   "source": [
    "#Example 8 \n",
    "a = 50\n",
    "b = 50\n",
    "print(\"A\") if a > b else print(\"=\") if a == b else print(\"B\")"
   ]
  },
  {
   "cell_type": "code",
   "execution_count": 36,
   "id": "d3a1bd73-b216-409b-945f-ae3427861b36",
   "metadata": {},
   "outputs": [
    {
     "name": "stdout",
     "output_type": "stream",
     "text": [
      "Both conditions are True\n"
     ]
    }
   ],
   "source": [
    "#Example 9\n",
    "a = 25\n",
    "b = 20\n",
    "c = 35\n",
    "if a > b and c > a:\n",
    "    print(\"Both conditions are True\")"
   ]
  },
  {
   "cell_type": "code",
   "execution_count": 38,
   "id": "1637943f-acee-41b3-8600-16c13999f3f5",
   "metadata": {},
   "outputs": [
    {
     "name": "stdout",
     "output_type": "stream",
     "text": [
      "At least one of the conditions is True\n"
     ]
    }
   ],
   "source": [
    "#Example 10\n",
    "x = 24\n",
    "y = 16\n",
    "z = 39\n",
    "if a > b or a > c:\n",
    "    print(\"At least one of the conditions is True\")"
   ]
  },
  {
   "cell_type": "code",
   "execution_count": 42,
   "id": "bc64d06e-95ef-4771-9d11-d7817fa8973e",
   "metadata": {},
   "outputs": [
    {
     "name": "stdout",
     "output_type": "stream",
     "text": [
      "X is NOT greater than y\n"
     ]
    }
   ],
   "source": [
    "#Example 11\n",
    "x = 15\n",
    "b = 18\n",
    "if not x > y:\n",
    "    print(\"X is NOT greater than y\")"
   ]
  },
  {
   "cell_type": "code",
   "execution_count": 50,
   "id": "aa0cabe8-f713-443f-8ce7-890d05fe1bbb",
   "metadata": {},
   "outputs": [
    {
     "name": "stdout",
     "output_type": "stream",
     "text": [
      "Above five,\n",
      "and also above 30!\n"
     ]
    }
   ],
   "source": [
    "#Example 12\n",
    "s = 35\n",
    "if s > 5:\n",
    "    print(\"Above five,\")\n",
    "    if s > 30:\n",
    "        print(\"and also above 30!\")\n",
    "    else:\n",
    "        print(\"but not above 30.\")"
   ]
  },
  {
   "cell_type": "code",
   "execution_count": 52,
   "id": "ef850313-b426-49e2-b8c9-ef856cf0abb7",
   "metadata": {},
   "outputs": [],
   "source": [
    "#Example 13\n",
    "a = 60\n",
    "b = 90\n",
    "if b > a:\n",
    "    pass"
   ]
  },
  {
   "cell_type": "code",
   "execution_count": null,
   "id": "b0d0be1c-af43-4181-9ca5-3d0a51f35edf",
   "metadata": {},
   "outputs": [],
   "source": []
  }
 ],
 "metadata": {
  "kernelspec": {
   "display_name": "Python [conda env:base] *",
   "language": "python",
   "name": "conda-base-py"
  },
  "language_info": {
   "codemirror_mode": {
    "name": "ipython",
    "version": 3
   },
   "file_extension": ".py",
   "mimetype": "text/x-python",
   "name": "python",
   "nbconvert_exporter": "python",
   "pygments_lexer": "ipython3",
   "version": "3.12.7"
  }
 },
 "nbformat": 4,
 "nbformat_minor": 5
}
